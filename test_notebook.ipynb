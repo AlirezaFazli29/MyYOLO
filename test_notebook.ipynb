{
 "cells": [
  {
   "cell_type": "markdown",
   "metadata": {},
   "source": [
    "# Test Yolo Inference"
   ]
  },
  {
   "cell_type": "code",
   "execution_count": 1,
   "metadata": {},
   "outputs": [],
   "source": [
    "import services.ai_services.my_models as Models\n",
    "import services.image_handler.utils as IMUtils\n",
    "import services.ai_services.inferences as INF"
   ]
  },
  {
   "cell_type": "code",
   "execution_count": null,
   "metadata": {},
   "outputs": [],
   "source": [
    "yolo = Models.YOLOv8(Models.YoloType.Custom.Plate_best)"
   ]
  },
  {
   "cell_type": "code",
   "execution_count": null,
   "metadata": {},
   "outputs": [],
   "source": [
    "image = IMUtils.read_image('C:/Users/Alireza/Desktop/plate/2171038_FRONT.jpg')\n",
    "image_rgb = IMUtils.convert_to_rgb(image)\n",
    "image2 = IMUtils.read_image('C:/Users/Alireza/Desktop/plate/2170593_FRONT.jpg')\n",
    "image_rgb2 = IMUtils.convert_to_rgb(image2)\n",
    "IMUtils.show_image(image_rgb)\n",
    "IMUtils.show_image(image_rgb2)\n",
    "images = [image, image2]"
   ]
  },
  {
   "cell_type": "code",
   "execution_count": 6,
   "metadata": {},
   "outputs": [],
   "source": [
    "inference = INF.YOLOInference(yolo)"
   ]
  },
  {
   "cell_type": "code",
   "execution_count": null,
   "metadata": {},
   "outputs": [],
   "source": [
    "cropped_out = inference.run_full_pipeline(images)\n",
    "for i in cropped_out:\n",
    "    IMUtils.show_image(i, turn_grey=True, cmap='grey')"
   ]
  },
  {
   "cell_type": "markdown",
   "metadata": {},
   "source": [
    "# Get and Save Plates"
   ]
  },
  {
   "cell_type": "code",
   "execution_count": 1,
   "metadata": {},
   "outputs": [],
   "source": [
    "import services.image_handler.utils as IMUtils\n",
    "import services.ai_services.inferences as INF\n",
    "import services.ai_services.my_models as Models"
   ]
  },
  {
   "cell_type": "code",
   "execution_count": 2,
   "metadata": {},
   "outputs": [
    {
     "name": "stderr",
     "output_type": "stream",
     "text": [
      "Reading images: 100%|██████████| 139/139 [00:02<00:00, 64.51file/s]\n"
     ]
    }
   ],
   "source": [
    "images = IMUtils.read_images_from_file(\"C:/Users/Alireza/Desktop/cars/\")"
   ]
  },
  {
   "cell_type": "code",
   "execution_count": 4,
   "metadata": {},
   "outputs": [
    {
     "name": "stdout",
     "output_type": "stream",
     "text": [
      "Loading YOLO model from weights/best(plate).pt ...\n",
      "\n",
      " =====================================================================================\n",
      "Layer (type:depth-idx)                                       Param #\n",
      "=====================================================================================\n",
      "YOLO                                                         --\n",
      "├─DetectionModel: 1-1                                        --\n",
      "│    └─Sequential: 2-1                                       --\n",
      "│    │    └─Conv: 3-1                                        (1,392)\n",
      "│    │    └─Conv: 3-2                                        (41,664)\n",
      "│    │    └─C2f: 3-3                                         (111,360)\n",
      "│    │    └─Conv: 3-4                                        (166,272)\n",
      "│    │    └─C2f: 3-5                                         (813,312)\n",
      "│    │    └─Conv: 3-6                                        (664,320)\n",
      "│    │    └─C2f: 3-7                                         (3,248,640)\n",
      "│    │    └─Conv: 3-8                                        (1,991,808)\n",
      "│    │    └─C2f: 3-9                                         (3,985,920)\n",
      "│    │    └─SPPF: 3-10                                       (831,168)\n",
      "│    │    └─Upsample: 3-11                                   --\n",
      "│    │    └─Concat: 3-12                                     --\n",
      "│    │    └─C2f: 3-13                                        (1,993,728)\n",
      "│    │    └─Upsample: 3-14                                   --\n",
      "│    │    └─Concat: 3-15                                     --\n",
      "│    │    └─C2f: 3-16                                        (517,632)\n",
      "│    │    └─Conv: 3-17                                       (332,160)\n",
      "│    │    └─Concat: 3-18                                     --\n",
      "│    │    └─C2f: 3-19                                        (1,846,272)\n",
      "│    │    └─Conv: 3-20                                       (1,327,872)\n",
      "│    │    └─Concat: 3-21                                     --\n",
      "│    │    └─C2f: 3-22                                        (4,207,104)\n",
      "│    │    └─Detect: 3-23                                     (1,141,075)\n",
      "=====================================================================================\n",
      "Total params: 23,221,699\n",
      "Trainable params: 0\n",
      "Non-trainable params: 23,221,699\n",
      "=====================================================================================\n"
     ]
    }
   ],
   "source": [
    "model = Models.YOLOv8(Models.YoloType.Custom.Plate_best)\n",
    "inference = INF.YOLOInference(model)"
   ]
  },
  {
   "cell_type": "code",
   "execution_count": 5,
   "metadata": {},
   "outputs": [
    {
     "name": "stdout",
     "output_type": "stream",
     "text": [
      "Running full pipeline... \n",
      "\n",
      "conf=0.5, show=False, save=False\n",
      "Running inference on Image\n",
      "\n",
      "0: 640x640 1 plate, 19.2ms\n",
      "1: 640x640 1 plate, 19.2ms\n",
      "2: 640x640 1 plate, 19.2ms\n",
      "3: 640x640 1 plate, 19.2ms\n",
      "4: 640x640 2 plates, 19.2ms\n",
      "5: 640x640 8 plates, 19.2ms\n",
      "6: 640x640 6 plates, 19.2ms\n",
      "7: 640x640 1 plate, 19.2ms\n",
      "8: 640x640 1 plate, 19.2ms\n",
      "9: 640x640 1 plate, 19.2ms\n",
      "10: 640x640 2 plates, 19.2ms\n",
      "11: 640x640 1 plate, 19.2ms\n",
      "12: 640x640 1 plate, 19.2ms\n",
      "13: 640x640 1 plate, 19.2ms\n",
      "14: 640x640 1 plate, 19.2ms\n",
      "15: 640x640 1 plate, 19.2ms\n",
      "Speed: 17.1ms preprocess, 19.2ms inference, 6.7ms postprocess per image at shape (1, 3, 640, 640)\n",
      "Yolo results are generated for batch 0 \n",
      "\n",
      "Found Bounding Boxes\n",
      "Images were cropped \n",
      "\n",
      "conf=0.5, show=False, save=False\n",
      "Running inference on Image\n",
      "\n",
      "0: 640x640 1 plate, 17.3ms\n",
      "1: 640x640 1 plate, 17.3ms\n",
      "2: 640x640 1 plate, 17.3ms\n",
      "3: 640x640 1 plate, 17.3ms\n",
      "4: 640x640 1 plate, 17.3ms\n",
      "5: 640x640 2 plates, 17.3ms\n",
      "6: 640x640 1 plate, 17.3ms\n",
      "7: 640x640 1 plate, 17.3ms\n",
      "8: 640x640 1 plate, 17.3ms\n",
      "9: 640x640 1 plate, 17.3ms\n",
      "10: 640x640 1 plate, 17.3ms\n",
      "11: 640x640 1 plate, 17.3ms\n",
      "12: 640x640 1 plate, 17.3ms\n",
      "13: 640x640 1 plate, 17.3ms\n",
      "14: 640x640 1 plate, 17.3ms\n",
      "15: 640x640 1 plate, 17.3ms\n",
      "Speed: 11.1ms preprocess, 17.3ms inference, 1.1ms postprocess per image at shape (1, 3, 640, 640)\n",
      "Yolo results are generated for batch 1 \n",
      "\n",
      "Found Bounding Boxes\n",
      "Images were cropped \n",
      "\n",
      "conf=0.5, show=False, save=False\n",
      "Running inference on Image\n",
      "\n",
      "0: 640x640 1 plate, 17.3ms\n",
      "1: 640x640 1 plate, 17.3ms\n",
      "2: 640x640 1 plate, 17.3ms\n",
      "3: 640x640 2 plates, 17.3ms\n",
      "4: 640x640 1 plate, 17.3ms\n",
      "5: 640x640 1 plate, 17.3ms\n",
      "6: 640x640 2 plates, 17.3ms\n",
      "7: 640x640 1 plate, 17.3ms\n",
      "8: 640x640 1 plate, 17.3ms\n",
      "9: 640x640 1 plate, 17.3ms\n",
      "10: 640x640 1 plate, 17.3ms\n",
      "11: 640x640 2 plates, 17.3ms\n",
      "12: 640x640 2 plates, 17.3ms\n",
      "13: 640x640 1 plate, 17.3ms\n",
      "14: 640x640 2 plates, 17.3ms\n",
      "15: 640x640 1 plate, 17.3ms\n",
      "Speed: 7.1ms preprocess, 17.3ms inference, 1.2ms postprocess per image at shape (1, 3, 640, 640)\n",
      "Yolo results are generated for batch 2 \n",
      "\n",
      "Found Bounding Boxes\n",
      "Images were cropped \n",
      "\n",
      "conf=0.5, show=False, save=False\n",
      "Running inference on Image\n",
      "\n",
      "0: 640x640 1 plate, 17.3ms\n",
      "1: 640x640 2 plates, 17.3ms\n",
      "2: 640x640 1 plate, 17.3ms\n",
      "3: 640x640 2 plates, 17.3ms\n",
      "4: 640x640 1 plate, 17.3ms\n",
      "5: 640x640 2 plates, 17.3ms\n",
      "6: 640x640 1 plate, 17.3ms\n",
      "7: 640x640 1 plate, 17.3ms\n",
      "8: 640x640 2 plates, 17.3ms\n",
      "9: 640x640 1 plate, 17.3ms\n",
      "10: 640x640 1 plate, 17.3ms\n",
      "11: 640x640 1 plate, 17.3ms\n",
      "12: 640x640 1 plate, 17.3ms\n",
      "13: 640x640 1 plate, 17.3ms\n",
      "14: 640x640 2 plates, 17.3ms\n",
      "15: 640x640 2 plates, 17.3ms\n",
      "Speed: 9.3ms preprocess, 17.3ms inference, 1.1ms postprocess per image at shape (1, 3, 640, 640)\n",
      "Yolo results are generated for batch 3 \n",
      "\n",
      "Found Bounding Boxes\n",
      "Images were cropped \n",
      "\n",
      "conf=0.5, show=False, save=False\n",
      "Running inference on Image\n",
      "\n",
      "0: 640x640 2 plates, 17.2ms\n",
      "1: 640x640 1 plate, 17.2ms\n",
      "2: 640x640 1 plate, 17.2ms\n",
      "3: 640x640 (no detections), 17.2ms\n",
      "4: 640x640 1 plate, 17.2ms\n",
      "5: 640x640 1 plate, 17.2ms\n",
      "6: 640x640 2 plates, 17.2ms\n",
      "7: 640x640 1 plate, 17.2ms\n",
      "8: 640x640 1 plate, 17.2ms\n",
      "9: 640x640 1 plate, 17.2ms\n",
      "10: 640x640 1 plate, 17.2ms\n",
      "11: 640x640 2 plates, 17.2ms\n",
      "12: 640x640 2 plates, 17.2ms\n",
      "13: 640x640 (no detections), 17.2ms\n",
      "14: 640x640 1 plate, 17.2ms\n",
      "15: 640x640 1 plate, 17.2ms\n",
      "Speed: 13.8ms preprocess, 17.2ms inference, 1.0ms postprocess per image at shape (1, 3, 640, 640)\n",
      "Yolo results are generated for batch 4 \n",
      "\n",
      "Found Bounding Boxes\n",
      "Images were cropped \n",
      "\n",
      "conf=0.5, show=False, save=False\n",
      "Running inference on Image\n",
      "\n",
      "0: 640x640 1 plate, 17.2ms\n",
      "1: 640x640 1 plate, 17.2ms\n",
      "2: 640x640 1 plate, 17.2ms\n",
      "3: 640x640 1 plate, 17.2ms\n",
      "4: 640x640 3 plates, 17.2ms\n",
      "5: 640x640 1 plate, 17.2ms\n",
      "6: 640x640 1 plate, 17.2ms\n",
      "7: 640x640 1 plate, 17.2ms\n",
      "8: 640x640 3 plates, 17.2ms\n",
      "9: 640x640 3 plates, 17.2ms\n",
      "10: 640x640 2 plates, 17.2ms\n",
      "11: 640x640 1 plate, 17.2ms\n",
      "12: 640x640 1 plate, 17.2ms\n",
      "13: 640x640 1 plate, 17.2ms\n",
      "14: 640x640 1 plate, 17.2ms\n",
      "15: 640x640 1 plate, 17.2ms\n",
      "Speed: 9.7ms preprocess, 17.2ms inference, 1.0ms postprocess per image at shape (1, 3, 640, 640)\n",
      "Yolo results are generated for batch 5 \n",
      "\n",
      "Found Bounding Boxes\n",
      "Images were cropped \n",
      "\n",
      "conf=0.5, show=False, save=False\n",
      "Running inference on Image\n",
      "\n",
      "0: 640x640 2 plates, 17.3ms\n",
      "1: 640x640 1 plate, 17.3ms\n",
      "2: 640x640 2 plates, 17.3ms\n",
      "3: 640x640 1 plate, 17.3ms\n",
      "4: 640x640 2 plates, 17.3ms\n",
      "5: 640x640 2 plates, 17.3ms\n",
      "6: 640x640 2 plates, 17.3ms\n",
      "7: 640x640 2 plates, 17.3ms\n",
      "8: 640x640 3 plates, 17.3ms\n",
      "9: 640x640 1 plate, 17.3ms\n",
      "10: 640x640 1 plate, 17.3ms\n",
      "11: 640x640 2 plates, 17.3ms\n",
      "12: 640x640 1 plate, 17.3ms\n",
      "13: 640x640 1 plate, 17.3ms\n",
      "14: 640x640 1 plate, 17.3ms\n",
      "15: 640x640 1 plate, 17.3ms\n",
      "Speed: 12.9ms preprocess, 17.3ms inference, 1.3ms postprocess per image at shape (1, 3, 640, 640)\n",
      "Yolo results are generated for batch 6 \n",
      "\n",
      "Found Bounding Boxes\n",
      "Images were cropped \n",
      "\n",
      "conf=0.5, show=False, save=False\n",
      "Running inference on Image\n",
      "\n",
      "0: 640x640 1 plate, 17.2ms\n",
      "1: 640x640 2 plates, 17.2ms\n",
      "2: 640x640 1 plate, 17.2ms\n",
      "3: 640x640 1 plate, 17.2ms\n",
      "4: 640x640 1 plate, 17.2ms\n",
      "5: 640x640 1 plate, 17.2ms\n",
      "6: 640x640 1 plate, 17.2ms\n",
      "7: 640x640 (no detections), 17.2ms\n",
      "8: 640x640 2 plates, 17.2ms\n",
      "9: 640x640 1 plate, 17.2ms\n",
      "10: 640x640 3 plates, 17.2ms\n",
      "11: 640x640 1 plate, 17.2ms\n",
      "12: 640x640 1 plate, 17.2ms\n",
      "13: 640x640 1 plate, 17.2ms\n",
      "14: 640x640 1 plate, 17.2ms\n",
      "15: 640x640 1 plate, 17.2ms\n",
      "Speed: 12.7ms preprocess, 17.2ms inference, 1.1ms postprocess per image at shape (1, 3, 640, 640)\n",
      "Yolo results are generated for batch 7 \n",
      "\n",
      "Found Bounding Boxes\n",
      "Images were cropped \n",
      "\n",
      "conf=0.5, show=False, save=False\n",
      "Running inference on Image\n",
      "\n",
      "0: 640x640 2 plates, 20.2ms\n",
      "1: 640x640 1 plate, 20.2ms\n",
      "2: 640x640 2 plates, 20.2ms\n",
      "3: 640x640 1 plate, 20.2ms\n",
      "4: 640x640 1 plate, 20.2ms\n",
      "5: 640x640 1 plate, 20.2ms\n",
      "6: 640x640 1 plate, 20.2ms\n",
      "7: 640x640 1 plate, 20.2ms\n",
      "8: 640x640 4 plates, 20.2ms\n",
      "9: 640x640 (no detections), 20.2ms\n",
      "10: 640x640 1 plate, 20.2ms\n",
      "Speed: 4.4ms preprocess, 20.2ms inference, 1.2ms postprocess per image at shape (1, 3, 640, 640)\n",
      "Yolo results are generated for batch 8 \n",
      "\n",
      "Found Bounding Boxes\n",
      "Images were cropped \n",
      "\n",
      "All images were cropped successfully\n"
     ]
    }
   ],
   "source": [
    "cropped_out = inference.run_full_pipeline(images)"
   ]
  },
  {
   "cell_type": "code",
   "execution_count": 6,
   "metadata": {},
   "outputs": [
    {
     "name": "stderr",
     "output_type": "stream",
     "text": [
      "Saving images: 100%|██████████| 190/190 [00:00<00:00, 689.37file/s]"
     ]
    },
    {
     "name": "stdout",
     "output_type": "stream",
     "text": [
      "Files were saved successfully in C:/Users/Alireza/Desktop/plates/ \n",
      "\n"
     ]
    },
    {
     "name": "stderr",
     "output_type": "stream",
     "text": [
      "\n"
     ]
    }
   ],
   "source": [
    "output_dir = \"C:/Users/Alireza/Desktop/plates/\"\n",
    "IMUtils.save_cropped_images(cropped_out, output_dir)"
   ]
  },
  {
   "cell_type": "markdown",
   "metadata": {},
   "source": [
    "# Training"
   ]
  },
  {
   "cell_type": "code",
   "execution_count": 1,
   "metadata": {},
   "outputs": [],
   "source": [
    "from services.ai_services.my_models import Plate_ResNet\n",
    "import services.ai_services.utils as AIUtils\n",
    "from torch.utils.data import DataLoader"
   ]
  },
  {
   "cell_type": "code",
   "execution_count": 17,
   "metadata": {},
   "outputs": [
    {
     "name": "stdout",
     "output_type": "stream",
     "text": [
      "NVIDIA GeForce GTX 1660 Ti have been located and selected\n",
      "Selected model is ResNetType.Base\n",
      "ResNet18\n",
      "======================================================================\n",
      "Layer (type:depth-idx)                        Param #\n",
      "======================================================================\n",
      "CustomResNet                                  --\n",
      "├─ResNet: 1-1                                 --\n",
      "│    └─Conv2d: 2-1                            9,408\n",
      "│    └─BatchNorm2d: 2-2                       128\n",
      "│    └─ReLU: 2-3                              --\n",
      "│    └─MaxPool2d: 2-4                         --\n",
      "│    └─Sequential: 2-5                        --\n",
      "│    │    └─BasicBlock: 3-1                   73,984\n",
      "│    │    └─BasicBlock: 3-2                   73,984\n",
      "│    └─Sequential: 2-6                        --\n",
      "│    │    └─BasicBlock: 3-3                   230,144\n",
      "│    │    └─BasicBlock: 3-4                   295,424\n",
      "│    └─Sequential: 2-7                        --\n",
      "│    │    └─BasicBlock: 3-5                   919,040\n",
      "│    │    └─BasicBlock: 3-6                   1,180,672\n",
      "│    └─Sequential: 2-8                        --\n",
      "│    │    └─BasicBlock: 3-7                   3,673,088\n",
      "│    │    └─BasicBlock: 3-8                   4,720,640\n",
      "│    └─AdaptiveAvgPool2d: 2-9                 --\n",
      "│    └─Dropout: 2-10                          --\n",
      "├─Sequential: 1-2                             --\n",
      "│    └─Linear: 2-11                           65,664\n",
      "│    └─SiLU: 2-12                             --\n",
      "│    └─Linear: 2-13                           4,128\n",
      "│    └─SiLU: 2-14                             --\n",
      "├─Linear: 1-3                                 66\n",
      "├─Linear: 1-4                                 66\n",
      "├─Linear: 1-5                                 66\n",
      "├─Linear: 1-6                                 66\n",
      "======================================================================\n",
      "Total params: 11,246,568\n",
      "Trainable params: 11,246,568\n",
      "Non-trainable params: 0\n",
      "====================================================================== \n",
      "\n"
     ]
    }
   ],
   "source": [
    "device = AIUtils.select_device()\n",
    "res = Plate_ResNet(device=device)"
   ]
  },
  {
   "cell_type": "code",
   "execution_count": 18,
   "metadata": {},
   "outputs": [
    {
     "name": "stdout",
     "output_type": "stream",
     "text": [
      "Start freezing feature extractor ...\n",
      "Feature extractor freezed\n",
      "Model is in cuda\n",
      "======================================================================\n",
      "Layer (type:depth-idx)                        Param #\n",
      "======================================================================\n",
      "CustomResNet                                  --\n",
      "├─ResNet: 1-1                                 --\n",
      "│    └─Conv2d: 2-1                            (9,408)\n",
      "│    └─BatchNorm2d: 2-2                       (128)\n",
      "│    └─ReLU: 2-3                              --\n",
      "│    └─MaxPool2d: 2-4                         --\n",
      "│    └─Sequential: 2-5                        --\n",
      "│    │    └─BasicBlock: 3-1                   (73,984)\n",
      "│    │    └─BasicBlock: 3-2                   (73,984)\n",
      "│    └─Sequential: 2-6                        --\n",
      "│    │    └─BasicBlock: 3-3                   (230,144)\n",
      "│    │    └─BasicBlock: 3-4                   (295,424)\n",
      "│    └─Sequential: 2-7                        --\n",
      "│    │    └─BasicBlock: 3-5                   (919,040)\n",
      "│    │    └─BasicBlock: 3-6                   (1,180,672)\n",
      "│    └─Sequential: 2-8                        --\n",
      "│    │    └─BasicBlock: 3-7                   (3,673,088)\n",
      "│    │    └─BasicBlock: 3-8                   (4,720,640)\n",
      "│    └─AdaptiveAvgPool2d: 2-9                 --\n",
      "│    └─Dropout: 2-10                          --\n",
      "├─Sequential: 1-2                             --\n",
      "│    └─Linear: 2-11                           65,664\n",
      "│    └─SiLU: 2-12                             --\n",
      "│    └─Linear: 2-13                           4,128\n",
      "│    └─SiLU: 2-14                             --\n",
      "├─Linear: 1-3                                 66\n",
      "├─Linear: 1-4                                 66\n",
      "├─Linear: 1-5                                 66\n",
      "├─Linear: 1-6                                 66\n",
      "======================================================================\n",
      "Total params: 11,246,568\n",
      "Trainable params: 70,056\n",
      "Non-trainable params: 11,176,512\n",
      "======================================================================\n"
     ]
    }
   ],
   "source": [
    "res.freeze_unfreeze(True)\n",
    "res.write_summary()"
   ]
  },
  {
   "cell_type": "code",
   "execution_count": 19,
   "metadata": {},
   "outputs": [],
   "source": [
    "train_dataset = AIUtils.CustomResNetDataset(\"C:/Users/Alireza/Desktop/plate_data/train/images\",\n",
    "                                            \"C:/Users/Alireza/Desktop/plate_data/train/labels\")\n",
    "train_loader = DataLoader(train_dataset, 16, shuffle=True)\n",
    "\n",
    "valid_dataset = AIUtils.CustomResNetDataset(\"C:/Users/Alireza/Desktop/plate_data/valid/images\",\n",
    "                                            \"C:/Users/Alireza/Desktop/plate_data/valid/labels\")\n",
    "valid_loader = DataLoader(valid_dataset, 16, shuffle=True)"
   ]
  },
  {
   "cell_type": "code",
   "execution_count": 20,
   "metadata": {},
   "outputs": [],
   "source": [
    "import torch.nn as nn\n",
    "import torch.optim as optim"
   ]
  },
  {
   "cell_type": "code",
   "execution_count": 22,
   "metadata": {},
   "outputs": [
    {
     "name": "stdout",
     "output_type": "stream",
     "text": [
      "Starting training process for model ResNetType.Base ...\n",
      "Hyper Parameters:\n",
      "- Epochs Number = 150\n",
      "- Learning Rate = 0.001\n",
      "- Weight Decay = 0.001\n",
      "- Loss Function = MSELoss()\n",
      "- Optimizer = Adam (\n",
      "Parameter Group 0\n",
      "    amsgrad: False\n",
      "    betas: (0.9, 0.999)\n",
      "    capturable: False\n",
      "    differentiable: False\n",
      "    eps: 1e-08\n",
      "    foreach: None\n",
      "    fused: None\n",
      "    lr: 0.001\n",
      "    maximize: False\n",
      "    weight_decay: 0.001\n",
      ") \n",
      "\n"
     ]
    },
    {
     "name": "stderr",
     "output_type": "stream",
     "text": [
      "                                                                  \r"
     ]
    },
    {
     "name": "stdout",
     "output_type": "stream",
     "text": [
      "Epoch  0: Train loss=0.175, Val loss=0.027\n"
     ]
    },
    {
     "name": "stderr",
     "output_type": "stream",
     "text": [
      "                                                                  \r"
     ]
    },
    {
     "name": "stdout",
     "output_type": "stream",
     "text": [
      "Epoch  1: Train loss=0.151, Val loss=0.007\n"
     ]
    },
    {
     "name": "stderr",
     "output_type": "stream",
     "text": [
      "                                                                  \r"
     ]
    },
    {
     "name": "stdout",
     "output_type": "stream",
     "text": [
      "Epoch  2: Train loss=0.097, Val loss=0.009\n"
     ]
    },
    {
     "name": "stderr",
     "output_type": "stream",
     "text": [
      "                                                                  \r"
     ]
    },
    {
     "name": "stdout",
     "output_type": "stream",
     "text": [
      "Epoch  3: Train loss=0.104, Val loss=0.016\n"
     ]
    },
    {
     "name": "stderr",
     "output_type": "stream",
     "text": [
      "                                                                  \r"
     ]
    },
    {
     "name": "stdout",
     "output_type": "stream",
     "text": [
      "Epoch  4: Train loss=0.215, Val loss=0.021\n"
     ]
    },
    {
     "name": "stderr",
     "output_type": "stream",
     "text": [
      "                                                                  \r"
     ]
    },
    {
     "name": "stdout",
     "output_type": "stream",
     "text": [
      "Epoch  5: Train loss=0.087, Val loss=0.008\n"
     ]
    },
    {
     "name": "stderr",
     "output_type": "stream",
     "text": [
      "                                                                  \r"
     ]
    },
    {
     "name": "stdout",
     "output_type": "stream",
     "text": [
      "Epoch  6: Train loss=0.189, Val loss=0.011\n"
     ]
    },
    {
     "name": "stderr",
     "output_type": "stream",
     "text": [
      "                                                                  \r"
     ]
    },
    {
     "name": "stdout",
     "output_type": "stream",
     "text": [
      "Epoch  7: Train loss=0.281, Val loss=0.005\n"
     ]
    },
    {
     "name": "stderr",
     "output_type": "stream",
     "text": [
      "                                                                  \r"
     ]
    },
    {
     "name": "stdout",
     "output_type": "stream",
     "text": [
      "Epoch  8: Train loss=0.155, Val loss=0.015\n"
     ]
    },
    {
     "name": "stderr",
     "output_type": "stream",
     "text": [
      "                                                                  \r"
     ]
    },
    {
     "name": "stdout",
     "output_type": "stream",
     "text": [
      "Epoch  9: Train loss=0.056, Val loss=0.005\n"
     ]
    },
    {
     "name": "stderr",
     "output_type": "stream",
     "text": [
      "                                                                  \r"
     ]
    },
    {
     "name": "stdout",
     "output_type": "stream",
     "text": [
      "Epoch 10: Train loss=0.140, Val loss=0.011\n"
     ]
    },
    {
     "name": "stderr",
     "output_type": "stream",
     "text": [
      "                                                                  \r"
     ]
    },
    {
     "name": "stdout",
     "output_type": "stream",
     "text": [
      "Epoch 11: Train loss=0.076, Val loss=0.015\n"
     ]
    },
    {
     "name": "stderr",
     "output_type": "stream",
     "text": [
      "                                                                  \r"
     ]
    },
    {
     "name": "stdout",
     "output_type": "stream",
     "text": [
      "Epoch 12: Train loss=0.126, Val loss=0.022\n"
     ]
    },
    {
     "name": "stderr",
     "output_type": "stream",
     "text": [
      "                                                                  \r"
     ]
    },
    {
     "name": "stdout",
     "output_type": "stream",
     "text": [
      "Epoch 13: Train loss=0.106, Val loss=0.008\n"
     ]
    },
    {
     "name": "stderr",
     "output_type": "stream",
     "text": [
      "                                                                  \r"
     ]
    },
    {
     "name": "stdout",
     "output_type": "stream",
     "text": [
      "Epoch 14: Train loss=0.162, Val loss=0.012\n"
     ]
    },
    {
     "name": "stderr",
     "output_type": "stream",
     "text": [
      "                                                                  \r"
     ]
    },
    {
     "name": "stdout",
     "output_type": "stream",
     "text": [
      "Epoch 15: Train loss=0.128, Val loss=0.006\n"
     ]
    },
    {
     "name": "stderr",
     "output_type": "stream",
     "text": [
      "                                                                  \r"
     ]
    },
    {
     "name": "stdout",
     "output_type": "stream",
     "text": [
      "Epoch 16: Train loss=0.183, Val loss=0.030\n"
     ]
    },
    {
     "name": "stderr",
     "output_type": "stream",
     "text": [
      "                                                                  \r"
     ]
    },
    {
     "name": "stdout",
     "output_type": "stream",
     "text": [
      "Epoch 17: Train loss=0.162, Val loss=0.002\n"
     ]
    },
    {
     "name": "stderr",
     "output_type": "stream",
     "text": [
      "                                                                  \r"
     ]
    },
    {
     "name": "stdout",
     "output_type": "stream",
     "text": [
      "Epoch 18: Train loss=0.098, Val loss=0.010\n"
     ]
    },
    {
     "name": "stderr",
     "output_type": "stream",
     "text": [
      "                                                                  \r"
     ]
    },
    {
     "name": "stdout",
     "output_type": "stream",
     "text": [
      "Epoch 19: Train loss=0.178, Val loss=0.010\n"
     ]
    },
    {
     "name": "stderr",
     "output_type": "stream",
     "text": [
      "                                                                  \r"
     ]
    },
    {
     "name": "stdout",
     "output_type": "stream",
     "text": [
      "Epoch 20: Train loss=0.362, Val loss=0.017\n"
     ]
    },
    {
     "name": "stderr",
     "output_type": "stream",
     "text": [
      "                                                                  \r"
     ]
    },
    {
     "name": "stdout",
     "output_type": "stream",
     "text": [
      "Epoch 21: Train loss=0.128, Val loss=0.015\n"
     ]
    },
    {
     "name": "stderr",
     "output_type": "stream",
     "text": [
      "                                                                  \r"
     ]
    },
    {
     "name": "stdout",
     "output_type": "stream",
     "text": [
      "Epoch 22: Train loss=0.144, Val loss=0.010\n"
     ]
    },
    {
     "name": "stderr",
     "output_type": "stream",
     "text": [
      "                                                                  \r"
     ]
    },
    {
     "name": "stdout",
     "output_type": "stream",
     "text": [
      "Epoch 23: Train loss=0.136, Val loss=0.002\n"
     ]
    },
    {
     "name": "stderr",
     "output_type": "stream",
     "text": [
      "                                                                  \r"
     ]
    },
    {
     "name": "stdout",
     "output_type": "stream",
     "text": [
      "Epoch 24: Train loss=0.246, Val loss=0.012\n"
     ]
    },
    {
     "name": "stderr",
     "output_type": "stream",
     "text": [
      "                                                                  \r"
     ]
    },
    {
     "name": "stdout",
     "output_type": "stream",
     "text": [
      "Epoch 25: Train loss=0.064, Val loss=0.003\n"
     ]
    },
    {
     "name": "stderr",
     "output_type": "stream",
     "text": [
      "                                                                  \r"
     ]
    },
    {
     "name": "stdout",
     "output_type": "stream",
     "text": [
      "Epoch 26: Train loss=0.328, Val loss=0.066\n"
     ]
    },
    {
     "name": "stderr",
     "output_type": "stream",
     "text": [
      "                                                                  \r"
     ]
    },
    {
     "name": "stdout",
     "output_type": "stream",
     "text": [
      "Epoch 27: Train loss=0.129, Val loss=0.003\n"
     ]
    },
    {
     "name": "stderr",
     "output_type": "stream",
     "text": [
      "                                                                  \r"
     ]
    },
    {
     "name": "stdout",
     "output_type": "stream",
     "text": [
      "Epoch 28: Train loss=0.082, Val loss=0.006\n"
     ]
    },
    {
     "name": "stderr",
     "output_type": "stream",
     "text": [
      "                                                                  \r"
     ]
    },
    {
     "name": "stdout",
     "output_type": "stream",
     "text": [
      "Epoch 29: Train loss=0.096, Val loss=0.004\n"
     ]
    },
    {
     "name": "stderr",
     "output_type": "stream",
     "text": [
      "                                                                  \r"
     ]
    },
    {
     "name": "stdout",
     "output_type": "stream",
     "text": [
      "Epoch 30: Train loss=0.606, Val loss=0.032\n"
     ]
    },
    {
     "name": "stderr",
     "output_type": "stream",
     "text": [
      "                                                                  \r"
     ]
    },
    {
     "name": "stdout",
     "output_type": "stream",
     "text": [
      "Epoch 31: Train loss=0.304, Val loss=0.008\n"
     ]
    },
    {
     "name": "stderr",
     "output_type": "stream",
     "text": [
      "                                                                  \r"
     ]
    },
    {
     "name": "stdout",
     "output_type": "stream",
     "text": [
      "Epoch 32: Train loss=0.316, Val loss=0.012\n"
     ]
    },
    {
     "name": "stderr",
     "output_type": "stream",
     "text": [
      "                                                                  \r"
     ]
    },
    {
     "name": "stdout",
     "output_type": "stream",
     "text": [
      "Epoch 33: Train loss=0.151, Val loss=0.009\n"
     ]
    },
    {
     "name": "stderr",
     "output_type": "stream",
     "text": [
      "                                                                  \r"
     ]
    },
    {
     "name": "stdout",
     "output_type": "stream",
     "text": [
      "Epoch 34: Train loss=0.177, Val loss=0.024\n"
     ]
    },
    {
     "name": "stderr",
     "output_type": "stream",
     "text": [
      "                                                                  \r"
     ]
    },
    {
     "name": "stdout",
     "output_type": "stream",
     "text": [
      "Epoch 35: Train loss=0.133, Val loss=0.004\n"
     ]
    },
    {
     "name": "stderr",
     "output_type": "stream",
     "text": [
      "                                                                  \r"
     ]
    },
    {
     "name": "stdout",
     "output_type": "stream",
     "text": [
      "Epoch 36: Train loss=0.046, Val loss=0.019\n"
     ]
    },
    {
     "name": "stderr",
     "output_type": "stream",
     "text": [
      "                                                                  \r"
     ]
    },
    {
     "name": "stdout",
     "output_type": "stream",
     "text": [
      "Epoch 37: Train loss=0.104, Val loss=0.003\n"
     ]
    },
    {
     "name": "stderr",
     "output_type": "stream",
     "text": [
      "                                                                  \r"
     ]
    },
    {
     "name": "stdout",
     "output_type": "stream",
     "text": [
      "Epoch 38: Train loss=0.066, Val loss=0.009\n"
     ]
    },
    {
     "name": "stderr",
     "output_type": "stream",
     "text": [
      "                                                                  \r"
     ]
    },
    {
     "name": "stdout",
     "output_type": "stream",
     "text": [
      "Epoch 39: Train loss=0.080, Val loss=0.004\n"
     ]
    },
    {
     "name": "stderr",
     "output_type": "stream",
     "text": [
      "                                                                  \r"
     ]
    },
    {
     "name": "stdout",
     "output_type": "stream",
     "text": [
      "Epoch 40: Train loss=0.469, Val loss=0.164\n"
     ]
    },
    {
     "name": "stderr",
     "output_type": "stream",
     "text": [
      "                                                                  \r"
     ]
    },
    {
     "name": "stdout",
     "output_type": "stream",
     "text": [
      "Epoch 41: Train loss=0.429, Val loss=0.005\n"
     ]
    },
    {
     "name": "stderr",
     "output_type": "stream",
     "text": [
      "                                                                  \r"
     ]
    },
    {
     "name": "stdout",
     "output_type": "stream",
     "text": [
      "Epoch 42: Train loss=0.132, Val loss=0.004\n"
     ]
    },
    {
     "name": "stderr",
     "output_type": "stream",
     "text": [
      "                                                                  \r"
     ]
    },
    {
     "name": "stdout",
     "output_type": "stream",
     "text": [
      "Epoch 43: Train loss=0.326, Val loss=0.018\n"
     ]
    },
    {
     "name": "stderr",
     "output_type": "stream",
     "text": [
      "                                                                  \r"
     ]
    },
    {
     "name": "stdout",
     "output_type": "stream",
     "text": [
      "Epoch 44: Train loss=0.163, Val loss=0.002\n"
     ]
    },
    {
     "name": "stderr",
     "output_type": "stream",
     "text": [
      "                                                                  \r"
     ]
    },
    {
     "name": "stdout",
     "output_type": "stream",
     "text": [
      "Epoch 45: Train loss=0.131, Val loss=0.009\n"
     ]
    },
    {
     "name": "stderr",
     "output_type": "stream",
     "text": [
      "                                                                  \r"
     ]
    },
    {
     "name": "stdout",
     "output_type": "stream",
     "text": [
      "Epoch 46: Train loss=0.129, Val loss=0.010\n"
     ]
    },
    {
     "name": "stderr",
     "output_type": "stream",
     "text": [
      "                                                                  \r"
     ]
    },
    {
     "name": "stdout",
     "output_type": "stream",
     "text": [
      "Epoch 47: Train loss=0.529, Val loss=0.049\n"
     ]
    },
    {
     "name": "stderr",
     "output_type": "stream",
     "text": [
      "                                                                  \r"
     ]
    },
    {
     "name": "stdout",
     "output_type": "stream",
     "text": [
      "Epoch 48: Train loss=0.454, Val loss=0.014\n"
     ]
    },
    {
     "name": "stderr",
     "output_type": "stream",
     "text": [
      "                                                                  \r"
     ]
    },
    {
     "name": "stdout",
     "output_type": "stream",
     "text": [
      "Epoch 49: Train loss=0.182, Val loss=0.023\n"
     ]
    },
    {
     "name": "stderr",
     "output_type": "stream",
     "text": [
      "                                                                  \r"
     ]
    },
    {
     "name": "stdout",
     "output_type": "stream",
     "text": [
      "Epoch 50: Train loss=0.193, Val loss=0.027\n"
     ]
    },
    {
     "name": "stderr",
     "output_type": "stream",
     "text": [
      "                                                                  \r"
     ]
    },
    {
     "name": "stdout",
     "output_type": "stream",
     "text": [
      "Epoch 51: Train loss=0.178, Val loss=0.023\n"
     ]
    },
    {
     "name": "stderr",
     "output_type": "stream",
     "text": [
      "                                                                  \r"
     ]
    },
    {
     "name": "stdout",
     "output_type": "stream",
     "text": [
      "Epoch 52: Train loss=0.103, Val loss=0.004\n"
     ]
    },
    {
     "name": "stderr",
     "output_type": "stream",
     "text": [
      "                                                                  \r"
     ]
    },
    {
     "name": "stdout",
     "output_type": "stream",
     "text": [
      "Epoch 53: Train loss=0.132, Val loss=0.011\n"
     ]
    },
    {
     "name": "stderr",
     "output_type": "stream",
     "text": [
      "                                                                  \r"
     ]
    },
    {
     "name": "stdout",
     "output_type": "stream",
     "text": [
      "Epoch 54: Train loss=0.088, Val loss=0.002\n"
     ]
    },
    {
     "name": "stderr",
     "output_type": "stream",
     "text": [
      "                                                                  \r"
     ]
    },
    {
     "name": "stdout",
     "output_type": "stream",
     "text": [
      "Epoch 55: Train loss=0.050, Val loss=0.005\n"
     ]
    },
    {
     "name": "stderr",
     "output_type": "stream",
     "text": [
      "                                                                  \r"
     ]
    },
    {
     "name": "stdout",
     "output_type": "stream",
     "text": [
      "Epoch 56: Train loss=0.184, Val loss=0.003\n"
     ]
    },
    {
     "name": "stderr",
     "output_type": "stream",
     "text": [
      "                                                                  \r"
     ]
    },
    {
     "name": "stdout",
     "output_type": "stream",
     "text": [
      "Epoch 57: Train loss=0.145, Val loss=0.005\n"
     ]
    },
    {
     "name": "stderr",
     "output_type": "stream",
     "text": [
      "                                                                  \r"
     ]
    },
    {
     "name": "stdout",
     "output_type": "stream",
     "text": [
      "Epoch 58: Train loss=0.104, Val loss=0.005\n"
     ]
    },
    {
     "name": "stderr",
     "output_type": "stream",
     "text": [
      "                                                                  \r"
     ]
    },
    {
     "name": "stdout",
     "output_type": "stream",
     "text": [
      "Epoch 59: Train loss=0.178, Val loss=0.007\n"
     ]
    },
    {
     "name": "stderr",
     "output_type": "stream",
     "text": [
      "                                                                  \r"
     ]
    },
    {
     "name": "stdout",
     "output_type": "stream",
     "text": [
      "Epoch 60: Train loss=0.338, Val loss=0.005\n"
     ]
    },
    {
     "name": "stderr",
     "output_type": "stream",
     "text": [
      "                                                                  \r"
     ]
    },
    {
     "name": "stdout",
     "output_type": "stream",
     "text": [
      "Epoch 61: Train loss=0.093, Val loss=0.003\n"
     ]
    },
    {
     "name": "stderr",
     "output_type": "stream",
     "text": [
      "                                                                  \r"
     ]
    },
    {
     "name": "stdout",
     "output_type": "stream",
     "text": [
      "Epoch 62: Train loss=0.179, Val loss=0.021\n"
     ]
    },
    {
     "name": "stderr",
     "output_type": "stream",
     "text": [
      "                                                                  \r"
     ]
    },
    {
     "name": "stdout",
     "output_type": "stream",
     "text": [
      "Epoch 63: Train loss=0.094, Val loss=0.004\n"
     ]
    },
    {
     "name": "stderr",
     "output_type": "stream",
     "text": [
      "                                                                  \r"
     ]
    },
    {
     "name": "stdout",
     "output_type": "stream",
     "text": [
      "Epoch 64: Train loss=0.043, Val loss=0.003\n"
     ]
    },
    {
     "name": "stderr",
     "output_type": "stream",
     "text": [
      "                                                                  \r"
     ]
    },
    {
     "name": "stdout",
     "output_type": "stream",
     "text": [
      "Epoch 65: Train loss=0.244, Val loss=0.001\n"
     ]
    },
    {
     "name": "stderr",
     "output_type": "stream",
     "text": [
      "                                                                  \r"
     ]
    },
    {
     "name": "stdout",
     "output_type": "stream",
     "text": [
      "Epoch 66: Train loss=0.055, Val loss=0.003\n"
     ]
    },
    {
     "name": "stderr",
     "output_type": "stream",
     "text": [
      "                                                                  \r"
     ]
    },
    {
     "name": "stdout",
     "output_type": "stream",
     "text": [
      "Epoch 67: Train loss=0.215, Val loss=0.015\n"
     ]
    },
    {
     "name": "stderr",
     "output_type": "stream",
     "text": [
      "                                                                  \r"
     ]
    },
    {
     "name": "stdout",
     "output_type": "stream",
     "text": [
      "Epoch 68: Train loss=0.103, Val loss=0.005\n"
     ]
    },
    {
     "name": "stderr",
     "output_type": "stream",
     "text": [
      "                                                                  \r"
     ]
    },
    {
     "name": "stdout",
     "output_type": "stream",
     "text": [
      "Epoch 69: Train loss=0.097, Val loss=0.008\n"
     ]
    },
    {
     "name": "stderr",
     "output_type": "stream",
     "text": [
      "                                                                  \r"
     ]
    },
    {
     "name": "stdout",
     "output_type": "stream",
     "text": [
      "Epoch 70: Train loss=0.294, Val loss=0.020\n"
     ]
    },
    {
     "name": "stderr",
     "output_type": "stream",
     "text": [
      "                                                                  \r"
     ]
    },
    {
     "name": "stdout",
     "output_type": "stream",
     "text": [
      "Epoch 71: Train loss=0.215, Val loss=0.007\n"
     ]
    },
    {
     "name": "stderr",
     "output_type": "stream",
     "text": [
      "                                                                  \r"
     ]
    },
    {
     "name": "stdout",
     "output_type": "stream",
     "text": [
      "Epoch 72: Train loss=0.140, Val loss=0.007\n"
     ]
    },
    {
     "name": "stderr",
     "output_type": "stream",
     "text": [
      "                                                                  \r"
     ]
    },
    {
     "name": "stdout",
     "output_type": "stream",
     "text": [
      "Epoch 73: Train loss=0.204, Val loss=0.014\n"
     ]
    },
    {
     "name": "stderr",
     "output_type": "stream",
     "text": [
      "                                                                  \r"
     ]
    },
    {
     "name": "stdout",
     "output_type": "stream",
     "text": [
      "Epoch 74: Train loss=0.054, Val loss=0.014\n"
     ]
    },
    {
     "name": "stderr",
     "output_type": "stream",
     "text": [
      "                                                                  \r"
     ]
    },
    {
     "name": "stdout",
     "output_type": "stream",
     "text": [
      "Epoch 75: Train loss=0.248, Val loss=0.003\n"
     ]
    },
    {
     "name": "stderr",
     "output_type": "stream",
     "text": [
      "                                                                  \r"
     ]
    },
    {
     "name": "stdout",
     "output_type": "stream",
     "text": [
      "Epoch 76: Train loss=0.174, Val loss=0.006\n"
     ]
    },
    {
     "name": "stderr",
     "output_type": "stream",
     "text": [
      "                                                                  \r"
     ]
    },
    {
     "name": "stdout",
     "output_type": "stream",
     "text": [
      "Epoch 77: Train loss=0.096, Val loss=0.005\n"
     ]
    },
    {
     "name": "stderr",
     "output_type": "stream",
     "text": [
      "                                                                  \r"
     ]
    },
    {
     "name": "stdout",
     "output_type": "stream",
     "text": [
      "Epoch 78: Train loss=0.223, Val loss=0.020\n"
     ]
    },
    {
     "name": "stderr",
     "output_type": "stream",
     "text": [
      "                                                                  \r"
     ]
    },
    {
     "name": "stdout",
     "output_type": "stream",
     "text": [
      "Epoch 79: Train loss=0.644, Val loss=0.023\n"
     ]
    },
    {
     "name": "stderr",
     "output_type": "stream",
     "text": [
      "                                                                  \r"
     ]
    },
    {
     "name": "stdout",
     "output_type": "stream",
     "text": [
      "Epoch 80: Train loss=0.160, Val loss=0.004\n"
     ]
    },
    {
     "name": "stderr",
     "output_type": "stream",
     "text": [
      "                                                                  \r"
     ]
    },
    {
     "name": "stdout",
     "output_type": "stream",
     "text": [
      "Epoch 81: Train loss=0.131, Val loss=0.011\n"
     ]
    },
    {
     "name": "stderr",
     "output_type": "stream",
     "text": [
      "                                                                  \r"
     ]
    },
    {
     "name": "stdout",
     "output_type": "stream",
     "text": [
      "Epoch 82: Train loss=0.131, Val loss=0.005\n"
     ]
    },
    {
     "name": "stderr",
     "output_type": "stream",
     "text": [
      "                                                                  \r"
     ]
    },
    {
     "name": "stdout",
     "output_type": "stream",
     "text": [
      "Epoch 83: Train loss=0.327, Val loss=0.017\n"
     ]
    },
    {
     "name": "stderr",
     "output_type": "stream",
     "text": [
      "                                                                  \r"
     ]
    },
    {
     "name": "stdout",
     "output_type": "stream",
     "text": [
      "Epoch 84: Train loss=0.088, Val loss=0.015\n"
     ]
    },
    {
     "name": "stderr",
     "output_type": "stream",
     "text": [
      "                                                                  \r"
     ]
    },
    {
     "name": "stdout",
     "output_type": "stream",
     "text": [
      "Epoch 85: Train loss=0.072, Val loss=0.008\n"
     ]
    },
    {
     "name": "stderr",
     "output_type": "stream",
     "text": [
      "                                                                  \r"
     ]
    },
    {
     "name": "stdout",
     "output_type": "stream",
     "text": [
      "Epoch 86: Train loss=0.124, Val loss=0.005\n"
     ]
    },
    {
     "name": "stderr",
     "output_type": "stream",
     "text": [
      "                                                                  \r"
     ]
    },
    {
     "name": "stdout",
     "output_type": "stream",
     "text": [
      "Epoch 87: Train loss=0.147, Val loss=0.009\n"
     ]
    },
    {
     "name": "stderr",
     "output_type": "stream",
     "text": [
      "                                                                  \r"
     ]
    },
    {
     "name": "stdout",
     "output_type": "stream",
     "text": [
      "Epoch 88: Train loss=0.092, Val loss=0.005\n"
     ]
    },
    {
     "name": "stderr",
     "output_type": "stream",
     "text": [
      "                                                                  \r"
     ]
    },
    {
     "name": "stdout",
     "output_type": "stream",
     "text": [
      "Epoch 89: Train loss=0.062, Val loss=0.004\n"
     ]
    },
    {
     "name": "stderr",
     "output_type": "stream",
     "text": [
      "                                                                  \r"
     ]
    },
    {
     "name": "stdout",
     "output_type": "stream",
     "text": [
      "Epoch 90: Train loss=0.042, Val loss=0.005\n"
     ]
    },
    {
     "name": "stderr",
     "output_type": "stream",
     "text": [
      "                                                                  \r"
     ]
    },
    {
     "name": "stdout",
     "output_type": "stream",
     "text": [
      "Epoch 91: Train loss=0.066, Val loss=0.007\n"
     ]
    },
    {
     "name": "stderr",
     "output_type": "stream",
     "text": [
      "                                                                  \r"
     ]
    },
    {
     "name": "stdout",
     "output_type": "stream",
     "text": [
      "Epoch 92: Train loss=0.204, Val loss=0.027\n"
     ]
    },
    {
     "name": "stderr",
     "output_type": "stream",
     "text": [
      "                                                                  \r"
     ]
    },
    {
     "name": "stdout",
     "output_type": "stream",
     "text": [
      "Epoch 93: Train loss=0.081, Val loss=0.003\n"
     ]
    },
    {
     "name": "stderr",
     "output_type": "stream",
     "text": [
      "                                                                  \r"
     ]
    },
    {
     "name": "stdout",
     "output_type": "stream",
     "text": [
      "Epoch 94: Train loss=0.078, Val loss=0.006\n"
     ]
    },
    {
     "name": "stderr",
     "output_type": "stream",
     "text": [
      "                                                                  \r"
     ]
    },
    {
     "name": "stdout",
     "output_type": "stream",
     "text": [
      "Epoch 95: Train loss=0.083, Val loss=0.007\n"
     ]
    },
    {
     "name": "stderr",
     "output_type": "stream",
     "text": [
      "                                                                  \r"
     ]
    },
    {
     "name": "stdout",
     "output_type": "stream",
     "text": [
      "Epoch 96: Train loss=0.249, Val loss=0.004\n"
     ]
    },
    {
     "name": "stderr",
     "output_type": "stream",
     "text": [
      "                                                                  \r"
     ]
    },
    {
     "name": "stdout",
     "output_type": "stream",
     "text": [
      "Epoch 97: Train loss=0.247, Val loss=0.004\n"
     ]
    },
    {
     "name": "stderr",
     "output_type": "stream",
     "text": [
      "                                                                  \r"
     ]
    },
    {
     "name": "stdout",
     "output_type": "stream",
     "text": [
      "Epoch 98: Train loss=0.107, Val loss=0.002\n"
     ]
    },
    {
     "name": "stderr",
     "output_type": "stream",
     "text": [
      "                                                                   \r"
     ]
    },
    {
     "name": "stdout",
     "output_type": "stream",
     "text": [
      "Epoch 99: Train loss=0.053, Val loss=0.002\n"
     ]
    },
    {
     "name": "stderr",
     "output_type": "stream",
     "text": [
      "                                                                   \r"
     ]
    },
    {
     "name": "stdout",
     "output_type": "stream",
     "text": [
      "Epoch 100: Train loss=0.093, Val loss=0.007\n"
     ]
    },
    {
     "name": "stderr",
     "output_type": "stream",
     "text": [
      "                                                                   \r"
     ]
    },
    {
     "name": "stdout",
     "output_type": "stream",
     "text": [
      "Epoch 101: Train loss=0.091, Val loss=0.018\n"
     ]
    },
    {
     "name": "stderr",
     "output_type": "stream",
     "text": [
      "                                                                   \r"
     ]
    },
    {
     "name": "stdout",
     "output_type": "stream",
     "text": [
      "Epoch 102: Train loss=0.081, Val loss=0.002\n"
     ]
    },
    {
     "name": "stderr",
     "output_type": "stream",
     "text": [
      "                                                                   \r"
     ]
    },
    {
     "name": "stdout",
     "output_type": "stream",
     "text": [
      "Epoch 103: Train loss=0.156, Val loss=0.002\n"
     ]
    },
    {
     "name": "stderr",
     "output_type": "stream",
     "text": [
      "                                                                   \r"
     ]
    },
    {
     "name": "stdout",
     "output_type": "stream",
     "text": [
      "Epoch 104: Train loss=0.069, Val loss=0.005\n"
     ]
    },
    {
     "name": "stderr",
     "output_type": "stream",
     "text": [
      "                                                                   \r"
     ]
    },
    {
     "name": "stdout",
     "output_type": "stream",
     "text": [
      "Epoch 105: Train loss=0.049, Val loss=0.003\n"
     ]
    },
    {
     "name": "stderr",
     "output_type": "stream",
     "text": [
      "                                                                   \r"
     ]
    },
    {
     "name": "stdout",
     "output_type": "stream",
     "text": [
      "Epoch 106: Train loss=0.075, Val loss=0.004\n"
     ]
    },
    {
     "name": "stderr",
     "output_type": "stream",
     "text": [
      "                                                                   \r"
     ]
    },
    {
     "name": "stdout",
     "output_type": "stream",
     "text": [
      "Epoch 107: Train loss=0.108, Val loss=0.001\n"
     ]
    },
    {
     "name": "stderr",
     "output_type": "stream",
     "text": [
      "                                                                   \r"
     ]
    },
    {
     "name": "stdout",
     "output_type": "stream",
     "text": [
      "Epoch 108: Train loss=0.107, Val loss=0.007\n"
     ]
    },
    {
     "name": "stderr",
     "output_type": "stream",
     "text": [
      "                                                                   \r"
     ]
    },
    {
     "name": "stdout",
     "output_type": "stream",
     "text": [
      "Epoch 109: Train loss=0.054, Val loss=0.002\n"
     ]
    },
    {
     "name": "stderr",
     "output_type": "stream",
     "text": [
      "                                                                   \r"
     ]
    },
    {
     "name": "stdout",
     "output_type": "stream",
     "text": [
      "Epoch 110: Train loss=0.046, Val loss=0.015\n"
     ]
    },
    {
     "name": "stderr",
     "output_type": "stream",
     "text": [
      "                                                                   \r"
     ]
    },
    {
     "name": "stdout",
     "output_type": "stream",
     "text": [
      "Epoch 111: Train loss=0.117, Val loss=0.010\n"
     ]
    },
    {
     "name": "stderr",
     "output_type": "stream",
     "text": [
      "                                                                   \r"
     ]
    },
    {
     "name": "stdout",
     "output_type": "stream",
     "text": [
      "Epoch 112: Train loss=0.090, Val loss=0.014\n"
     ]
    },
    {
     "name": "stderr",
     "output_type": "stream",
     "text": [
      "                                                                   \r"
     ]
    },
    {
     "name": "stdout",
     "output_type": "stream",
     "text": [
      "Epoch 113: Train loss=0.192, Val loss=0.010\n"
     ]
    },
    {
     "name": "stderr",
     "output_type": "stream",
     "text": [
      "                                                                   \r"
     ]
    },
    {
     "name": "stdout",
     "output_type": "stream",
     "text": [
      "Epoch 114: Train loss=0.134, Val loss=0.003\n"
     ]
    },
    {
     "name": "stderr",
     "output_type": "stream",
     "text": [
      "                                                                   \r"
     ]
    },
    {
     "name": "stdout",
     "output_type": "stream",
     "text": [
      "Epoch 115: Train loss=0.030, Val loss=0.003\n"
     ]
    },
    {
     "name": "stderr",
     "output_type": "stream",
     "text": [
      "                                                                   \r"
     ]
    },
    {
     "name": "stdout",
     "output_type": "stream",
     "text": [
      "Epoch 116: Train loss=0.059, Val loss=0.003\n"
     ]
    },
    {
     "name": "stderr",
     "output_type": "stream",
     "text": [
      "                                                                   \r"
     ]
    },
    {
     "name": "stdout",
     "output_type": "stream",
     "text": [
      "Epoch 117: Train loss=0.073, Val loss=0.003\n"
     ]
    },
    {
     "name": "stderr",
     "output_type": "stream",
     "text": [
      "                                                                   \r"
     ]
    },
    {
     "name": "stdout",
     "output_type": "stream",
     "text": [
      "Epoch 118: Train loss=0.197, Val loss=0.025\n"
     ]
    },
    {
     "name": "stderr",
     "output_type": "stream",
     "text": [
      "                                                                   \r"
     ]
    },
    {
     "name": "stdout",
     "output_type": "stream",
     "text": [
      "Epoch 119: Train loss=0.208, Val loss=0.003\n"
     ]
    },
    {
     "name": "stderr",
     "output_type": "stream",
     "text": [
      "                                                                   \r"
     ]
    },
    {
     "name": "stdout",
     "output_type": "stream",
     "text": [
      "Epoch 120: Train loss=0.095, Val loss=0.002\n"
     ]
    },
    {
     "name": "stderr",
     "output_type": "stream",
     "text": [
      "                                                                   \r"
     ]
    },
    {
     "name": "stdout",
     "output_type": "stream",
     "text": [
      "Epoch 121: Train loss=0.401, Val loss=0.017\n"
     ]
    },
    {
     "name": "stderr",
     "output_type": "stream",
     "text": [
      "                                                                   \r"
     ]
    },
    {
     "name": "stdout",
     "output_type": "stream",
     "text": [
      "Epoch 122: Train loss=0.187, Val loss=0.003\n"
     ]
    },
    {
     "name": "stderr",
     "output_type": "stream",
     "text": [
      "                                                                   \r"
     ]
    },
    {
     "name": "stdout",
     "output_type": "stream",
     "text": [
      "Epoch 123: Train loss=0.257, Val loss=0.003\n"
     ]
    },
    {
     "name": "stderr",
     "output_type": "stream",
     "text": [
      "                                                                   \r"
     ]
    },
    {
     "name": "stdout",
     "output_type": "stream",
     "text": [
      "Epoch 124: Train loss=0.051, Val loss=0.003\n"
     ]
    },
    {
     "name": "stderr",
     "output_type": "stream",
     "text": [
      "                                                                   \r"
     ]
    },
    {
     "name": "stdout",
     "output_type": "stream",
     "text": [
      "Epoch 125: Train loss=0.448, Val loss=0.183\n"
     ]
    },
    {
     "name": "stderr",
     "output_type": "stream",
     "text": [
      "                                                                   \r"
     ]
    },
    {
     "name": "stdout",
     "output_type": "stream",
     "text": [
      "Epoch 126: Train loss=0.577, Val loss=0.018\n"
     ]
    },
    {
     "name": "stderr",
     "output_type": "stream",
     "text": [
      "                                                                   \r"
     ]
    },
    {
     "name": "stdout",
     "output_type": "stream",
     "text": [
      "Epoch 127: Train loss=0.299, Val loss=0.011\n"
     ]
    },
    {
     "name": "stderr",
     "output_type": "stream",
     "text": [
      "                                                                   \r"
     ]
    },
    {
     "name": "stdout",
     "output_type": "stream",
     "text": [
      "Epoch 128: Train loss=0.075, Val loss=0.010\n"
     ]
    },
    {
     "name": "stderr",
     "output_type": "stream",
     "text": [
      "                                                                   \r"
     ]
    },
    {
     "name": "stdout",
     "output_type": "stream",
     "text": [
      "Epoch 129: Train loss=0.079, Val loss=0.002\n"
     ]
    },
    {
     "name": "stderr",
     "output_type": "stream",
     "text": [
      "                                                                   \r"
     ]
    },
    {
     "name": "stdout",
     "output_type": "stream",
     "text": [
      "Epoch 130: Train loss=0.183, Val loss=0.006\n"
     ]
    },
    {
     "name": "stderr",
     "output_type": "stream",
     "text": [
      "                                                                   \r"
     ]
    },
    {
     "name": "stdout",
     "output_type": "stream",
     "text": [
      "Epoch 131: Train loss=0.176, Val loss=0.036\n"
     ]
    },
    {
     "name": "stderr",
     "output_type": "stream",
     "text": [
      "                                                                   \r"
     ]
    },
    {
     "name": "stdout",
     "output_type": "stream",
     "text": [
      "Epoch 132: Train loss=0.229, Val loss=0.005\n"
     ]
    },
    {
     "name": "stderr",
     "output_type": "stream",
     "text": [
      "                                                                   \r"
     ]
    },
    {
     "name": "stdout",
     "output_type": "stream",
     "text": [
      "Epoch 133: Train loss=0.148, Val loss=0.005\n"
     ]
    },
    {
     "name": "stderr",
     "output_type": "stream",
     "text": [
      "                                                                   \r"
     ]
    },
    {
     "name": "stdout",
     "output_type": "stream",
     "text": [
      "Epoch 134: Train loss=0.065, Val loss=0.011\n"
     ]
    },
    {
     "name": "stderr",
     "output_type": "stream",
     "text": [
      "                                                                   \r"
     ]
    },
    {
     "name": "stdout",
     "output_type": "stream",
     "text": [
      "Epoch 135: Train loss=0.205, Val loss=0.006\n"
     ]
    },
    {
     "name": "stderr",
     "output_type": "stream",
     "text": [
      "                                                                   \r"
     ]
    },
    {
     "name": "stdout",
     "output_type": "stream",
     "text": [
      "Epoch 136: Train loss=0.114, Val loss=0.017\n"
     ]
    },
    {
     "name": "stderr",
     "output_type": "stream",
     "text": [
      "                                                                   \r"
     ]
    },
    {
     "name": "stdout",
     "output_type": "stream",
     "text": [
      "Epoch 137: Train loss=0.047, Val loss=0.004\n"
     ]
    },
    {
     "name": "stderr",
     "output_type": "stream",
     "text": [
      "                                                                   \r"
     ]
    },
    {
     "name": "stdout",
     "output_type": "stream",
     "text": [
      "Epoch 138: Train loss=0.156, Val loss=0.012\n"
     ]
    },
    {
     "name": "stderr",
     "output_type": "stream",
     "text": [
      "                                                                   \r"
     ]
    },
    {
     "name": "stdout",
     "output_type": "stream",
     "text": [
      "Epoch 139: Train loss=0.173, Val loss=0.013\n"
     ]
    },
    {
     "name": "stderr",
     "output_type": "stream",
     "text": [
      "                                                                   \r"
     ]
    },
    {
     "name": "stdout",
     "output_type": "stream",
     "text": [
      "Epoch 140: Train loss=0.081, Val loss=0.005\n"
     ]
    },
    {
     "name": "stderr",
     "output_type": "stream",
     "text": [
      "                                                                   \r"
     ]
    },
    {
     "name": "stdout",
     "output_type": "stream",
     "text": [
      "Epoch 141: Train loss=0.071, Val loss=0.005\n"
     ]
    },
    {
     "name": "stderr",
     "output_type": "stream",
     "text": [
      "                                                                   \r"
     ]
    },
    {
     "name": "stdout",
     "output_type": "stream",
     "text": [
      "Epoch 142: Train loss=0.028, Val loss=0.002\n"
     ]
    },
    {
     "name": "stderr",
     "output_type": "stream",
     "text": [
      "                                                                   \r"
     ]
    },
    {
     "name": "stdout",
     "output_type": "stream",
     "text": [
      "Epoch 143: Train loss=0.105, Val loss=0.014\n"
     ]
    },
    {
     "name": "stderr",
     "output_type": "stream",
     "text": [
      "                                                                   \r"
     ]
    },
    {
     "name": "stdout",
     "output_type": "stream",
     "text": [
      "Epoch 144: Train loss=0.306, Val loss=0.020\n"
     ]
    },
    {
     "name": "stderr",
     "output_type": "stream",
     "text": [
      "                                                                   \r"
     ]
    },
    {
     "name": "stdout",
     "output_type": "stream",
     "text": [
      "Epoch 145: Train loss=0.123, Val loss=0.024\n"
     ]
    },
    {
     "name": "stderr",
     "output_type": "stream",
     "text": [
      "                                                                   \r"
     ]
    },
    {
     "name": "stdout",
     "output_type": "stream",
     "text": [
      "Epoch 146: Train loss=0.286, Val loss=0.006\n"
     ]
    },
    {
     "name": "stderr",
     "output_type": "stream",
     "text": [
      "                                                                   \r"
     ]
    },
    {
     "name": "stdout",
     "output_type": "stream",
     "text": [
      "Epoch 147: Train loss=0.299, Val loss=0.003\n"
     ]
    },
    {
     "name": "stderr",
     "output_type": "stream",
     "text": [
      "                                                                   \r"
     ]
    },
    {
     "name": "stdout",
     "output_type": "stream",
     "text": [
      "Epoch 148: Train loss=0.076, Val loss=0.017\n"
     ]
    },
    {
     "name": "stderr",
     "output_type": "stream",
     "text": [
      "                                                                   \r"
     ]
    },
    {
     "name": "stdout",
     "output_type": "stream",
     "text": [
      "Epoch 149: Train loss=0.122, Val loss=0.013\n",
      "\n",
      "Training completed\n",
      "Training time: 3 minutes and 5.07 seconds\n"
     ]
    }
   ],
   "source": [
    "lr=0.001\n",
    "weight_decay=0.001\n",
    "optimizer = optim.Adam(res.model.parameters(), lr=lr, weight_decay=weight_decay)\n",
    "criterion = nn.MSELoss()\n",
    "\n",
    "res.train(train_loader,\n",
    "          valid_loader,\n",
    "          optimizer,\n",
    "          weight_decay=weight_decay,\n",
    "          lr=lr,\n",
    "          epochs=150,\n",
    "          loss_fn=criterion)"
   ]
  },
  {
   "cell_type": "code",
   "execution_count": 27,
   "metadata": {},
   "outputs": [],
   "source": [
    "his = res.model_training_history"
   ]
  },
  {
   "cell_type": "code",
   "execution_count": 28,
   "metadata": {},
   "outputs": [],
   "source": [
    "import matplotlib.pyplot as plt"
   ]
  },
  {
   "cell_type": "code",
   "execution_count": 29,
   "metadata": {},
   "outputs": [
    {
     "data": {
      "image/png": "[encoded data removed]",
      "text/plain": [
       "<Figure size 640x480 with 1 Axes>"
      ]
     },
     "metadata": {},
     "output_type": "display_data"
    }
   ],
   "source": [
    "plt.plot(his['train_loss'], label='Training loss')\n",
    "plt.legend()\n",
    "plt.grid()\n",
    "plt.show()"
   ]
  },
  {
   "cell_type": "code",
   "execution_count": 30,
   "metadata": {},
   "outputs": [
    {
     "data": {
      "image/png": "[encoded data removed]",
      "text/plain": [
       "<Figure size 640x480 with 1 Axes>"
      ]
     },
     "metadata": {},
     "output_type": "display_data"
    }
   ],
   "source": [
    "plt.plot(his['valid_loss'], label='Validation loss')\n",
    "plt.legend()\n",
    "plt.grid()\n",
    "plt.show()"
   ]
  },
  {
   "cell_type": "markdown",
   "metadata": {},
   "source": [
    "# Test ResNet Inference"
   ]
  },
  {
   "cell_type": "code",
   "execution_count": 1,
   "metadata": {},
   "outputs": [],
   "source": [
    "from services.image_handler.utils import read_image, convert_to_rgb, show_image\n",
    "import services.ai_services.inferences as INF\n",
    "from services.ai_services.my_models import Plate_ResNet\n",
    "from services.ai_services.model_handler import ResNetType"
   ]
  },
  {
   "cell_type": "code",
   "execution_count": 3,
   "metadata": {},
   "outputs": [
    {
     "name": "stdout",
     "output_type": "stream",
     "text": [
      "Selected model is ResNetType.Corner_last\n",
      "ResNet18\n",
      "======================================================================\n",
      "Layer (type:depth-idx)                        Param #\n",
      "======================================================================\n",
      "CustomResNet                                  --\n",
      "├─ResNet: 1-1                                 --\n",
      "│    └─Conv2d: 2-1                            9,408\n",
      "│    └─BatchNorm2d: 2-2                       128\n",
      "│    └─ReLU: 2-3                              --\n",
      "│    └─MaxPool2d: 2-4                         --\n",
      "│    └─Sequential: 2-5                        --\n",
      "│    │    └─BasicBlock: 3-1                   73,984\n",
      "│    │    └─BasicBlock: 3-2                   73,984\n",
      "│    └─Sequential: 2-6                        --\n",
      "│    │    └─BasicBlock: 3-3                   230,144\n",
      "│    │    └─BasicBlock: 3-4                   295,424\n",
      "│    └─Sequential: 2-7                        --\n",
      "│    │    └─BasicBlock: 3-5                   919,040\n",
      "│    │    └─BasicBlock: 3-6                   1,180,672\n",
      "│    └─Sequential: 2-8                        --\n",
      "│    │    └─BasicBlock: 3-7                   3,673,088\n",
      "│    │    └─BasicBlock: 3-8                   4,720,640\n",
      "│    └─AdaptiveAvgPool2d: 2-9                 --\n",
      "│    └─Dropout: 2-10                          --\n",
      "├─Sequential: 1-2                             --\n",
      "│    └─Linear: 2-11                           65,664\n",
      "│    └─SiLU: 2-12                             --\n",
      "│    └─Linear: 2-13                           4,128\n",
      "│    └─SiLU: 2-14                             --\n",
      "├─Linear: 1-3                                 66\n",
      "├─Linear: 1-4                                 66\n",
      "├─Linear: 1-5                                 66\n",
      "├─Linear: 1-6                                 66\n",
      "======================================================================\n",
      "Total params: 11,246,568\n",
      "Trainable params: 11,246,568\n",
      "Non-trainable params: 0\n",
      "====================================================================== \n",
      "\n"
     ]
    }
   ],
   "source": [
    "res = Plate_ResNet(ResNetType.Corner_best)"
   ]
  },
  {
   "cell_type": "code",
   "execution_count": 4,
   "metadata": {},
   "outputs": [],
   "source": [
    "a = read_image(\"C:/Users/Alireza/Desktop/plate_data/train/images/ropped_image_59_jpg.rf.7291835f19f156c909647fd702f9da08.jpg\")\n",
    "b = read_image(\"C:/Users/Alireza/Desktop/plate_data/train/images/ropped_image_74_jpg.rf.d30005fee0d0d4070c13ea0ca24dfdb9.jpg\")\n",
    "a = convert_to_rgb(a)\n",
    "b = convert_to_rgb(b)"
   ]
  },
  {
   "cell_type": "code",
   "execution_count": 5,
   "metadata": {},
   "outputs": [],
   "source": [
    "inference = INF.PlateResNetInference(res)"
   ]
  },
  {
   "cell_type": "code",
   "execution_count": 6,
   "metadata": {},
   "outputs": [
    {
     "name": "stdout",
     "output_type": "stream",
     "text": [
      "Prepairing Images ... \n",
      "\n",
      "Running full pipeline ... \n",
      "\n",
      "Running inference on Image Batch\n",
      "Outputs Generated\n",
      "Corner points found for batch 0 \n",
      "\n",
      "Rectified images in batch 1 appended to the results \n",
      "\n"
     ]
    }
   ],
   "source": [
    "results = inference.run_full_pipeline([a,b])"
   ]
  },
  {
   "cell_type": "code",
   "execution_count": 8,
   "metadata": {},
   "outputs": [
    {
     "data": {
      "image/png": "[encoded data removed]",
      "text/plain": [
       "<Figure size 640x480 with 1 Axes>"
      ]
     },
     "metadata": {},
     "output_type": "display_data"
    },
    {
     "data": {
      "image/png": "[encoded data removed]",
      "text/plain": [
       "<Figure size 640x480 with 1 Axes>"
      ]
     },
     "metadata": {},
     "output_type": "display_data"
    }
   ],
   "source": [
    "for i in results: show_image(i)"
   ]
  }
 ],
 "metadata": {
  "kernelspec": {
   "display_name": ".venv",
   "language": "python",
   "name": "python3"
  },
  "language_info": {
   "codemirror_mode": {
    "name": "ipython",
    "version": 3
   },
   "file_extension": ".py",
   "mimetype": "text/x-python",
   "name": "python",
   "nbconvert_exporter": "python",
   "pygments_lexer": "ipython3",
   "version": "3.10.8"
  }
 },
 "nbformat": 4,
 "nbformat_minor": 2
}
