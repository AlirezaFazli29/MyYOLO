{
 "cells": [
  {
   "cell_type": "markdown",
   "metadata": {},
   "source": [
    "# Test Yolo Inference"
   ]
  },
  {
   "cell_type": "code",
   "execution_count": 1,
   "metadata": {},
   "outputs": [],
   "source": [
    "import services.ai_services.my_models as Models\n",
    "import services.image_handler.utils as IMUtils\n",
    "import services.ai_services.inferences as INF"
   ]
  },
  {
   "cell_type": "code",
   "execution_count": null,
   "metadata": {},
   "outputs": [],
   "source": [
    "yolo = Models.YOLOv8(Models.YoloType.Custom.Plate_best)"
   ]
  },
  {
   "cell_type": "code",
   "execution_count": null,
   "metadata": {},
   "outputs": [],
   "source": [
    "image = IMUtils.read_image('C:/Users/Alireza/Desktop/plate/2171038_FRONT.jpg')\n",
    "image_rgb = IMUtils.convert_to_rgb(image)\n",
    "image2 = IMUtils.read_image('C:/Users/Alireza/Desktop/plate/2170593_FRONT.jpg')\n",
    "image_rgb2 = IMUtils.convert_to_rgb(image2)\n",
    "IMUtils.show_image(image_rgb)\n",
    "IMUtils.show_image(image_rgb2)\n",
    "images = [image, image2]"
   ]
  },
  {
   "cell_type": "code",
   "execution_count": 6,
   "metadata": {},
   "outputs": [],
   "source": [
    "inference = INF.YOLOInference(yolo)"
   ]
  },
  {
   "cell_type": "code",
   "execution_count": null,
   "metadata": {},
   "outputs": [],
   "source": [
    "cropped_out = inference.run_full_pipeline(images)\n",
    "for i in cropped_out:\n",
    "    IMUtils.show_image(i, turn_grey=True, cmap='grey')"
   ]
  },
  {
   "cell_type": "markdown",
   "metadata": {},
   "source": [
    "# Get and Save Plates"
   ]
  },
  {
   "cell_type": "code",
   "execution_count": 17,
   "metadata": {},
   "outputs": [],
   "source": [
    "import services.image_handler.utils as IMUtils\n",
    "import services.ai_services.inferences as INF\n",
    "import services.ai_services.my_models as Models"
   ]
  },
  {
   "cell_type": "code",
   "execution_count": 18,
   "metadata": {},
   "outputs": [
    {
     "name": "stderr",
     "output_type": "stream",
     "text": [
      "Reading images: 100%|██████████| 100/100 [00:02<00:00, 39.95file/s]\n"
     ]
    }
   ],
   "source": [
    "images = IMUtils.read_images_from_file(\"C:/Users/Alireza/Desktop/cars/\")"
   ]
  },
  {
   "cell_type": "code",
   "execution_count": 19,
   "metadata": {},
   "outputs": [
    {
     "name": "stdout",
     "output_type": "stream",
     "text": [
      "Loading YOLO model from weights/best(plate).pt ...\n",
      "YOLO: weights/best(plate).pt\n",
      "=====================================================================================\n",
      "Layer (type:depth-idx)                                       Param #\n",
      "=====================================================================================\n",
      "YOLO                                                         --\n",
      "├─DetectionModel: 1-1                                        --\n",
      "│    └─Sequential: 2-1                                       --\n",
      "│    │    └─Conv: 3-1                                        (1,392)\n",
      "│    │    └─Conv: 3-2                                        (41,664)\n",
      "│    │    └─C2f: 3-3                                         (111,360)\n",
      "│    │    └─Conv: 3-4                                        (166,272)\n",
      "│    │    └─C2f: 3-5                                         (813,312)\n",
      "│    │    └─Conv: 3-6                                        (664,320)\n",
      "│    │    └─C2f: 3-7                                         (3,248,640)\n",
      "│    │    └─Conv: 3-8                                        (1,991,808)\n",
      "│    │    └─C2f: 3-9                                         (3,985,920)\n",
      "│    │    └─SPPF: 3-10                                       (831,168)\n",
      "│    │    └─Upsample: 3-11                                   --\n",
      "│    │    └─Concat: 3-12                                     --\n",
      "│    │    └─C2f: 3-13                                        (1,993,728)\n",
      "│    │    └─Upsample: 3-14                                   --\n",
      "│    │    └─Concat: 3-15                                     --\n",
      "│    │    └─C2f: 3-16                                        (517,632)\n",
      "│    │    └─Conv: 3-17                                       (332,160)\n",
      "│    │    └─Concat: 3-18                                     --\n",
      "│    │    └─C2f: 3-19                                        (1,846,272)\n",
      "│    │    └─Conv: 3-20                                       (1,327,872)\n",
      "│    │    └─Concat: 3-21                                     --\n",
      "│    │    └─C2f: 3-22                                        (4,207,104)\n",
      "│    │    └─Detect: 3-23                                     (1,141,075)\n",
      "=====================================================================================\n",
      "Total params: 23,221,699\n",
      "Trainable params: 0\n",
      "Non-trainable params: 23,221,699\n",
      "===================================================================================== \n",
      "\n"
     ]
    }
   ],
   "source": [
    "model = Models.YOLOv8(Models.YoloType.Custom.Plate_best)\n",
    "inference = INF.YOLOInference(model)"
   ]
  },
  {
   "cell_type": "code",
   "execution_count": 20,
   "metadata": {},
   "outputs": [
    {
     "name": "stdout",
     "output_type": "stream",
     "text": [
      "Running full pipeline ... \n",
      "\n",
      "conf=0.6, show=False, save=False\n",
      "Running inference on Image\n",
      "\n",
      "0: 416x640 1 plate, 13.7ms\n",
      "1: 416x640 1 plate, 13.7ms\n",
      "2: 416x640 1 plate, 13.7ms\n",
      "3: 416x640 1 plate, 13.7ms\n",
      "4: 416x640 1 plate, 13.7ms\n",
      "5: 416x640 1 plate, 13.7ms\n",
      "6: 416x640 1 plate, 13.7ms\n",
      "7: 416x640 1 plate, 13.7ms\n",
      "8: 416x640 1 plate, 13.7ms\n",
      "9: 416x640 1 plate, 13.7ms\n",
      "10: 416x640 1 plate, 13.7ms\n",
      "11: 416x640 1 plate, 13.7ms\n",
      "12: 416x640 1 plate, 13.7ms\n",
      "13: 416x640 1 plate, 13.7ms\n",
      "14: 416x640 2 plates, 13.7ms\n",
      "15: 416x640 1 plate, 13.7ms\n",
      "16: 416x640 1 plate, 13.7ms\n",
      "17: 416x640 1 plate, 13.7ms\n",
      "18: 416x640 1 plate, 13.7ms\n",
      "19: 416x640 1 plate, 13.7ms\n",
      "20: 416x640 1 plate, 13.7ms\n",
      "21: 416x640 1 plate, 13.7ms\n",
      "22: 416x640 1 plate, 13.7ms\n",
      "23: 416x640 1 plate, 13.7ms\n",
      "24: 416x640 1 plate, 13.7ms\n",
      "25: 416x640 1 plate, 13.7ms\n",
      "26: 416x640 1 plate, 13.7ms\n",
      "27: 416x640 1 plate, 13.7ms\n",
      "28: 416x640 1 plate, 13.7ms\n",
      "29: 416x640 1 plate, 13.7ms\n",
      "30: 416x640 1 plate, 13.7ms\n",
      "31: 416x640 3 plates, 13.7ms\n",
      "32: 416x640 1 plate, 13.7ms\n",
      "33: 416x640 1 plate, 13.7ms\n",
      "34: 416x640 2 plates, 13.7ms\n",
      "35: 416x640 2 plates, 13.7ms\n",
      "36: 416x640 2 plates, 13.7ms\n",
      "37: 416x640 1 plate, 13.7ms\n",
      "38: 416x640 1 plate, 13.7ms\n",
      "39: 416x640 1 plate, 13.7ms\n",
      "40: 416x640 1 plate, 13.7ms\n",
      "41: 416x640 1 plate, 13.7ms\n",
      "42: 416x640 2 plates, 13.7ms\n",
      "43: 416x640 1 plate, 13.7ms\n",
      "44: 416x640 1 plate, 13.7ms\n",
      "45: 416x640 2 plates, 13.7ms\n",
      "46: 416x640 2 plates, 13.7ms\n",
      "47: 416x640 1 plate, 13.7ms\n",
      "48: 416x640 2 plates, 13.7ms\n",
      "49: 416x640 1 plate, 13.7ms\n",
      "50: 416x640 4 plates, 13.7ms\n",
      "51: 416x640 1 plate, 13.7ms\n",
      "52: 416x640 1 plate, 13.7ms\n",
      "53: 416x640 1 plate, 13.7ms\n",
      "54: 416x640 1 plate, 13.7ms\n",
      "55: 416x640 1 plate, 13.7ms\n",
      "56: 416x640 1 plate, 13.7ms\n",
      "57: 416x640 1 plate, 13.7ms\n",
      "58: 416x640 2 plates, 13.7ms\n",
      "59: 416x640 1 plate, 13.7ms\n",
      "60: 416x640 1 plate, 13.7ms\n",
      "61: 416x640 1 plate, 13.7ms\n",
      "62: 416x640 1 plate, 13.7ms\n",
      "63: 416x640 1 plate, 13.7ms\n",
      "Speed: 3.7ms preprocess, 13.7ms inference, 3.8ms postprocess per image at shape (1, 3, 416, 640)\n",
      "Yolo results are generated for batch 0 \n",
      "\n",
      "Found Bounding Boxes\n",
      "Images were cropped \n",
      "\n",
      "conf=0.6, show=False, save=False\n",
      "Running inference on Image\n",
      "\n",
      "0: 640x640 1 plate, 19.5ms\n",
      "1: 640x640 3 plates, 19.5ms\n",
      "2: 640x640 1 plate, 19.5ms\n",
      "3: 640x640 1 plate, 19.5ms\n",
      "4: 640x640 1 plate, 19.5ms\n",
      "5: 640x640 2 plates, 19.5ms\n",
      "6: 640x640 1 plate, 19.5ms\n",
      "7: 640x640 1 plate, 19.5ms\n",
      "8: 640x640 2 plates, 19.5ms\n",
      "9: 640x640 1 plate, 19.5ms\n",
      "10: 640x640 1 plate, 19.5ms\n",
      "11: 640x640 2 plates, 19.5ms\n",
      "12: 640x640 1 plate, 19.5ms\n",
      "13: 640x640 1 plate, 19.5ms\n",
      "14: 640x640 2 plates, 19.5ms\n",
      "15: 640x640 2 plates, 19.5ms\n",
      "16: 640x640 1 plate, 19.5ms\n",
      "17: 640x640 1 plate, 19.5ms\n",
      "18: 640x640 1 plate, 19.5ms\n",
      "19: 640x640 2 plates, 19.5ms\n",
      "20: 640x640 3 plates, 19.5ms\n",
      "21: 640x640 3 plates, 19.5ms\n",
      "22: 640x640 1 plate, 19.5ms\n",
      "23: 640x640 1 plate, 19.5ms\n",
      "24: 640x640 1 plate, 19.5ms\n",
      "25: 640x640 1 plate, 19.5ms\n",
      "26: 640x640 1 plate, 19.5ms\n",
      "27: 640x640 1 plate, 19.5ms\n",
      "28: 640x640 1 plate, 19.5ms\n",
      "29: 640x640 1 plate, 19.5ms\n",
      "30: 640x640 1 plate, 19.5ms\n",
      "31: 640x640 1 plate, 19.5ms\n",
      "32: 640x640 3 plates, 19.5ms\n",
      "33: 640x640 1 plate, 19.5ms\n",
      "34: 640x640 1 plate, 19.5ms\n",
      "35: 640x640 1 plate, 19.5ms\n",
      "Speed: 4.3ms preprocess, 19.5ms inference, 1.0ms postprocess per image at shape (1, 3, 640, 640)\n",
      "Yolo results are generated for batch 1 \n",
      "\n",
      "Found Bounding Boxes\n",
      "Images were cropped \n",
      "\n",
      "All images were cropped successfully\n"
     ]
    }
   ],
   "source": [
    "cropped_out = inference.run_full_pipeline(images, conf=0.6, batch_size=64)"
   ]
  },
  {
   "cell_type": "code",
   "execution_count": 21,
   "metadata": {},
   "outputs": [
    {
     "name": "stderr",
     "output_type": "stream",
     "text": [
      "Saving images: 100%|██████████| 128/128 [00:00<00:00, 681.45file/s]"
     ]
    },
    {
     "name": "stdout",
     "output_type": "stream",
     "text": [
      "Files were saved successfully in C:/Users/Alireza/Desktop/plates/ \n",
      "\n"
     ]
    },
    {
     "name": "stderr",
     "output_type": "stream",
     "text": [
      "\n"
     ]
    }
   ],
   "source": [
    "output_dir = \"C:/Users/Alireza/Desktop/plates/\"\n",
    "IMUtils.save_cropped_images(cropped_out, output_dir)"
   ]
  },
  {
   "cell_type": "markdown",
   "metadata": {},
   "source": [
    "# Training ResNet"
   ]
  },
  {
   "cell_type": "code",
   "execution_count": 44,
   "metadata": {},
   "outputs": [],
   "source": [
    "from services.ai_services.my_models import Plate_ResNet\n",
    "import services.ai_services.utils as AIUtils\n",
    "from torch.utils.data import DataLoader"
   ]
  },
  {
   "cell_type": "code",
   "execution_count": 45,
   "metadata": {},
   "outputs": [
    {
     "name": "stdout",
     "output_type": "stream",
     "text": [
      "NVIDIA GeForce GTX 1660 Ti have been located and selected\n",
      "Selected model is ResNetType.Base\n",
      "ResNet50\n",
      "======================================================================\n",
      "Layer (type:depth-idx)                        Param #\n",
      "======================================================================\n",
      "CustomResNet                                  --\n",
      "├─ResNet: 1-1                                 --\n",
      "│    └─Conv2d: 2-1                            9,408\n",
      "│    └─BatchNorm2d: 2-2                       128\n",
      "│    └─ReLU: 2-3                              --\n",
      "│    └─MaxPool2d: 2-4                         --\n",
      "│    └─Sequential: 2-5                        --\n",
      "│    │    └─Bottleneck: 3-1                   75,008\n",
      "│    │    └─Bottleneck: 3-2                   70,400\n",
      "│    │    └─Bottleneck: 3-3                   70,400\n",
      "│    └─Sequential: 2-6                        --\n",
      "│    │    └─Bottleneck: 3-4                   379,392\n",
      "│    │    └─Bottleneck: 3-5                   280,064\n",
      "│    │    └─Bottleneck: 3-6                   280,064\n",
      "│    │    └─Bottleneck: 3-7                   280,064\n",
      "│    └─Sequential: 2-7                        --\n",
      "│    │    └─Bottleneck: 3-8                   1,512,448\n",
      "│    │    └─Bottleneck: 3-9                   1,117,184\n",
      "│    │    └─Bottleneck: 3-10                  1,117,184\n",
      "│    │    └─Bottleneck: 3-11                  1,117,184\n",
      "│    │    └─Bottleneck: 3-12                  1,117,184\n",
      "│    │    └─Bottleneck: 3-13                  1,117,184\n",
      "│    └─Sequential: 2-8                        --\n",
      "│    │    └─Bottleneck: 3-14                  6,039,552\n",
      "│    │    └─Bottleneck: 3-15                  4,462,592\n",
      "│    │    └─Bottleneck: 3-16                  4,462,592\n",
      "│    └─AdaptiveAvgPool2d: 2-9                 --\n",
      "│    └─Dropout: 2-10                          --\n",
      "├─Sequential: 1-2                             --\n",
      "│    └─Linear: 2-11                           1,049,088\n",
      "│    └─BatchNorm1d: 2-12                      1,024\n",
      "│    └─SiLU: 2-13                             --\n",
      "│    └─Linear: 2-14                           65,664\n",
      "│    └─BatchNorm1d: 2-15                      256\n",
      "│    └─SiLU: 2-16                             --\n",
      "│    └─Linear: 2-17                           4,128\n",
      "│    └─BatchNorm1d: 2-18                      64\n",
      "│    └─SiLU: 2-19                             --\n",
      "├─Linear: 1-3                                 66\n",
      "├─Linear: 1-4                                 66\n",
      "├─Linear: 1-5                                 66\n",
      "├─Linear: 1-6                                 66\n",
      "======================================================================\n",
      "Total params: 24,628,520\n",
      "Trainable params: 24,628,520\n",
      "Non-trainable params: 0\n",
      "====================================================================== \n",
      "\n"
     ]
    }
   ],
   "source": [
    "device = AIUtils.select_device()\n",
    "res = Plate_ResNet(device=device)"
   ]
  },
  {
   "cell_type": "code",
   "execution_count": 46,
   "metadata": {},
   "outputs": [
    {
     "name": "stdout",
     "output_type": "stream",
     "text": [
      "Start freezing feature extractor ...\n",
      "Feature extractor freezed\n",
      "Model is in cuda\n",
      "======================================================================\n",
      "Layer (type:depth-idx)                        Param #\n",
      "======================================================================\n",
      "CustomResNet                                  --\n",
      "├─ResNet: 1-1                                 --\n",
      "│    └─Conv2d: 2-1                            (9,408)\n",
      "│    └─BatchNorm2d: 2-2                       (128)\n",
      "│    └─ReLU: 2-3                              --\n",
      "│    └─MaxPool2d: 2-4                         --\n",
      "│    └─Sequential: 2-5                        --\n",
      "│    │    └─Bottleneck: 3-1                   (75,008)\n",
      "│    │    └─Bottleneck: 3-2                   (70,400)\n",
      "│    │    └─Bottleneck: 3-3                   (70,400)\n",
      "│    └─Sequential: 2-6                        --\n",
      "│    │    └─Bottleneck: 3-4                   (379,392)\n",
      "│    │    └─Bottleneck: 3-5                   (280,064)\n",
      "│    │    └─Bottleneck: 3-6                   (280,064)\n",
      "│    │    └─Bottleneck: 3-7                   (280,064)\n",
      "│    └─Sequential: 2-7                        --\n",
      "│    │    └─Bottleneck: 3-8                   (1,512,448)\n",
      "│    │    └─Bottleneck: 3-9                   (1,117,184)\n",
      "│    │    └─Bottleneck: 3-10                  (1,117,184)\n",
      "│    │    └─Bottleneck: 3-11                  (1,117,184)\n",
      "│    │    └─Bottleneck: 3-12                  (1,117,184)\n",
      "│    │    └─Bottleneck: 3-13                  (1,117,184)\n",
      "│    └─Sequential: 2-8                        --\n",
      "│    │    └─Bottleneck: 3-14                  (6,039,552)\n",
      "│    │    └─Bottleneck: 3-15                  (4,462,592)\n",
      "│    │    └─Bottleneck: 3-16                  (4,462,592)\n",
      "│    └─AdaptiveAvgPool2d: 2-9                 --\n",
      "│    └─Dropout: 2-10                          --\n",
      "├─Sequential: 1-2                             --\n",
      "│    └─Linear: 2-11                           1,049,088\n",
      "│    └─BatchNorm1d: 2-12                      1,024\n",
      "│    └─SiLU: 2-13                             --\n",
      "│    └─Linear: 2-14                           65,664\n",
      "│    └─BatchNorm1d: 2-15                      256\n",
      "│    └─SiLU: 2-16                             --\n",
      "│    └─Linear: 2-17                           4,128\n",
      "│    └─BatchNorm1d: 2-18                      64\n",
      "│    └─SiLU: 2-19                             --\n",
      "├─Linear: 1-3                                 66\n",
      "├─Linear: 1-4                                 66\n",
      "├─Linear: 1-5                                 66\n",
      "├─Linear: 1-6                                 66\n",
      "======================================================================\n",
      "Total params: 24,628,520\n",
      "Trainable params: 1,120,488\n",
      "Non-trainable params: 23,508,032\n",
      "======================================================================\n"
     ]
    }
   ],
   "source": [
    "res.freeze_unfreeze(True)\n",
    "res.write_summary()"
   ]
  },
  {
   "cell_type": "code",
   "execution_count": 47,
   "metadata": {},
   "outputs": [],
   "source": [
    "batch = 100\n",
    "\n",
    "train_dataset = AIUtils.CustomResNetDataset(\"C:/Users/Alireza/Desktop/plate_data/train/images\",\n",
    "                                            \"C:/Users/Alireza/Desktop/plate_data/train/labels\")\n",
    "train_loader = DataLoader(train_dataset, batch, shuffle=True)\n",
    "\n",
    "valid_dataset = AIUtils.CustomResNetDataset(\"C:/Users/Alireza/Desktop/plate_data/valid/images\",\n",
    "                                            \"C:/Users/Alireza/Desktop/plate_data/valid/labels\")\n",
    "valid_loader = DataLoader(valid_dataset, batch, shuffle=True)"
   ]
  },
  {
   "cell_type": "code",
   "execution_count": 48,
   "metadata": {},
   "outputs": [],
   "source": [
    "import torch.nn as nn\n",
    "import torch.optim as optim\n",
    "import matplotlib.pyplot as plt"
   ]
  },
  {
   "cell_type": "code",
   "execution_count": 49,
   "metadata": {},
   "outputs": [
    {
     "name": "stdout",
     "output_type": "stream",
     "text": [
      "Starting training process for model ResNetType.Base ...\n",
      "Hyper Parameters:\n",
      "- Epochs Number = 50\n",
      "- Learning Rate = 0.0005\n",
      "- Weight Decay = 1e-05\n",
      "- Loss Function = MSELoss()\n",
      "- Optimizer = Adam (\n",
      "Parameter Group 0\n",
      "    amsgrad: False\n",
      "    betas: (0.9, 0.999)\n",
      "    capturable: False\n",
      "    differentiable: False\n",
      "    eps: 1e-08\n",
      "    foreach: None\n",
      "    fused: None\n",
      "    lr: 0.0005\n",
      "    maximize: False\n",
      "    weight_decay: 1e-05\n",
      ") \n",
      "\n"
     ]
    },
    {
     "name": "stderr",
     "output_type": "stream",
     "text": [
      "                                                                                           "
     ]
    },
    {
     "name": "stdout",
     "output_type": "stream",
     "text": [
      "Training Summary for 50 number of epochs:\n",
      "    last epoch: Train loss=0.000020, Val loss=0.000044\n",
      "    best epoch: Train loss=0.000028, Val loss=0.000042\n",
      "\n",
      "Training completed\n",
      "Training time: 12 minutes and 33.52 seconds\n"
     ]
    },
    {
     "name": "stderr",
     "output_type": "stream",
     "text": [
      "\r"
     ]
    }
   ],
   "source": [
    "lr=5e-4\n",
    "weight_decay=1e-5\n",
    "optimizer = optim.Adam(res.model.parameters(), lr=lr, weight_decay=weight_decay)\n",
    "criterion = nn.MSELoss()\n",
    "\n",
    "res.train(train_loader,\n",
    "          valid_loader,\n",
    "          optimizer,\n",
    "          weight_decay=weight_decay,\n",
    "          lr=lr,\n",
    "          epochs=50,\n",
    "          loss_fn=criterion)"
   ]
  },
  {
   "cell_type": "code",
   "execution_count": 50,
   "metadata": {},
   "outputs": [],
   "source": [
    "his = res.model_training_history"
   ]
  },
  {
   "cell_type": "code",
   "execution_count": 65,
   "metadata": {},
   "outputs": [
    {
     "data": {
      "image/png": "[encoded data removed]",
      "text/plain": [
       "<Figure size 640x480 with 1 Axes>"
      ]
     },
     "metadata": {},
     "output_type": "display_data"
    },
    {
     "data": {
      "image/png": "[encoded data removed]",
      "text/plain": [
       "<Figure size 640x480 with 1 Axes>"
      ]
     },
     "metadata": {},
     "output_type": "display_data"
    }
   ],
   "source": [
    "plt.plot(his['train_loss'], label='Training loss')\n",
    "plt.legend()\n",
    "plt.grid()\n",
    "plt.show()\n",
    "\n",
    "plt.plot(his['valid_loss'], label='Validation loss')\n",
    "plt.legend()\n",
    "plt.grid()\n",
    "plt.show()"
   ]
  },
  {
   "cell_type": "markdown",
   "metadata": {},
   "source": [
    "# Test ResNet Inference"
   ]
  },
  {
   "cell_type": "code",
   "execution_count": 354,
   "metadata": {},
   "outputs": [],
   "source": [
    "from services.image_handler.utils import read_image, convert_to_rgb, show_image\n",
    "import services.ai_services.inferences as INF\n",
    "from services.ai_services.my_models import Plate_ResNet\n",
    "from services.ai_services.model_handler import ResNetType"
   ]
  },
  {
   "cell_type": "code",
   "execution_count": 355,
   "metadata": {},
   "outputs": [
    {
     "name": "stdout",
     "output_type": "stream",
     "text": [
      "Selected model is ResNetType.Corner_last\n",
      "ResNet50\n",
      "======================================================================\n",
      "Layer (type:depth-idx)                        Param #\n",
      "======================================================================\n",
      "CustomResNet                                  --\n",
      "├─ResNet: 1-1                                 --\n",
      "│    └─Conv2d: 2-1                            9,408\n",
      "│    └─BatchNorm2d: 2-2                       128\n",
      "│    └─ReLU: 2-3                              --\n",
      "│    └─MaxPool2d: 2-4                         --\n",
      "│    └─Sequential: 2-5                        --\n",
      "│    │    └─Bottleneck: 3-1                   75,008\n",
      "│    │    └─Bottleneck: 3-2                   70,400\n",
      "│    │    └─Bottleneck: 3-3                   70,400\n",
      "│    └─Sequential: 2-6                        --\n",
      "│    │    └─Bottleneck: 3-4                   379,392\n",
      "│    │    └─Bottleneck: 3-5                   280,064\n",
      "│    │    └─Bottleneck: 3-6                   280,064\n",
      "│    │    └─Bottleneck: 3-7                   280,064\n",
      "│    └─Sequential: 2-7                        --\n",
      "│    │    └─Bottleneck: 3-8                   1,512,448\n",
      "│    │    └─Bottleneck: 3-9                   1,117,184\n",
      "│    │    └─Bottleneck: 3-10                  1,117,184\n",
      "│    │    └─Bottleneck: 3-11                  1,117,184\n",
      "│    │    └─Bottleneck: 3-12                  1,117,184\n",
      "│    │    └─Bottleneck: 3-13                  1,117,184\n",
      "│    └─Sequential: 2-8                        --\n",
      "│    │    └─Bottleneck: 3-14                  6,039,552\n",
      "│    │    └─Bottleneck: 3-15                  4,462,592\n",
      "│    │    └─Bottleneck: 3-16                  4,462,592\n",
      "│    └─AdaptiveAvgPool2d: 2-9                 --\n",
      "│    └─Dropout: 2-10                          --\n",
      "├─Sequential: 1-2                             --\n",
      "│    └─Linear: 2-11                           1,049,088\n",
      "│    └─BatchNorm1d: 2-12                      1,024\n",
      "│    └─SiLU: 2-13                             --\n",
      "│    └─Linear: 2-14                           65,664\n",
      "│    └─BatchNorm1d: 2-15                      256\n",
      "│    └─SiLU: 2-16                             --\n",
      "│    └─Linear: 2-17                           4,128\n",
      "│    └─BatchNorm1d: 2-18                      64\n",
      "│    └─SiLU: 2-19                             --\n",
      "├─Linear: 1-3                                 66\n",
      "├─Linear: 1-4                                 66\n",
      "├─Linear: 1-5                                 66\n",
      "├─Linear: 1-6                                 66\n",
      "======================================================================\n",
      "Total params: 24,628,520\n",
      "Trainable params: 24,628,520\n",
      "Non-trainable params: 0\n",
      "====================================================================== \n",
      "\n"
     ]
    }
   ],
   "source": [
    "res = Plate_ResNet(ResNetType.Corner_best)"
   ]
  },
  {
   "cell_type": "code",
   "execution_count": 135,
   "metadata": {},
   "outputs": [],
   "source": [
    "a = read_image(\"C:/Users/Alireza/Desktop/plate_data/valid/images/cropped_image_411_jpg.rf.e03ec990eb1b8e272164627cae6b61f9.jpg\")\n",
    "b = read_image(\"C:/Users/Alireza/Desktop/plate_data/valid/images/ropped_image_170_jpg.rf.f2bab48defbd200f95c6e66f241269ef.jpg\")\n",
    "c = read_image(\"C:/Users/Alireza/Desktop/plate_data/valid/images/ropped_image_44_jpg.rf.6853fc94d8cba2c552cab3b7206e78a9.jpg\")\n",
    "a = convert_to_rgb(a)\n",
    "b = convert_to_rgb(b)\n",
    "c = convert_to_rgb(c)"
   ]
  },
  {
   "cell_type": "code",
   "execution_count": 39,
   "metadata": {},
   "outputs": [],
   "source": [
    "inference = INF.PlateResNetInference(res)"
   ]
  },
  {
   "cell_type": "code",
   "execution_count": 40,
   "metadata": {},
   "outputs": [
    {
     "name": "stdout",
     "output_type": "stream",
     "text": [
      "Prepairing Images ... \n",
      "\n",
      "Running full pipeline ... \n",
      "\n",
      "Running inference on Image Batch\n",
      "Outputs Generated\n",
      "Corner points found for batch 0 \n",
      "\n",
      "Rectified images in batch 2 appended to the results \n",
      "\n"
     ]
    }
   ],
   "source": [
    "results = inference.run_full_pipeline([a,b,c])"
   ]
  },
  {
   "cell_type": "code",
   "execution_count": null,
   "metadata": {},
   "outputs": [],
   "source": [
    "for i in [a, b, c]: show_image(i)"
   ]
  },
  {
   "cell_type": "code",
   "execution_count": null,
   "metadata": {},
   "outputs": [],
   "source": [
    "for i in results: show_image(i)"
   ]
  },
  {
   "cell_type": "markdown",
   "metadata": {},
   "source": [
    "# Training UNet"
   ]
  },
  {
   "cell_type": "code",
   "execution_count": 1,
   "metadata": {},
   "outputs": [],
   "source": [
    "from services.ai_services.my_models import Plate_Unet\n",
    "import services.ai_services.utils as AIUtils\n",
    "from torch.utils.data import DataLoader"
   ]
  },
  {
   "cell_type": "code",
   "execution_count": 7,
   "metadata": {},
   "outputs": [
    {
     "name": "stdout",
     "output_type": "stream",
     "text": [
      "NVIDIA GeForce GTX 1660 Ti have been located and selected\n",
      "Selected model is UNetType.Base\n",
      "Unet\n",
      "======================================================================\n",
      "Layer (type:depth-idx)                        Param #\n",
      "======================================================================\n",
      "Unet                                          --\n",
      "├─ResNetEncoder: 1-1                          --\n",
      "│    └─Conv2d: 2-1                            9,408\n",
      "│    └─BatchNorm2d: 2-2                       128\n",
      "│    └─ReLU: 2-3                              --\n",
      "│    └─MaxPool2d: 2-4                         --\n",
      "│    └─Sequential: 2-5                        --\n",
      "│    │    └─BasicBlock: 3-1                   73,984\n",
      "│    │    └─BasicBlock: 3-2                   73,984\n",
      "│    │    └─BasicBlock: 3-3                   73,984\n",
      "│    └─Sequential: 2-6                        --\n",
      "│    │    └─BasicBlock: 3-4                   230,144\n",
      "│    │    └─BasicBlock: 3-5                   295,424\n",
      "│    │    └─BasicBlock: 3-6                   295,424\n",
      "│    │    └─BasicBlock: 3-7                   295,424\n",
      "│    └─Sequential: 2-7                        --\n",
      "│    │    └─BasicBlock: 3-8                   919,040\n",
      "│    │    └─BasicBlock: 3-9                   1,180,672\n",
      "│    │    └─BasicBlock: 3-10                  1,180,672\n",
      "│    │    └─BasicBlock: 3-11                  1,180,672\n",
      "│    │    └─BasicBlock: 3-12                  1,180,672\n",
      "│    │    └─BasicBlock: 3-13                  1,180,672\n",
      "│    └─Sequential: 2-8                        --\n",
      "│    │    └─BasicBlock: 3-14                  3,673,088\n",
      "│    │    └─BasicBlock: 3-15                  4,720,640\n",
      "│    │    └─BasicBlock: 3-16                  4,720,640\n",
      "├─UnetDecoder: 1-2                            --\n",
      "│    └─Identity: 2-9                          --\n",
      "│    └─ModuleList: 2-10                       --\n",
      "│    │    └─DecoderBlock: 3-17                2,360,320\n",
      "│    │    └─DecoderBlock: 3-18                590,336\n",
      "│    │    └─DecoderBlock: 3-19                147,712\n",
      "│    │    └─DecoderBlock: 3-20                46,208\n",
      "│    │    └─DecoderBlock: 3-21                6,976\n",
      "├─SegmentationHead: 1-3                       --\n",
      "│    └─Conv2d: 2-11                           145\n",
      "│    └─Identity: 2-12                         --\n",
      "│    └─Sigmoid: 2-13                          --\n",
      "======================================================================\n",
      "Total params: 24,436,369\n",
      "Trainable params: 24,436,369\n",
      "Non-trainable params: 0\n",
      "====================================================================== \n",
      "\n"
     ]
    }
   ],
   "source": [
    "device = AIUtils.select_device()\n",
    "U = Plate_Unet(device=device)"
   ]
  },
  {
   "cell_type": "code",
   "execution_count": 8,
   "metadata": {},
   "outputs": [
    {
     "name": "stdout",
     "output_type": "stream",
     "text": [
      "Start freezing encoder layers ...\n",
      "Encoder layers freezed\n",
      "Model is in cuda\n",
      "======================================================================\n",
      "Layer (type:depth-idx)                        Param #\n",
      "======================================================================\n",
      "Unet                                          --\n",
      "├─ResNetEncoder: 1-1                          --\n",
      "│    └─Conv2d: 2-1                            (9,408)\n",
      "│    └─BatchNorm2d: 2-2                       (128)\n",
      "│    └─ReLU: 2-3                              --\n",
      "│    └─MaxPool2d: 2-4                         --\n",
      "│    └─Sequential: 2-5                        --\n",
      "│    │    └─BasicBlock: 3-1                   (73,984)\n",
      "│    │    └─BasicBlock: 3-2                   (73,984)\n",
      "│    │    └─BasicBlock: 3-3                   (73,984)\n",
      "│    └─Sequential: 2-6                        --\n",
      "│    │    └─BasicBlock: 3-4                   (230,144)\n",
      "│    │    └─BasicBlock: 3-5                   (295,424)\n",
      "│    │    └─BasicBlock: 3-6                   (295,424)\n",
      "│    │    └─BasicBlock: 3-7                   (295,424)\n",
      "│    └─Sequential: 2-7                        --\n",
      "│    │    └─BasicBlock: 3-8                   (919,040)\n",
      "│    │    └─BasicBlock: 3-9                   (1,180,672)\n",
      "│    │    └─BasicBlock: 3-10                  (1,180,672)\n",
      "│    │    └─BasicBlock: 3-11                  (1,180,672)\n",
      "│    │    └─BasicBlock: 3-12                  (1,180,672)\n",
      "│    │    └─BasicBlock: 3-13                  (1,180,672)\n",
      "│    └─Sequential: 2-8                        --\n",
      "│    │    └─BasicBlock: 3-14                  (3,673,088)\n",
      "│    │    └─BasicBlock: 3-15                  (4,720,640)\n",
      "│    │    └─BasicBlock: 3-16                  (4,720,640)\n",
      "├─UnetDecoder: 1-2                            --\n",
      "│    └─Identity: 2-9                          --\n",
      "│    └─ModuleList: 2-10                       --\n",
      "│    │    └─DecoderBlock: 3-17                2,360,320\n",
      "│    │    └─DecoderBlock: 3-18                590,336\n",
      "│    │    └─DecoderBlock: 3-19                147,712\n",
      "│    │    └─DecoderBlock: 3-20                46,208\n",
      "│    │    └─DecoderBlock: 3-21                6,976\n",
      "├─SegmentationHead: 1-3                       --\n",
      "│    └─Conv2d: 2-11                           145\n",
      "│    └─Identity: 2-12                         --\n",
      "│    └─Sigmoid: 2-13                          --\n",
      "======================================================================\n",
      "Total params: 24,436,369\n",
      "Trainable params: 3,151,697\n",
      "Non-trainable params: 21,284,672\n",
      "======================================================================\n"
     ]
    }
   ],
   "source": [
    "U.freeze_unfreeze(True)\n",
    "U.write_summary()"
   ]
  },
  {
   "cell_type": "code",
   "execution_count": 9,
   "metadata": {},
   "outputs": [],
   "source": [
    "batch = 32\n",
    "\n",
    "train_dataset = AIUtils.CustomUNetDataset(\"C:/Users/Alireza/Desktop/plate_data/train/images\",\n",
    "                                            \"C:/Users/Alireza/Desktop/plate_data/train/labels\")\n",
    "train_loader = DataLoader(train_dataset, batch, shuffle=True)\n",
    "\n",
    "valid_dataset = AIUtils.CustomUNetDataset(\"C:/Users/Alireza/Desktop/plate_data/valid/images\",\n",
    "                                            \"C:/Users/Alireza/Desktop/plate_data/valid/labels\")\n",
    "valid_loader = DataLoader(valid_dataset, batch, shuffle=True)"
   ]
  },
  {
   "cell_type": "code",
   "execution_count": 10,
   "metadata": {},
   "outputs": [],
   "source": [
    "import torch.nn as nn\n",
    "import torch.optim as optim\n",
    "import matplotlib.pyplot as plt"
   ]
  },
  {
   "cell_type": "code",
   "execution_count": 11,
   "metadata": {},
   "outputs": [
    {
     "name": "stdout",
     "output_type": "stream",
     "text": [
      "Starting training process for model UNetType.Base ...\n",
      "Hyper Parameters:\n",
      "- Epochs Number = 20\n",
      "- Learning Rate = 0.0005\n",
      "- Weight Decay = 1e-05\n",
      "- Loss Function = BCELoss()\n",
      "- Optimizer = Adam (\n",
      "Parameter Group 0\n",
      "    amsgrad: False\n",
      "    betas: (0.9, 0.999)\n",
      "    capturable: False\n",
      "    differentiable: False\n",
      "    eps: 1e-08\n",
      "    foreach: None\n",
      "    fused: None\n",
      "    lr: 0.0005\n",
      "    maximize: False\n",
      "    weight_decay: 1e-05\n",
      ")\n",
      "\n",
      "Start training on cuda: \n",
      "\n"
     ]
    },
    {
     "name": "stderr",
     "output_type": "stream",
     "text": [
      "                                                                                                         \r"
     ]
    },
    {
     "name": "stdout",
     "output_type": "stream",
     "text": [
      "Training Summary for 20 number of epochs:\n",
      "    last epoch: Train loss = 0.000911, train IoU = 0.980677\n",
      "                Valid loss = 0.008008, valid IoU = 0.920227\n",
      "    best epoch: Train loss = 0.002348, Valid loss = 0.005516\n",
      "\n",
      "Training completed\n",
      "Training time: 9 minutes and 17.70 seconds\n"
     ]
    }
   ],
   "source": [
    "lr=5e-4\n",
    "weight_decay=1e-5\n",
    "optimizer = optim.Adam(U.model.parameters(), lr=lr, weight_decay=weight_decay)\n",
    "criterion = nn.BCELoss()\n",
    "\n",
    "U.train(train_loader,\n",
    "        valid_loader,\n",
    "        optimizer,\n",
    "        weight_decay=weight_decay,\n",
    "        lr=lr,\n",
    "        epochs=20,\n",
    "        loss_fn=criterion)"
   ]
  },
  {
   "cell_type": "code",
   "execution_count": 12,
   "metadata": {},
   "outputs": [],
   "source": [
    "his = U.model_training_history"
   ]
  },
  {
   "cell_type": "code",
   "execution_count": 26,
   "metadata": {},
   "outputs": [
    {
     "data": {
      "image/png": "[encoded data removed]",
      "text/plain": [
       "<Figure size 640x480 with 1 Axes>"
      ]
     },
     "metadata": {},
     "output_type": "display_data"
    },
    {
     "data": {
      "image/png": "[encoded data removed]",
      "text/plain": [
       "<Figure size 640x480 with 1 Axes>"
      ]
     },
     "metadata": {},
     "output_type": "display_data"
    }
   ],
   "source": [
    "plt.plot(his['train_loss'], label='Training loss')\n",
    "plt.legend()\n",
    "plt.grid()\n",
    "plt.show()\n",
    "\n",
    "plt.plot(his['valid_loss'], label='Validation loss')\n",
    "plt.legend()\n",
    "plt.grid()\n",
    "plt.show()"
   ]
  },
  {
   "cell_type": "code",
   "execution_count": 27,
   "metadata": {},
   "outputs": [
    {
     "data": {
      "image/png": "[encoded data removed]",
      "text/plain": [
       "<Figure size 640x480 with 1 Axes>"
      ]
     },
     "metadata": {},
     "output_type": "display_data"
    },
    {
     "data": {
      "image/png": "[encoded data removed]",
      "text/plain": [
       "<Figure size 640x480 with 1 Axes>"
      ]
     },
     "metadata": {},
     "output_type": "display_data"
    }
   ],
   "source": [
    "plt.plot(his['train_iou'], label='train IoU')\n",
    "plt.legend()\n",
    "plt.grid()\n",
    "plt.show()\n",
    "\n",
    "plt.plot(his['valid_iou'], label='valid IoU')\n",
    "plt.legend()\n",
    "plt.grid()\n",
    "plt.show()"
   ]
  },
  {
   "cell_type": "markdown",
   "metadata": {},
   "source": [
    "# Test Unet Inference"
   ]
  },
  {
   "cell_type": "code",
   "execution_count": 1,
   "metadata": {},
   "outputs": [],
   "source": [
    "from services.ai_services.my_models import Plate_Unet\n",
    "import services.ai_services.inferences as INF\n",
    "import services.ai_services.utils as AIUtils\n",
    "import services.image_handler.utils as IMUtils\n",
    "from services.ai_services.model_handler import UNetType"
   ]
  },
  {
   "cell_type": "code",
   "execution_count": 2,
   "metadata": {},
   "outputs": [
    {
     "name": "stdout",
     "output_type": "stream",
     "text": [
      "NVIDIA GeForce GTX 1660 Ti have been located and selected\n",
      "Selected model is UNetType.Corner_last\n",
      "Unet\n",
      "======================================================================\n",
      "Layer (type:depth-idx)                        Param #\n",
      "======================================================================\n",
      "Unet                                          --\n",
      "├─ResNetEncoder: 1-1                          --\n",
      "│    └─Conv2d: 2-1                            9,408\n",
      "│    └─BatchNorm2d: 2-2                       128\n",
      "│    └─ReLU: 2-3                              --\n",
      "│    └─MaxPool2d: 2-4                         --\n",
      "│    └─Sequential: 2-5                        --\n",
      "│    │    └─BasicBlock: 3-1                   73,984\n",
      "│    │    └─BasicBlock: 3-2                   73,984\n",
      "│    │    └─BasicBlock: 3-3                   73,984\n",
      "│    └─Sequential: 2-6                        --\n",
      "│    │    └─BasicBlock: 3-4                   230,144\n",
      "│    │    └─BasicBlock: 3-5                   295,424\n",
      "│    │    └─BasicBlock: 3-6                   295,424\n",
      "│    │    └─BasicBlock: 3-7                   295,424\n",
      "│    └─Sequential: 2-7                        --\n",
      "│    │    └─BasicBlock: 3-8                   919,040\n",
      "│    │    └─BasicBlock: 3-9                   1,180,672\n",
      "│    │    └─BasicBlock: 3-10                  1,180,672\n",
      "│    │    └─BasicBlock: 3-11                  1,180,672\n",
      "│    │    └─BasicBlock: 3-12                  1,180,672\n",
      "│    │    └─BasicBlock: 3-13                  1,180,672\n",
      "│    └─Sequential: 2-8                        --\n",
      "│    │    └─BasicBlock: 3-14                  3,673,088\n",
      "│    │    └─BasicBlock: 3-15                  4,720,640\n",
      "│    │    └─BasicBlock: 3-16                  4,720,640\n",
      "├─UnetDecoder: 1-2                            --\n",
      "│    └─Identity: 2-9                          --\n",
      "│    └─ModuleList: 2-10                       --\n",
      "│    │    └─DecoderBlock: 3-17                2,360,320\n",
      "│    │    └─DecoderBlock: 3-18                590,336\n",
      "│    │    └─DecoderBlock: 3-19                147,712\n",
      "│    │    └─DecoderBlock: 3-20                46,208\n",
      "│    │    └─DecoderBlock: 3-21                6,976\n",
      "├─SegmentationHead: 1-3                       --\n",
      "│    └─Conv2d: 2-11                           145\n",
      "│    └─Identity: 2-12                         --\n",
      "│    └─Sigmoid: 2-13                          --\n",
      "======================================================================\n",
      "Total params: 24,436,369\n",
      "Trainable params: 24,436,369\n",
      "Non-trainable params: 0\n",
      "====================================================================== \n",
      "\n"
     ]
    }
   ],
   "source": [
    "device = AIUtils.select_device()\n",
    "U = Plate_Unet(UNetType.Corner_best, device=device)"
   ]
  },
  {
   "cell_type": "code",
   "execution_count": 3,
   "metadata": {},
   "outputs": [],
   "source": [
    "a = IMUtils.read_image(\"C:/Users/Alireza/Desktop/plate_data/train/images/cropped_image_58_jpg.rf.9c1dd8a512ffaf836c434cd2207ac14b.jpg\")\n",
    "b = IMUtils.read_image(\"C:/Users/Alireza/Desktop/plate_data/train/images/cropped_image_57_jpg.rf.64dbc3c27dc248e5ef563afcfd9597cc.jpg\")\n",
    "c = IMUtils.read_image(\"C:/Users/Alireza/Desktop/plate_data/valid/images/cropped_image_444_jpg.rf.f22855184a9906a041c9b49038db4a3d.jpg\")\n",
    "d = IMUtils.read_image(\"C:/Users/Alireza/Desktop/plate_data/valid/images/ropped_image_163_jpg.rf.76383c54125bcfbd32c52392a02b92bf.jpg\")\n",
    "a = IMUtils.convert_to_rgb(a)\n",
    "b = IMUtils.convert_to_rgb(b)\n",
    "c = IMUtils.convert_to_rgb(c)\n",
    "d = IMUtils.convert_to_rgb(d)"
   ]
  },
  {
   "cell_type": "code",
   "execution_count": 4,
   "metadata": {},
   "outputs": [],
   "source": [
    "inference = INF.PlateUNetInference(U)"
   ]
  },
  {
   "cell_type": "code",
   "execution_count": 5,
   "metadata": {},
   "outputs": [
    {
     "name": "stdout",
     "output_type": "stream",
     "text": [
      "Prepairing Images ... \n",
      "\n",
      "Running full pipeline ... \n",
      "\n",
      "Running inference on Image Batch\n",
      "Outputs Generated\n",
      "Rectified images in batch 0 appended to the results \n",
      "\n"
     ]
    }
   ],
   "source": [
    "results = inference.run_full_pipeline([a,b,c,d])"
   ]
  },
  {
   "cell_type": "code",
   "execution_count": null,
   "metadata": {},
   "outputs": [],
   "source": [
    "for i in [a,b,c,d]: IMUtils.show_image(i)"
   ]
  },
  {
   "cell_type": "code",
   "execution_count": null,
   "metadata": {},
   "outputs": [],
   "source": [
    "for i in results: IMUtils.show_image(i)"
   ]
  },
  {
   "cell_type": "markdown",
   "metadata": {},
   "source": [
    "# test"
   ]
  }
 ],
 "metadata": {
  "kernelspec": {
   "display_name": ".venv",
   "language": "python",
   "name": "python3"
  },
  "language_info": {
   "codemirror_mode": {
    "name": "ipython",
    "version": 3
   },
   "file_extension": ".py",
   "mimetype": "text/x-python",
   "name": "python",
   "nbconvert_exporter": "python",
   "pygments_lexer": "ipython3",
   "version": "3.10.8"
  }
 },
 "nbformat": 4,
 "nbformat_minor": 2
}
