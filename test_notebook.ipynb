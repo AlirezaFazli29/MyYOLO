{
 "cells": [
  {
   "cell_type": "markdown",
   "metadata": {},
   "source": [
    "# Test Yolo Inference"
   ]
  },
  {
   "cell_type": "code",
   "execution_count": 1,
   "metadata": {},
   "outputs": [],
   "source": [
    "import services.ai_services.my_models as Models\n",
    "import services.image_handler.utils as IMUtils\n",
    "import services.ai_services.inferences as INF"
   ]
  },
  {
   "cell_type": "code",
   "execution_count": null,
   "metadata": {},
   "outputs": [],
   "source": [
    "yolo = Models.YOLOv8(Models.YoloType.Custom.Plate_best)"
   ]
  },
  {
   "cell_type": "code",
   "execution_count": null,
   "metadata": {},
   "outputs": [],
   "source": [
    "image = IMUtils.read_image('C:/Users/Alireza/Desktop/plate/2171038_FRONT.jpg')\n",
    "image_rgb = IMUtils.convert_to_rgb(image)\n",
    "image2 = IMUtils.read_image('C:/Users/Alireza/Desktop/plate/2170593_FRONT.jpg')\n",
    "image_rgb2 = IMUtils.convert_to_rgb(image2)\n",
    "IMUtils.show_image(image_rgb)\n",
    "IMUtils.show_image(image_rgb2)\n",
    "images = [image, image2]"
   ]
  },
  {
   "cell_type": "code",
   "execution_count": 6,
   "metadata": {},
   "outputs": [],
   "source": [
    "inference = INF.YOLOInference(yolo)"
   ]
  },
  {
   "cell_type": "code",
   "execution_count": null,
   "metadata": {},
   "outputs": [],
   "source": [
    "cropped_out = inference.run_full_pipeline(images)\n",
    "for i in cropped_out:\n",
    "    IMUtils.show_image(i, turn_grey=True, cmap='grey')"
   ]
  },
  {
   "cell_type": "markdown",
   "metadata": {},
   "source": [
    "# Get and Save Plates"
   ]
  },
  {
   "cell_type": "code",
   "execution_count": 1,
   "metadata": {},
   "outputs": [],
   "source": [
    "import services.image_handler.utils as IMUtils\n",
    "import services.ai_services.inferences as INF\n",
    "import services.ai_services.my_models as Models"
   ]
  },
  {
   "cell_type": "code",
   "execution_count": 2,
   "metadata": {},
   "outputs": [
    {
     "name": "stderr",
     "output_type": "stream",
     "text": [
      "Reading images: 100%|██████████| 139/139 [00:02<00:00, 64.51file/s]\n"
     ]
    }
   ],
   "source": [
    "images = IMUtils.read_images_from_file(\"C:/Users/Alireza/Desktop/cars/\")"
   ]
  },
  {
   "cell_type": "code",
   "execution_count": 4,
   "metadata": {},
   "outputs": [
    {
     "name": "stdout",
     "output_type": "stream",
     "text": [
      "Loading YOLO model from weights/best(plate).pt ...\n",
      "\n",
      " =====================================================================================\n",
      "Layer (type:depth-idx)                                       Param #\n",
      "=====================================================================================\n",
      "YOLO                                                         --\n",
      "├─DetectionModel: 1-1                                        --\n",
      "│    └─Sequential: 2-1                                       --\n",
      "│    │    └─Conv: 3-1                                        (1,392)\n",
      "│    │    └─Conv: 3-2                                        (41,664)\n",
      "│    │    └─C2f: 3-3                                         (111,360)\n",
      "│    │    └─Conv: 3-4                                        (166,272)\n",
      "│    │    └─C2f: 3-5                                         (813,312)\n",
      "│    │    └─Conv: 3-6                                        (664,320)\n",
      "│    │    └─C2f: 3-7                                         (3,248,640)\n",
      "│    │    └─Conv: 3-8                                        (1,991,808)\n",
      "│    │    └─C2f: 3-9                                         (3,985,920)\n",
      "│    │    └─SPPF: 3-10                                       (831,168)\n",
      "│    │    └─Upsample: 3-11                                   --\n",
      "│    │    └─Concat: 3-12                                     --\n",
      "│    │    └─C2f: 3-13                                        (1,993,728)\n",
      "│    │    └─Upsample: 3-14                                   --\n",
      "│    │    └─Concat: 3-15                                     --\n",
      "│    │    └─C2f: 3-16                                        (517,632)\n",
      "│    │    └─Conv: 3-17                                       (332,160)\n",
      "│    │    └─Concat: 3-18                                     --\n",
      "│    │    └─C2f: 3-19                                        (1,846,272)\n",
      "│    │    └─Conv: 3-20                                       (1,327,872)\n",
      "│    │    └─Concat: 3-21                                     --\n",
      "│    │    └─C2f: 3-22                                        (4,207,104)\n",
      "│    │    └─Detect: 3-23                                     (1,141,075)\n",
      "=====================================================================================\n",
      "Total params: 23,221,699\n",
      "Trainable params: 0\n",
      "Non-trainable params: 23,221,699\n",
      "=====================================================================================\n"
     ]
    }
   ],
   "source": [
    "model = Models.YOLOv8(Models.YoloType.Custom.Plate_best)\n",
    "inference = INF.YOLOInference(model)"
   ]
  },
  {
   "cell_type": "code",
   "execution_count": 5,
   "metadata": {},
   "outputs": [
    {
     "name": "stdout",
     "output_type": "stream",
     "text": [
      "Running full pipeline... \n",
      "\n",
      "conf=0.5, show=False, save=False\n",
      "Running inference on Image\n",
      "\n",
      "0: 640x640 1 plate, 19.2ms\n",
      "1: 640x640 1 plate, 19.2ms\n",
      "2: 640x640 1 plate, 19.2ms\n",
      "3: 640x640 1 plate, 19.2ms\n",
      "4: 640x640 2 plates, 19.2ms\n",
      "5: 640x640 8 plates, 19.2ms\n",
      "6: 640x640 6 plates, 19.2ms\n",
      "7: 640x640 1 plate, 19.2ms\n",
      "8: 640x640 1 plate, 19.2ms\n",
      "9: 640x640 1 plate, 19.2ms\n",
      "10: 640x640 2 plates, 19.2ms\n",
      "11: 640x640 1 plate, 19.2ms\n",
      "12: 640x640 1 plate, 19.2ms\n",
      "13: 640x640 1 plate, 19.2ms\n",
      "14: 640x640 1 plate, 19.2ms\n",
      "15: 640x640 1 plate, 19.2ms\n",
      "Speed: 17.1ms preprocess, 19.2ms inference, 6.7ms postprocess per image at shape (1, 3, 640, 640)\n",
      "Yolo results are generated for batch 0 \n",
      "\n",
      "Found Bounding Boxes\n",
      "Images were cropped \n",
      "\n",
      "conf=0.5, show=False, save=False\n",
      "Running inference on Image\n",
      "\n",
      "0: 640x640 1 plate, 17.3ms\n",
      "1: 640x640 1 plate, 17.3ms\n",
      "2: 640x640 1 plate, 17.3ms\n",
      "3: 640x640 1 plate, 17.3ms\n",
      "4: 640x640 1 plate, 17.3ms\n",
      "5: 640x640 2 plates, 17.3ms\n",
      "6: 640x640 1 plate, 17.3ms\n",
      "7: 640x640 1 plate, 17.3ms\n",
      "8: 640x640 1 plate, 17.3ms\n",
      "9: 640x640 1 plate, 17.3ms\n",
      "10: 640x640 1 plate, 17.3ms\n",
      "11: 640x640 1 plate, 17.3ms\n",
      "12: 640x640 1 plate, 17.3ms\n",
      "13: 640x640 1 plate, 17.3ms\n",
      "14: 640x640 1 plate, 17.3ms\n",
      "15: 640x640 1 plate, 17.3ms\n",
      "Speed: 11.1ms preprocess, 17.3ms inference, 1.1ms postprocess per image at shape (1, 3, 640, 640)\n",
      "Yolo results are generated for batch 1 \n",
      "\n",
      "Found Bounding Boxes\n",
      "Images were cropped \n",
      "\n",
      "conf=0.5, show=False, save=False\n",
      "Running inference on Image\n",
      "\n",
      "0: 640x640 1 plate, 17.3ms\n",
      "1: 640x640 1 plate, 17.3ms\n",
      "2: 640x640 1 plate, 17.3ms\n",
      "3: 640x640 2 plates, 17.3ms\n",
      "4: 640x640 1 plate, 17.3ms\n",
      "5: 640x640 1 plate, 17.3ms\n",
      "6: 640x640 2 plates, 17.3ms\n",
      "7: 640x640 1 plate, 17.3ms\n",
      "8: 640x640 1 plate, 17.3ms\n",
      "9: 640x640 1 plate, 17.3ms\n",
      "10: 640x640 1 plate, 17.3ms\n",
      "11: 640x640 2 plates, 17.3ms\n",
      "12: 640x640 2 plates, 17.3ms\n",
      "13: 640x640 1 plate, 17.3ms\n",
      "14: 640x640 2 plates, 17.3ms\n",
      "15: 640x640 1 plate, 17.3ms\n",
      "Speed: 7.1ms preprocess, 17.3ms inference, 1.2ms postprocess per image at shape (1, 3, 640, 640)\n",
      "Yolo results are generated for batch 2 \n",
      "\n",
      "Found Bounding Boxes\n",
      "Images were cropped \n",
      "\n",
      "conf=0.5, show=False, save=False\n",
      "Running inference on Image\n",
      "\n",
      "0: 640x640 1 plate, 17.3ms\n",
      "1: 640x640 2 plates, 17.3ms\n",
      "2: 640x640 1 plate, 17.3ms\n",
      "3: 640x640 2 plates, 17.3ms\n",
      "4: 640x640 1 plate, 17.3ms\n",
      "5: 640x640 2 plates, 17.3ms\n",
      "6: 640x640 1 plate, 17.3ms\n",
      "7: 640x640 1 plate, 17.3ms\n",
      "8: 640x640 2 plates, 17.3ms\n",
      "9: 640x640 1 plate, 17.3ms\n",
      "10: 640x640 1 plate, 17.3ms\n",
      "11: 640x640 1 plate, 17.3ms\n",
      "12: 640x640 1 plate, 17.3ms\n",
      "13: 640x640 1 plate, 17.3ms\n",
      "14: 640x640 2 plates, 17.3ms\n",
      "15: 640x640 2 plates, 17.3ms\n",
      "Speed: 9.3ms preprocess, 17.3ms inference, 1.1ms postprocess per image at shape (1, 3, 640, 640)\n",
      "Yolo results are generated for batch 3 \n",
      "\n",
      "Found Bounding Boxes\n",
      "Images were cropped \n",
      "\n",
      "conf=0.5, show=False, save=False\n",
      "Running inference on Image\n",
      "\n",
      "0: 640x640 2 plates, 17.2ms\n",
      "1: 640x640 1 plate, 17.2ms\n",
      "2: 640x640 1 plate, 17.2ms\n",
      "3: 640x640 (no detections), 17.2ms\n",
      "4: 640x640 1 plate, 17.2ms\n",
      "5: 640x640 1 plate, 17.2ms\n",
      "6: 640x640 2 plates, 17.2ms\n",
      "7: 640x640 1 plate, 17.2ms\n",
      "8: 640x640 1 plate, 17.2ms\n",
      "9: 640x640 1 plate, 17.2ms\n",
      "10: 640x640 1 plate, 17.2ms\n",
      "11: 640x640 2 plates, 17.2ms\n",
      "12: 640x640 2 plates, 17.2ms\n",
      "13: 640x640 (no detections), 17.2ms\n",
      "14: 640x640 1 plate, 17.2ms\n",
      "15: 640x640 1 plate, 17.2ms\n",
      "Speed: 13.8ms preprocess, 17.2ms inference, 1.0ms postprocess per image at shape (1, 3, 640, 640)\n",
      "Yolo results are generated for batch 4 \n",
      "\n",
      "Found Bounding Boxes\n",
      "Images were cropped \n",
      "\n",
      "conf=0.5, show=False, save=False\n",
      "Running inference on Image\n",
      "\n",
      "0: 640x640 1 plate, 17.2ms\n",
      "1: 640x640 1 plate, 17.2ms\n",
      "2: 640x640 1 plate, 17.2ms\n",
      "3: 640x640 1 plate, 17.2ms\n",
      "4: 640x640 3 plates, 17.2ms\n",
      "5: 640x640 1 plate, 17.2ms\n",
      "6: 640x640 1 plate, 17.2ms\n",
      "7: 640x640 1 plate, 17.2ms\n",
      "8: 640x640 3 plates, 17.2ms\n",
      "9: 640x640 3 plates, 17.2ms\n",
      "10: 640x640 2 plates, 17.2ms\n",
      "11: 640x640 1 plate, 17.2ms\n",
      "12: 640x640 1 plate, 17.2ms\n",
      "13: 640x640 1 plate, 17.2ms\n",
      "14: 640x640 1 plate, 17.2ms\n",
      "15: 640x640 1 plate, 17.2ms\n",
      "Speed: 9.7ms preprocess, 17.2ms inference, 1.0ms postprocess per image at shape (1, 3, 640, 640)\n",
      "Yolo results are generated for batch 5 \n",
      "\n",
      "Found Bounding Boxes\n",
      "Images were cropped \n",
      "\n",
      "conf=0.5, show=False, save=False\n",
      "Running inference on Image\n",
      "\n",
      "0: 640x640 2 plates, 17.3ms\n",
      "1: 640x640 1 plate, 17.3ms\n",
      "2: 640x640 2 plates, 17.3ms\n",
      "3: 640x640 1 plate, 17.3ms\n",
      "4: 640x640 2 plates, 17.3ms\n",
      "5: 640x640 2 plates, 17.3ms\n",
      "6: 640x640 2 plates, 17.3ms\n",
      "7: 640x640 2 plates, 17.3ms\n",
      "8: 640x640 3 plates, 17.3ms\n",
      "9: 640x640 1 plate, 17.3ms\n",
      "10: 640x640 1 plate, 17.3ms\n",
      "11: 640x640 2 plates, 17.3ms\n",
      "12: 640x640 1 plate, 17.3ms\n",
      "13: 640x640 1 plate, 17.3ms\n",
      "14: 640x640 1 plate, 17.3ms\n",
      "15: 640x640 1 plate, 17.3ms\n",
      "Speed: 12.9ms preprocess, 17.3ms inference, 1.3ms postprocess per image at shape (1, 3, 640, 640)\n",
      "Yolo results are generated for batch 6 \n",
      "\n",
      "Found Bounding Boxes\n",
      "Images were cropped \n",
      "\n",
      "conf=0.5, show=False, save=False\n",
      "Running inference on Image\n",
      "\n",
      "0: 640x640 1 plate, 17.2ms\n",
      "1: 640x640 2 plates, 17.2ms\n",
      "2: 640x640 1 plate, 17.2ms\n",
      "3: 640x640 1 plate, 17.2ms\n",
      "4: 640x640 1 plate, 17.2ms\n",
      "5: 640x640 1 plate, 17.2ms\n",
      "6: 640x640 1 plate, 17.2ms\n",
      "7: 640x640 (no detections), 17.2ms\n",
      "8: 640x640 2 plates, 17.2ms\n",
      "9: 640x640 1 plate, 17.2ms\n",
      "10: 640x640 3 plates, 17.2ms\n",
      "11: 640x640 1 plate, 17.2ms\n",
      "12: 640x640 1 plate, 17.2ms\n",
      "13: 640x640 1 plate, 17.2ms\n",
      "14: 640x640 1 plate, 17.2ms\n",
      "15: 640x640 1 plate, 17.2ms\n",
      "Speed: 12.7ms preprocess, 17.2ms inference, 1.1ms postprocess per image at shape (1, 3, 640, 640)\n",
      "Yolo results are generated for batch 7 \n",
      "\n",
      "Found Bounding Boxes\n",
      "Images were cropped \n",
      "\n",
      "conf=0.5, show=False, save=False\n",
      "Running inference on Image\n",
      "\n",
      "0: 640x640 2 plates, 20.2ms\n",
      "1: 640x640 1 plate, 20.2ms\n",
      "2: 640x640 2 plates, 20.2ms\n",
      "3: 640x640 1 plate, 20.2ms\n",
      "4: 640x640 1 plate, 20.2ms\n",
      "5: 640x640 1 plate, 20.2ms\n",
      "6: 640x640 1 plate, 20.2ms\n",
      "7: 640x640 1 plate, 20.2ms\n",
      "8: 640x640 4 plates, 20.2ms\n",
      "9: 640x640 (no detections), 20.2ms\n",
      "10: 640x640 1 plate, 20.2ms\n",
      "Speed: 4.4ms preprocess, 20.2ms inference, 1.2ms postprocess per image at shape (1, 3, 640, 640)\n",
      "Yolo results are generated for batch 8 \n",
      "\n",
      "Found Bounding Boxes\n",
      "Images were cropped \n",
      "\n",
      "All images were cropped successfully\n"
     ]
    }
   ],
   "source": [
    "cropped_out = inference.run_full_pipeline(images)"
   ]
  },
  {
   "cell_type": "code",
   "execution_count": 6,
   "metadata": {},
   "outputs": [
    {
     "name": "stderr",
     "output_type": "stream",
     "text": [
      "Saving images: 100%|██████████| 190/190 [00:00<00:00, 689.37file/s]"
     ]
    },
    {
     "name": "stdout",
     "output_type": "stream",
     "text": [
      "Files were saved successfully in C:/Users/Alireza/Desktop/plates/ \n",
      "\n"
     ]
    },
    {
     "name": "stderr",
     "output_type": "stream",
     "text": [
      "\n"
     ]
    }
   ],
   "source": [
    "output_dir = \"C:/Users/Alireza/Desktop/plates/\"\n",
    "IMUtils.save_cropped_images(cropped_out, output_dir)"
   ]
  },
  {
   "cell_type": "markdown",
   "metadata": {},
   "source": [
    "# test"
   ]
  },
  {
   "cell_type": "code",
   "execution_count": 1,
   "metadata": {},
   "outputs": [],
   "source": [
    "import os"
   ]
  },
  {
   "cell_type": "code",
   "execution_count": 2,
   "metadata": {},
   "outputs": [],
   "source": [
    "image_dir = \"C:/Users/Alireza/Desktop/plate_data/data/images\"\n",
    "label_dir = \"C:/Users/Alireza/Desktop/plate_data/data/labels\""
   ]
  },
  {
   "cell_type": "code",
   "execution_count": 3,
   "metadata": {},
   "outputs": [],
   "source": [
    "images = os.listdir(image_dir)\n",
    "labels = os.listdir(label_dir)"
   ]
  },
  {
   "cell_type": "code",
   "execution_count": 6,
   "metadata": {},
   "outputs": [],
   "source": [
    "from sklearn.model_selection import train_test_split"
   ]
  },
  {
   "cell_type": "code",
   "execution_count": 20,
   "metadata": {},
   "outputs": [],
   "source": [
    "image_train, image_test, labels_train, labels_test = train_test_split(images, labels, test_size=0.2, random_state=42, shuffle=True)"
   ]
  },
  {
   "cell_type": "code",
   "execution_count": 19,
   "metadata": {},
   "outputs": [],
   "source": [
    "os.makedirs(\"C:/Users/Alireza/Desktop/plate_data/train\", exist_ok=True)\n",
    "os.makedirs(\"C:/Users/Alireza/Desktop/plate_data/valid\", exist_ok=True)\n",
    "os.makedirs(\"C:/Users/Alireza/Desktop/plate_data/train/images\", exist_ok=True)\n",
    "os.makedirs(\"C:/Users/Alireza/Desktop/plate_data/valid/images\", exist_ok=True)\n",
    "os.makedirs(\"C:/Users/Alireza/Desktop/plate_data/train/labels\", exist_ok=True)\n",
    "os.makedirs(\"C:/Users/Alireza/Desktop/plate_data/valid/labels\", exist_ok=True)"
   ]
  },
  {
   "cell_type": "code",
   "execution_count": 13,
   "metadata": {},
   "outputs": [],
   "source": [
    "import shutil"
   ]
  },
  {
   "cell_type": "code",
   "execution_count": 21,
   "metadata": {},
   "outputs": [],
   "source": [
    "for img in image_train:\n",
    "    source_path = os.path.join(image_dir, img)\n",
    "    destination_path = f\"C:/Users/Alireza/Desktop/plate_data/train/images/{img}\"\n",
    "    shutil.copy2(source_path, destination_path)\n",
    "\n",
    "for label in labels_train:\n",
    "    source_path = os.path.join(label_dir, label)\n",
    "    destination_path = f\"C:/Users/Alireza/Desktop/plate_data/train/labels/{label}\"\n",
    "    shutil.copy2(source_path, destination_path)"
   ]
  },
  {
   "cell_type": "code",
   "execution_count": 22,
   "metadata": {},
   "outputs": [],
   "source": [
    "for img in image_test:\n",
    "    source_path = os.path.join(image_dir, img)\n",
    "    destination_path = f\"C:/Users/Alireza/Desktop/plate_data/valid/images/{img}\"\n",
    "    shutil.copy2(source_path, destination_path)\n",
    "\n",
    "# Move labels to the labels directory\n",
    "for label in labels_test:\n",
    "    source_path = os.path.join(label_dir, label)\n",
    "    destination_path = f\"C:/Users/Alireza/Desktop/plate_data/valid/labels/{label}\"\n",
    "    shutil.copy2(source_path, destination_path)"
   ]
  },
  {
   "cell_type": "code",
   "execution_count": null,
   "metadata": {},
   "outputs": [],
   "source": [
    "dst_points = np.array([[0, 0], [image_width, 0], [image_width, image_height], [0, image_height]], dtype=np.float32)\n",
    "src_points  = np.array(list(shape_corners.values()), dtype=np.float32)\n",
    "\n",
    "M = cv2.getPerspectiveTransform(src_points, dst_points)\n",
    "rectified_image = cv2.warpPerspective(gray_image_1, M, (image_width, image_height))\n",
    "\n",
    "plt.imshow(rectified_image, cmap='gray')\n",
    "plt.axis('off')\n",
    "plt.show()"
   ]
  },
  {
   "cell_type": "markdown",
   "metadata": {},
   "source": [
    "# test 2"
   ]
  },
  {
   "cell_type": "code",
   "execution_count": 1,
   "metadata": {},
   "outputs": [],
   "source": [
    "from services.ai_services.my_models import Plate_ResNet\n",
    "import services.ai_services.utils as AIUtils\n",
    "from torch.utils.data import DataLoader"
   ]
  },
  {
   "cell_type": "code",
   "execution_count": 17,
   "metadata": {},
   "outputs": [
    {
     "name": "stdout",
     "output_type": "stream",
     "text": [
      "NVIDIA GeForce GTX 1660 Ti have been located and selected\n",
      "Selected model is ResNetType.Base\n",
      "ResNet18\n",
      "======================================================================\n",
      "Layer (type:depth-idx)                        Param #\n",
      "======================================================================\n",
      "CustomResNet                                  --\n",
      "├─ResNet: 1-1                                 --\n",
      "│    └─Conv2d: 2-1                            9,408\n",
      "│    └─BatchNorm2d: 2-2                       128\n",
      "│    └─ReLU: 2-3                              --\n",
      "│    └─MaxPool2d: 2-4                         --\n",
      "│    └─Sequential: 2-5                        --\n",
      "│    │    └─BasicBlock: 3-1                   73,984\n",
      "│    │    └─BasicBlock: 3-2                   73,984\n",
      "│    └─Sequential: 2-6                        --\n",
      "│    │    └─BasicBlock: 3-3                   230,144\n",
      "│    │    └─BasicBlock: 3-4                   295,424\n",
      "│    └─Sequential: 2-7                        --\n",
      "│    │    └─BasicBlock: 3-5                   919,040\n",
      "│    │    └─BasicBlock: 3-6                   1,180,672\n",
      "│    └─Sequential: 2-8                        --\n",
      "│    │    └─BasicBlock: 3-7                   3,673,088\n",
      "│    │    └─BasicBlock: 3-8                   4,720,640\n",
      "│    └─AdaptiveAvgPool2d: 2-9                 --\n",
      "│    └─Dropout: 2-10                          --\n",
      "├─Sequential: 1-2                             --\n",
      "│    └─Linear: 2-11                           65,664\n",
      "│    └─SiLU: 2-12                             --\n",
      "│    └─Linear: 2-13                           4,128\n",
      "│    └─SiLU: 2-14                             --\n",
      "├─Linear: 1-3                                 66\n",
      "├─Linear: 1-4                                 66\n",
      "├─Linear: 1-5                                 66\n",
      "├─Linear: 1-6                                 66\n",
      "======================================================================\n",
      "Total params: 11,246,568\n",
      "Trainable params: 11,246,568\n",
      "Non-trainable params: 0\n",
      "====================================================================== \n",
      "\n"
     ]
    }
   ],
   "source": [
    "device = AIUtils.select_device()\n",
    "res = Plate_ResNet(device=device)"
   ]
  },
  {
   "cell_type": "code",
   "execution_count": 18,
   "metadata": {},
   "outputs": [
    {
     "name": "stdout",
     "output_type": "stream",
     "text": [
      "Start freezing feature extractor ...\n",
      "Feature extractor freezed\n",
      "Model is in cuda\n",
      "======================================================================\n",
      "Layer (type:depth-idx)                        Param #\n",
      "======================================================================\n",
      "CustomResNet                                  --\n",
      "├─ResNet: 1-1                                 --\n",
      "│    └─Conv2d: 2-1                            (9,408)\n",
      "│    └─BatchNorm2d: 2-2                       (128)\n",
      "│    └─ReLU: 2-3                              --\n",
      "│    └─MaxPool2d: 2-4                         --\n",
      "│    └─Sequential: 2-5                        --\n",
      "│    │    └─BasicBlock: 3-1                   (73,984)\n",
      "│    │    └─BasicBlock: 3-2                   (73,984)\n",
      "│    └─Sequential: 2-6                        --\n",
      "│    │    └─BasicBlock: 3-3                   (230,144)\n",
      "│    │    └─BasicBlock: 3-4                   (295,424)\n",
      "│    └─Sequential: 2-7                        --\n",
      "│    │    └─BasicBlock: 3-5                   (919,040)\n",
      "│    │    └─BasicBlock: 3-6                   (1,180,672)\n",
      "│    └─Sequential: 2-8                        --\n",
      "│    │    └─BasicBlock: 3-7                   (3,673,088)\n",
      "│    │    └─BasicBlock: 3-8                   (4,720,640)\n",
      "│    └─AdaptiveAvgPool2d: 2-9                 --\n",
      "│    └─Dropout: 2-10                          --\n",
      "├─Sequential: 1-2                             --\n",
      "│    └─Linear: 2-11                           65,664\n",
      "│    └─SiLU: 2-12                             --\n",
      "│    └─Linear: 2-13                           4,128\n",
      "│    └─SiLU: 2-14                             --\n",
      "├─Linear: 1-3                                 66\n",
      "├─Linear: 1-4                                 66\n",
      "├─Linear: 1-5                                 66\n",
      "├─Linear: 1-6                                 66\n",
      "======================================================================\n",
      "Total params: 11,246,568\n",
      "Trainable params: 70,056\n",
      "Non-trainable params: 11,176,512\n",
      "======================================================================\n"
     ]
    }
   ],
   "source": [
    "res.freeze_unfreeze(True)\n",
    "res.write_summary()"
   ]
  },
  {
   "cell_type": "code",
   "execution_count": 19,
   "metadata": {},
   "outputs": [],
   "source": [
    "train_dataset = AIUtils.CustomResNetDataset(\"C:/Users/Alireza/Desktop/plate_data/train/images\",\n",
    "                                            \"C:/Users/Alireza/Desktop/plate_data/train/labels\")\n",
    "train_loader = DataLoader(train_dataset, 16, shuffle=True)\n",
    "\n",
    "valid_dataset = AIUtils.CustomResNetDataset(\"C:/Users/Alireza/Desktop/plate_data/valid/images\",\n",
    "                                            \"C:/Users/Alireza/Desktop/plate_data/valid/labels\")\n",
    "valid_loader = DataLoader(valid_dataset, 16, shuffle=True)"
   ]
  },
  {
   "cell_type": "code",
   "execution_count": 20,
   "metadata": {},
   "outputs": [],
   "source": [
    "import torch.nn as nn\n",
    "import torch.optim as optim"
   ]
  },
  {
   "cell_type": "code",
   "execution_count": 22,
   "metadata": {},
   "outputs": [
    {
     "name": "stdout",
     "output_type": "stream",
     "text": [
      "Starting training process for model ResNetType.Base ...\n",
      "Hyper Parameters:\n",
      "- Epochs Number = 150\n",
      "- Learning Rate = 0.001\n",
      "- Weight Decay = 0.001\n",
      "- Loss Function = MSELoss()\n",
      "- Optimizer = Adam (\n",
      "Parameter Group 0\n",
      "    amsgrad: False\n",
      "    betas: (0.9, 0.999)\n",
      "    capturable: False\n",
      "    differentiable: False\n",
      "    eps: 1e-08\n",
      "    foreach: None\n",
      "    fused: None\n",
      "    lr: 0.001\n",
      "    maximize: False\n",
      "    weight_decay: 0.001\n",
      ") \n",
      "\n"
     ]
    },
    {
     "name": "stderr",
     "output_type": "stream",
     "text": [
      "                                                                  \r"
     ]
    },
    {
     "name": "stdout",
     "output_type": "stream",
     "text": [
      "Epoch  0: Train loss=0.175, Val loss=0.027\n"
     ]
    },
    {
     "name": "stderr",
     "output_type": "stream",
     "text": [
      "                                                                  \r"
     ]
    },
    {
     "name": "stdout",
     "output_type": "stream",
     "text": [
      "Epoch  1: Train loss=0.151, Val loss=0.007\n"
     ]
    },
    {
     "name": "stderr",
     "output_type": "stream",
     "text": [
      "                                                                  \r"
     ]
    },
    {
     "name": "stdout",
     "output_type": "stream",
     "text": [
      "Epoch  2: Train loss=0.097, Val loss=0.009\n"
     ]
    },
    {
     "name": "stderr",
     "output_type": "stream",
     "text": [
      "                                                                  \r"
     ]
    },
    {
     "name": "stdout",
     "output_type": "stream",
     "text": [
      "Epoch  3: Train loss=0.104, Val loss=0.016\n"
     ]
    },
    {
     "name": "stderr",
     "output_type": "stream",
     "text": [
      "                                                                  \r"
     ]
    },
    {
     "name": "stdout",
     "output_type": "stream",
     "text": [
      "Epoch  4: Train loss=0.215, Val loss=0.021\n"
     ]
    },
    {
     "name": "stderr",
     "output_type": "stream",
     "text": [
      "                                                                  \r"
     ]
    },
    {
     "name": "stdout",
     "output_type": "stream",
     "text": [
      "Epoch  5: Train loss=0.087, Val loss=0.008\n"
     ]
    },
    {
     "name": "stderr",
     "output_type": "stream",
     "text": [
      "                                                                  \r"
     ]
    },
    {
     "name": "stdout",
     "output_type": "stream",
     "text": [
      "Epoch  6: Train loss=0.189, Val loss=0.011\n"
     ]
    },
    {
     "name": "stderr",
     "output_type": "stream",
     "text": [
      "                                                                  \r"
     ]
    },
    {
     "name": "stdout",
     "output_type": "stream",
     "text": [
      "Epoch  7: Train loss=0.281, Val loss=0.005\n"
     ]
    },
    {
     "name": "stderr",
     "output_type": "stream",
     "text": [
      "                                                                  \r"
     ]
    },
    {
     "name": "stdout",
     "output_type": "stream",
     "text": [
      "Epoch  8: Train loss=0.155, Val loss=0.015\n"
     ]
    },
    {
     "name": "stderr",
     "output_type": "stream",
     "text": [
      "                                                                  \r"
     ]
    },
    {
     "name": "stdout",
     "output_type": "stream",
     "text": [
      "Epoch  9: Train loss=0.056, Val loss=0.005\n"
     ]
    },
    {
     "name": "stderr",
     "output_type": "stream",
     "text": [
      "                                                                  \r"
     ]
    },
    {
     "name": "stdout",
     "output_type": "stream",
     "text": [
      "Epoch 10: Train loss=0.140, Val loss=0.011\n"
     ]
    },
    {
     "name": "stderr",
     "output_type": "stream",
     "text": [
      "                                                                  \r"
     ]
    },
    {
     "name": "stdout",
     "output_type": "stream",
     "text": [
      "Epoch 11: Train loss=0.076, Val loss=0.015\n"
     ]
    },
    {
     "name": "stderr",
     "output_type": "stream",
     "text": [
      "                                                                  \r"
     ]
    },
    {
     "name": "stdout",
     "output_type": "stream",
     "text": [
      "Epoch 12: Train loss=0.126, Val loss=0.022\n"
     ]
    },
    {
     "name": "stderr",
     "output_type": "stream",
     "text": [
      "                                                                  \r"
     ]
    },
    {
     "name": "stdout",
     "output_type": "stream",
     "text": [
      "Epoch 13: Train loss=0.106, Val loss=0.008\n"
     ]
    },
    {
     "name": "stderr",
     "output_type": "stream",
     "text": [
      "                                                                  \r"
     ]
    },
    {
     "name": "stdout",
     "output_type": "stream",
     "text": [
      "Epoch 14: Train loss=0.162, Val loss=0.012\n"
     ]
    },
    {
     "name": "stderr",
     "output_type": "stream",
     "text": [
      "                                                                  \r"
     ]
    },
    {
     "name": "stdout",
     "output_type": "stream",
     "text": [
      "Epoch 15: Train loss=0.128, Val loss=0.006\n"
     ]
    },
    {
     "name": "stderr",
     "output_type": "stream",
     "text": [
      "                                                                  \r"
     ]
    },
    {
     "name": "stdout",
     "output_type": "stream",
     "text": [
      "Epoch 16: Train loss=0.183, Val loss=0.030\n"
     ]
    },
    {
     "name": "stderr",
     "output_type": "stream",
     "text": [
      "                                                                  \r"
     ]
    },
    {
     "name": "stdout",
     "output_type": "stream",
     "text": [
      "Epoch 17: Train loss=0.162, Val loss=0.002\n"
     ]
    },
    {
     "name": "stderr",
     "output_type": "stream",
     "text": [
      "                                                                  \r"
     ]
    },
    {
     "name": "stdout",
     "output_type": "stream",
     "text": [
      "Epoch 18: Train loss=0.098, Val loss=0.010\n"
     ]
    },
    {
     "name": "stderr",
     "output_type": "stream",
     "text": [
      "                                                                  \r"
     ]
    },
    {
     "name": "stdout",
     "output_type": "stream",
     "text": [
      "Epoch 19: Train loss=0.178, Val loss=0.010\n"
     ]
    },
    {
     "name": "stderr",
     "output_type": "stream",
     "text": [
      "                                                                  \r"
     ]
    },
    {
     "name": "stdout",
     "output_type": "stream",
     "text": [
      "Epoch 20: Train loss=0.362, Val loss=0.017\n"
     ]
    },
    {
     "name": "stderr",
     "output_type": "stream",
     "text": [
      "                                                                  \r"
     ]
    },
    {
     "name": "stdout",
     "output_type": "stream",
     "text": [
      "Epoch 21: Train loss=0.128, Val loss=0.015\n"
     ]
    },
    {
     "name": "stderr",
     "output_type": "stream",
     "text": [
      "                                                                  \r"
     ]
    },
    {
     "name": "stdout",
     "output_type": "stream",
     "text": [
      "Epoch 22: Train loss=0.144, Val loss=0.010\n"
     ]
    },
    {
     "name": "stderr",
     "output_type": "stream",
     "text": [
      "                                                                  \r"
     ]
    },
    {
     "name": "stdout",
     "output_type": "stream",
     "text": [
      "Epoch 23: Train loss=0.136, Val loss=0.002\n"
     ]
    },
    {
     "name": "stderr",
     "output_type": "stream",
     "text": [
      "                                                                  \r"
     ]
    },
    {
     "name": "stdout",
     "output_type": "stream",
     "text": [
      "Epoch 24: Train loss=0.246, Val loss=0.012\n"
     ]
    },
    {
     "name": "stderr",
     "output_type": "stream",
     "text": [
      "                                                                  \r"
     ]
    },
    {
     "name": "stdout",
     "output_type": "stream",
     "text": [
      "Epoch 25: Train loss=0.064, Val loss=0.003\n"
     ]
    },
    {
     "name": "stderr",
     "output_type": "stream",
     "text": [
      "                                                                  \r"
     ]
    },
    {
     "name": "stdout",
     "output_type": "stream",
     "text": [
      "Epoch 26: Train loss=0.328, Val loss=0.066\n"
     ]
    },
    {
     "name": "stderr",
     "output_type": "stream",
     "text": [
      "                                                                  \r"
     ]
    },
    {
     "name": "stdout",
     "output_type": "stream",
     "text": [
      "Epoch 27: Train loss=0.129, Val loss=0.003\n"
     ]
    },
    {
     "name": "stderr",
     "output_type": "stream",
     "text": [
      "                                                                  \r"
     ]
    },
    {
     "name": "stdout",
     "output_type": "stream",
     "text": [
      "Epoch 28: Train loss=0.082, Val loss=0.006\n"
     ]
    },
    {
     "name": "stderr",
     "output_type": "stream",
     "text": [
      "                                                                  \r"
     ]
    },
    {
     "name": "stdout",
     "output_type": "stream",
     "text": [
      "Epoch 29: Train loss=0.096, Val loss=0.004\n"
     ]
    },
    {
     "name": "stderr",
     "output_type": "stream",
     "text": [
      "                                                                  \r"
     ]
    },
    {
     "name": "stdout",
     "output_type": "stream",
     "text": [
      "Epoch 30: Train loss=0.606, Val loss=0.032\n"
     ]
    },
    {
     "name": "stderr",
     "output_type": "stream",
     "text": [
      "                                                                  \r"
     ]
    },
    {
     "name": "stdout",
     "output_type": "stream",
     "text": [
      "Epoch 31: Train loss=0.304, Val loss=0.008\n"
     ]
    },
    {
     "name": "stderr",
     "output_type": "stream",
     "text": [
      "                                                                  \r"
     ]
    },
    {
     "name": "stdout",
     "output_type": "stream",
     "text": [
      "Epoch 32: Train loss=0.316, Val loss=0.012\n"
     ]
    },
    {
     "name": "stderr",
     "output_type": "stream",
     "text": [
      "                                                                  \r"
     ]
    },
    {
     "name": "stdout",
     "output_type": "stream",
     "text": [
      "Epoch 33: Train loss=0.151, Val loss=0.009\n"
     ]
    },
    {
     "name": "stderr",
     "output_type": "stream",
     "text": [
      "                                                                  \r"
     ]
    },
    {
     "name": "stdout",
     "output_type": "stream",
     "text": [
      "Epoch 34: Train loss=0.177, Val loss=0.024\n"
     ]
    },
    {
     "name": "stderr",
     "output_type": "stream",
     "text": [
      "                                                                  \r"
     ]
    },
    {
     "name": "stdout",
     "output_type": "stream",
     "text": [
      "Epoch 35: Train loss=0.133, Val loss=0.004\n"
     ]
    },
    {
     "name": "stderr",
     "output_type": "stream",
     "text": [
      "                                                                  \r"
     ]
    },
    {
     "name": "stdout",
     "output_type": "stream",
     "text": [
      "Epoch 36: Train loss=0.046, Val loss=0.019\n"
     ]
    },
    {
     "name": "stderr",
     "output_type": "stream",
     "text": [
      "                                                                  \r"
     ]
    },
    {
     "name": "stdout",
     "output_type": "stream",
     "text": [
      "Epoch 37: Train loss=0.104, Val loss=0.003\n"
     ]
    },
    {
     "name": "stderr",
     "output_type": "stream",
     "text": [
      "                                                                  \r"
     ]
    },
    {
     "name": "stdout",
     "output_type": "stream",
     "text": [
      "Epoch 38: Train loss=0.066, Val loss=0.009\n"
     ]
    },
    {
     "name": "stderr",
     "output_type": "stream",
     "text": [
      "                                                                  \r"
     ]
    },
    {
     "name": "stdout",
     "output_type": "stream",
     "text": [
      "Epoch 39: Train loss=0.080, Val loss=0.004\n"
     ]
    },
    {
     "name": "stderr",
     "output_type": "stream",
     "text": [
      "                                                                  \r"
     ]
    },
    {
     "name": "stdout",
     "output_type": "stream",
     "text": [
      "Epoch 40: Train loss=0.469, Val loss=0.164\n"
     ]
    },
    {
     "name": "stderr",
     "output_type": "stream",
     "text": [
      "                                                                  \r"
     ]
    },
    {
     "name": "stdout",
     "output_type": "stream",
     "text": [
      "Epoch 41: Train loss=0.429, Val loss=0.005\n"
     ]
    },
    {
     "name": "stderr",
     "output_type": "stream",
     "text": [
      "                                                                  \r"
     ]
    },
    {
     "name": "stdout",
     "output_type": "stream",
     "text": [
      "Epoch 42: Train loss=0.132, Val loss=0.004\n"
     ]
    },
    {
     "name": "stderr",
     "output_type": "stream",
     "text": [
      "                                                                  \r"
     ]
    },
    {
     "name": "stdout",
     "output_type": "stream",
     "text": [
      "Epoch 43: Train loss=0.326, Val loss=0.018\n"
     ]
    },
    {
     "name": "stderr",
     "output_type": "stream",
     "text": [
      "                                                                  \r"
     ]
    },
    {
     "name": "stdout",
     "output_type": "stream",
     "text": [
      "Epoch 44: Train loss=0.163, Val loss=0.002\n"
     ]
    },
    {
     "name": "stderr",
     "output_type": "stream",
     "text": [
      "                                                                  \r"
     ]
    },
    {
     "name": "stdout",
     "output_type": "stream",
     "text": [
      "Epoch 45: Train loss=0.131, Val loss=0.009\n"
     ]
    },
    {
     "name": "stderr",
     "output_type": "stream",
     "text": [
      "                                                                  \r"
     ]
    },
    {
     "name": "stdout",
     "output_type": "stream",
     "text": [
      "Epoch 46: Train loss=0.129, Val loss=0.010\n"
     ]
    },
    {
     "name": "stderr",
     "output_type": "stream",
     "text": [
      "                                                                  \r"
     ]
    },
    {
     "name": "stdout",
     "output_type": "stream",
     "text": [
      "Epoch 47: Train loss=0.529, Val loss=0.049\n"
     ]
    },
    {
     "name": "stderr",
     "output_type": "stream",
     "text": [
      "                                                                  \r"
     ]
    },
    {
     "name": "stdout",
     "output_type": "stream",
     "text": [
      "Epoch 48: Train loss=0.454, Val loss=0.014\n"
     ]
    },
    {
     "name": "stderr",
     "output_type": "stream",
     "text": [
      "                                                                  \r"
     ]
    },
    {
     "name": "stdout",
     "output_type": "stream",
     "text": [
      "Epoch 49: Train loss=0.182, Val loss=0.023\n"
     ]
    },
    {
     "name": "stderr",
     "output_type": "stream",
     "text": [
      "                                                                  \r"
     ]
    },
    {
     "name": "stdout",
     "output_type": "stream",
     "text": [
      "Epoch 50: Train loss=0.193, Val loss=0.027\n"
     ]
    },
    {
     "name": "stderr",
     "output_type": "stream",
     "text": [
      "                                                                  \r"
     ]
    },
    {
     "name": "stdout",
     "output_type": "stream",
     "text": [
      "Epoch 51: Train loss=0.178, Val loss=0.023\n"
     ]
    },
    {
     "name": "stderr",
     "output_type": "stream",
     "text": [
      "                                                                  \r"
     ]
    },
    {
     "name": "stdout",
     "output_type": "stream",
     "text": [
      "Epoch 52: Train loss=0.103, Val loss=0.004\n"
     ]
    },
    {
     "name": "stderr",
     "output_type": "stream",
     "text": [
      "                                                                  \r"
     ]
    },
    {
     "name": "stdout",
     "output_type": "stream",
     "text": [
      "Epoch 53: Train loss=0.132, Val loss=0.011\n"
     ]
    },
    {
     "name": "stderr",
     "output_type": "stream",
     "text": [
      "                                                                  \r"
     ]
    },
    {
     "name": "stdout",
     "output_type": "stream",
     "text": [
      "Epoch 54: Train loss=0.088, Val loss=0.002\n"
     ]
    },
    {
     "name": "stderr",
     "output_type": "stream",
     "text": [
      "                                                                  \r"
     ]
    },
    {
     "name": "stdout",
     "output_type": "stream",
     "text": [
      "Epoch 55: Train loss=0.050, Val loss=0.005\n"
     ]
    },
    {
     "name": "stderr",
     "output_type": "stream",
     "text": [
      "                                                                  \r"
     ]
    },
    {
     "name": "stdout",
     "output_type": "stream",
     "text": [
      "Epoch 56: Train loss=0.184, Val loss=0.003\n"
     ]
    },
    {
     "name": "stderr",
     "output_type": "stream",
     "text": [
      "                                                                  \r"
     ]
    },
    {
     "name": "stdout",
     "output_type": "stream",
     "text": [
      "Epoch 57: Train loss=0.145, Val loss=0.005\n"
     ]
    },
    {
     "name": "stderr",
     "output_type": "stream",
     "text": [
      "                                                                  \r"
     ]
    },
    {
     "name": "stdout",
     "output_type": "stream",
     "text": [
      "Epoch 58: Train loss=0.104, Val loss=0.005\n"
     ]
    },
    {
     "name": "stderr",
     "output_type": "stream",
     "text": [
      "                                                                  \r"
     ]
    },
    {
     "name": "stdout",
     "output_type": "stream",
     "text": [
      "Epoch 59: Train loss=0.178, Val loss=0.007\n"
     ]
    },
    {
     "name": "stderr",
     "output_type": "stream",
     "text": [
      "                                                                  \r"
     ]
    },
    {
     "name": "stdout",
     "output_type": "stream",
     "text": [
      "Epoch 60: Train loss=0.338, Val loss=0.005\n"
     ]
    },
    {
     "name": "stderr",
     "output_type": "stream",
     "text": [
      "                                                                  \r"
     ]
    },
    {
     "name": "stdout",
     "output_type": "stream",
     "text": [
      "Epoch 61: Train loss=0.093, Val loss=0.003\n"
     ]
    },
    {
     "name": "stderr",
     "output_type": "stream",
     "text": [
      "                                                                  \r"
     ]
    },
    {
     "name": "stdout",
     "output_type": "stream",
     "text": [
      "Epoch 62: Train loss=0.179, Val loss=0.021\n"
     ]
    },
    {
     "name": "stderr",
     "output_type": "stream",
     "text": [
      "                                                                  \r"
     ]
    },
    {
     "name": "stdout",
     "output_type": "stream",
     "text": [
      "Epoch 63: Train loss=0.094, Val loss=0.004\n"
     ]
    },
    {
     "name": "stderr",
     "output_type": "stream",
     "text": [
      "                                                                  \r"
     ]
    },
    {
     "name": "stdout",
     "output_type": "stream",
     "text": [
      "Epoch 64: Train loss=0.043, Val loss=0.003\n"
     ]
    },
    {
     "name": "stderr",
     "output_type": "stream",
     "text": [
      "                                                                  \r"
     ]
    },
    {
     "name": "stdout",
     "output_type": "stream",
     "text": [
      "Epoch 65: Train loss=0.244, Val loss=0.001\n"
     ]
    },
    {
     "name": "stderr",
     "output_type": "stream",
     "text": [
      "                                                                  \r"
     ]
    },
    {
     "name": "stdout",
     "output_type": "stream",
     "text": [
      "Epoch 66: Train loss=0.055, Val loss=0.003\n"
     ]
    },
    {
     "name": "stderr",
     "output_type": "stream",
     "text": [
      "                                                                  \r"
     ]
    },
    {
     "name": "stdout",
     "output_type": "stream",
     "text": [
      "Epoch 67: Train loss=0.215, Val loss=0.015\n"
     ]
    },
    {
     "name": "stderr",
     "output_type": "stream",
     "text": [
      "                                                                  \r"
     ]
    },
    {
     "name": "stdout",
     "output_type": "stream",
     "text": [
      "Epoch 68: Train loss=0.103, Val loss=0.005\n"
     ]
    },
    {
     "name": "stderr",
     "output_type": "stream",
     "text": [
      "                                                                  \r"
     ]
    },
    {
     "name": "stdout",
     "output_type": "stream",
     "text": [
      "Epoch 69: Train loss=0.097, Val loss=0.008\n"
     ]
    },
    {
     "name": "stderr",
     "output_type": "stream",
     "text": [
      "                                                                  \r"
     ]
    },
    {
     "name": "stdout",
     "output_type": "stream",
     "text": [
      "Epoch 70: Train loss=0.294, Val loss=0.020\n"
     ]
    },
    {
     "name": "stderr",
     "output_type": "stream",
     "text": [
      "                                                                  \r"
     ]
    },
    {
     "name": "stdout",
     "output_type": "stream",
     "text": [
      "Epoch 71: Train loss=0.215, Val loss=0.007\n"
     ]
    },
    {
     "name": "stderr",
     "output_type": "stream",
     "text": [
      "                                                                  \r"
     ]
    },
    {
     "name": "stdout",
     "output_type": "stream",
     "text": [
      "Epoch 72: Train loss=0.140, Val loss=0.007\n"
     ]
    },
    {
     "name": "stderr",
     "output_type": "stream",
     "text": [
      "                                                                  \r"
     ]
    },
    {
     "name": "stdout",
     "output_type": "stream",
     "text": [
      "Epoch 73: Train loss=0.204, Val loss=0.014\n"
     ]
    },
    {
     "name": "stderr",
     "output_type": "stream",
     "text": [
      "                                                                  \r"
     ]
    },
    {
     "name": "stdout",
     "output_type": "stream",
     "text": [
      "Epoch 74: Train loss=0.054, Val loss=0.014\n"
     ]
    },
    {
     "name": "stderr",
     "output_type": "stream",
     "text": [
      "                                                                  \r"
     ]
    },
    {
     "name": "stdout",
     "output_type": "stream",
     "text": [
      "Epoch 75: Train loss=0.248, Val loss=0.003\n"
     ]
    },
    {
     "name": "stderr",
     "output_type": "stream",
     "text": [
      "                                                                  \r"
     ]
    },
    {
     "name": "stdout",
     "output_type": "stream",
     "text": [
      "Epoch 76: Train loss=0.174, Val loss=0.006\n"
     ]
    },
    {
     "name": "stderr",
     "output_type": "stream",
     "text": [
      "                                                                  \r"
     ]
    },
    {
     "name": "stdout",
     "output_type": "stream",
     "text": [
      "Epoch 77: Train loss=0.096, Val loss=0.005\n"
     ]
    },
    {
     "name": "stderr",
     "output_type": "stream",
     "text": [
      "                                                                  \r"
     ]
    },
    {
     "name": "stdout",
     "output_type": "stream",
     "text": [
      "Epoch 78: Train loss=0.223, Val loss=0.020\n"
     ]
    },
    {
     "name": "stderr",
     "output_type": "stream",
     "text": [
      "                                                                  \r"
     ]
    },
    {
     "name": "stdout",
     "output_type": "stream",
     "text": [
      "Epoch 79: Train loss=0.644, Val loss=0.023\n"
     ]
    },
    {
     "name": "stderr",
     "output_type": "stream",
     "text": [
      "                                                                  \r"
     ]
    },
    {
     "name": "stdout",
     "output_type": "stream",
     "text": [
      "Epoch 80: Train loss=0.160, Val loss=0.004\n"
     ]
    },
    {
     "name": "stderr",
     "output_type": "stream",
     "text": [
      "                                                                  \r"
     ]
    },
    {
     "name": "stdout",
     "output_type": "stream",
     "text": [
      "Epoch 81: Train loss=0.131, Val loss=0.011\n"
     ]
    },
    {
     "name": "stderr",
     "output_type": "stream",
     "text": [
      "                                                                  \r"
     ]
    },
    {
     "name": "stdout",
     "output_type": "stream",
     "text": [
      "Epoch 82: Train loss=0.131, Val loss=0.005\n"
     ]
    },
    {
     "name": "stderr",
     "output_type": "stream",
     "text": [
      "                                                                  \r"
     ]
    },
    {
     "name": "stdout",
     "output_type": "stream",
     "text": [
      "Epoch 83: Train loss=0.327, Val loss=0.017\n"
     ]
    },
    {
     "name": "stderr",
     "output_type": "stream",
     "text": [
      "                                                                  \r"
     ]
    },
    {
     "name": "stdout",
     "output_type": "stream",
     "text": [
      "Epoch 84: Train loss=0.088, Val loss=0.015\n"
     ]
    },
    {
     "name": "stderr",
     "output_type": "stream",
     "text": [
      "                                                                  \r"
     ]
    },
    {
     "name": "stdout",
     "output_type": "stream",
     "text": [
      "Epoch 85: Train loss=0.072, Val loss=0.008\n"
     ]
    },
    {
     "name": "stderr",
     "output_type": "stream",
     "text": [
      "                                                                  \r"
     ]
    },
    {
     "name": "stdout",
     "output_type": "stream",
     "text": [
      "Epoch 86: Train loss=0.124, Val loss=0.005\n"
     ]
    },
    {
     "name": "stderr",
     "output_type": "stream",
     "text": [
      "                                                                  \r"
     ]
    },
    {
     "name": "stdout",
     "output_type": "stream",
     "text": [
      "Epoch 87: Train loss=0.147, Val loss=0.009\n"
     ]
    },
    {
     "name": "stderr",
     "output_type": "stream",
     "text": [
      "                                                                  \r"
     ]
    },
    {
     "name": "stdout",
     "output_type": "stream",
     "text": [
      "Epoch 88: Train loss=0.092, Val loss=0.005\n"
     ]
    },
    {
     "name": "stderr",
     "output_type": "stream",
     "text": [
      "                                                                  \r"
     ]
    },
    {
     "name": "stdout",
     "output_type": "stream",
     "text": [
      "Epoch 89: Train loss=0.062, Val loss=0.004\n"
     ]
    },
    {
     "name": "stderr",
     "output_type": "stream",
     "text": [
      "                                                                  \r"
     ]
    },
    {
     "name": "stdout",
     "output_type": "stream",
     "text": [
      "Epoch 90: Train loss=0.042, Val loss=0.005\n"
     ]
    },
    {
     "name": "stderr",
     "output_type": "stream",
     "text": [
      "                                                                  \r"
     ]
    },
    {
     "name": "stdout",
     "output_type": "stream",
     "text": [
      "Epoch 91: Train loss=0.066, Val loss=0.007\n"
     ]
    },
    {
     "name": "stderr",
     "output_type": "stream",
     "text": [
      "                                                                  \r"
     ]
    },
    {
     "name": "stdout",
     "output_type": "stream",
     "text": [
      "Epoch 92: Train loss=0.204, Val loss=0.027\n"
     ]
    },
    {
     "name": "stderr",
     "output_type": "stream",
     "text": [
      "                                                                  \r"
     ]
    },
    {
     "name": "stdout",
     "output_type": "stream",
     "text": [
      "Epoch 93: Train loss=0.081, Val loss=0.003\n"
     ]
    },
    {
     "name": "stderr",
     "output_type": "stream",
     "text": [
      "                                                                  \r"
     ]
    },
    {
     "name": "stdout",
     "output_type": "stream",
     "text": [
      "Epoch 94: Train loss=0.078, Val loss=0.006\n"
     ]
    },
    {
     "name": "stderr",
     "output_type": "stream",
     "text": [
      "                                                                  \r"
     ]
    },
    {
     "name": "stdout",
     "output_type": "stream",
     "text": [
      "Epoch 95: Train loss=0.083, Val loss=0.007\n"
     ]
    },
    {
     "name": "stderr",
     "output_type": "stream",
     "text": [
      "                                                                  \r"
     ]
    },
    {
     "name": "stdout",
     "output_type": "stream",
     "text": [
      "Epoch 96: Train loss=0.249, Val loss=0.004\n"
     ]
    },
    {
     "name": "stderr",
     "output_type": "stream",
     "text": [
      "                                                                  \r"
     ]
    },
    {
     "name": "stdout",
     "output_type": "stream",
     "text": [
      "Epoch 97: Train loss=0.247, Val loss=0.004\n"
     ]
    },
    {
     "name": "stderr",
     "output_type": "stream",
     "text": [
      "                                                                  \r"
     ]
    },
    {
     "name": "stdout",
     "output_type": "stream",
     "text": [
      "Epoch 98: Train loss=0.107, Val loss=0.002\n"
     ]
    },
    {
     "name": "stderr",
     "output_type": "stream",
     "text": [
      "                                                                   \r"
     ]
    },
    {
     "name": "stdout",
     "output_type": "stream",
     "text": [
      "Epoch 99: Train loss=0.053, Val loss=0.002\n"
     ]
    },
    {
     "name": "stderr",
     "output_type": "stream",
     "text": [
      "                                                                   \r"
     ]
    },
    {
     "name": "stdout",
     "output_type": "stream",
     "text": [
      "Epoch 100: Train loss=0.093, Val loss=0.007\n"
     ]
    },
    {
     "name": "stderr",
     "output_type": "stream",
     "text": [
      "                                                                   \r"
     ]
    },
    {
     "name": "stdout",
     "output_type": "stream",
     "text": [
      "Epoch 101: Train loss=0.091, Val loss=0.018\n"
     ]
    },
    {
     "name": "stderr",
     "output_type": "stream",
     "text": [
      "                                                                   \r"
     ]
    },
    {
     "name": "stdout",
     "output_type": "stream",
     "text": [
      "Epoch 102: Train loss=0.081, Val loss=0.002\n"
     ]
    },
    {
     "name": "stderr",
     "output_type": "stream",
     "text": [
      "                                                                   \r"
     ]
    },
    {
     "name": "stdout",
     "output_type": "stream",
     "text": [
      "Epoch 103: Train loss=0.156, Val loss=0.002\n"
     ]
    },
    {
     "name": "stderr",
     "output_type": "stream",
     "text": [
      "                                                                   \r"
     ]
    },
    {
     "name": "stdout",
     "output_type": "stream",
     "text": [
      "Epoch 104: Train loss=0.069, Val loss=0.005\n"
     ]
    },
    {
     "name": "stderr",
     "output_type": "stream",
     "text": [
      "                                                                   \r"
     ]
    },
    {
     "name": "stdout",
     "output_type": "stream",
     "text": [
      "Epoch 105: Train loss=0.049, Val loss=0.003\n"
     ]
    },
    {
     "name": "stderr",
     "output_type": "stream",
     "text": [
      "                                                                   \r"
     ]
    },
    {
     "name": "stdout",
     "output_type": "stream",
     "text": [
      "Epoch 106: Train loss=0.075, Val loss=0.004\n"
     ]
    },
    {
     "name": "stderr",
     "output_type": "stream",
     "text": [
      "                                                                   \r"
     ]
    },
    {
     "name": "stdout",
     "output_type": "stream",
     "text": [
      "Epoch 107: Train loss=0.108, Val loss=0.001\n"
     ]
    },
    {
     "name": "stderr",
     "output_type": "stream",
     "text": [
      "                                                                   \r"
     ]
    },
    {
     "name": "stdout",
     "output_type": "stream",
     "text": [
      "Epoch 108: Train loss=0.107, Val loss=0.007\n"
     ]
    },
    {
     "name": "stderr",
     "output_type": "stream",
     "text": [
      "                                                                   \r"
     ]
    },
    {
     "name": "stdout",
     "output_type": "stream",
     "text": [
      "Epoch 109: Train loss=0.054, Val loss=0.002\n"
     ]
    },
    {
     "name": "stderr",
     "output_type": "stream",
     "text": [
      "                                                                   \r"
     ]
    },
    {
     "name": "stdout",
     "output_type": "stream",
     "text": [
      "Epoch 110: Train loss=0.046, Val loss=0.015\n"
     ]
    },
    {
     "name": "stderr",
     "output_type": "stream",
     "text": [
      "                                                                   \r"
     ]
    },
    {
     "name": "stdout",
     "output_type": "stream",
     "text": [
      "Epoch 111: Train loss=0.117, Val loss=0.010\n"
     ]
    },
    {
     "name": "stderr",
     "output_type": "stream",
     "text": [
      "                                                                   \r"
     ]
    },
    {
     "name": "stdout",
     "output_type": "stream",
     "text": [
      "Epoch 112: Train loss=0.090, Val loss=0.014\n"
     ]
    },
    {
     "name": "stderr",
     "output_type": "stream",
     "text": [
      "                                                                   \r"
     ]
    },
    {
     "name": "stdout",
     "output_type": "stream",
     "text": [
      "Epoch 113: Train loss=0.192, Val loss=0.010\n"
     ]
    },
    {
     "name": "stderr",
     "output_type": "stream",
     "text": [
      "                                                                   \r"
     ]
    },
    {
     "name": "stdout",
     "output_type": "stream",
     "text": [
      "Epoch 114: Train loss=0.134, Val loss=0.003\n"
     ]
    },
    {
     "name": "stderr",
     "output_type": "stream",
     "text": [
      "                                                                   \r"
     ]
    },
    {
     "name": "stdout",
     "output_type": "stream",
     "text": [
      "Epoch 115: Train loss=0.030, Val loss=0.003\n"
     ]
    },
    {
     "name": "stderr",
     "output_type": "stream",
     "text": [
      "                                                                   \r"
     ]
    },
    {
     "name": "stdout",
     "output_type": "stream",
     "text": [
      "Epoch 116: Train loss=0.059, Val loss=0.003\n"
     ]
    },
    {
     "name": "stderr",
     "output_type": "stream",
     "text": [
      "                                                                   \r"
     ]
    },
    {
     "name": "stdout",
     "output_type": "stream",
     "text": [
      "Epoch 117: Train loss=0.073, Val loss=0.003\n"
     ]
    },
    {
     "name": "stderr",
     "output_type": "stream",
     "text": [
      "                                                                   \r"
     ]
    },
    {
     "name": "stdout",
     "output_type": "stream",
     "text": [
      "Epoch 118: Train loss=0.197, Val loss=0.025\n"
     ]
    },
    {
     "name": "stderr",
     "output_type": "stream",
     "text": [
      "                                                                   \r"
     ]
    },
    {
     "name": "stdout",
     "output_type": "stream",
     "text": [
      "Epoch 119: Train loss=0.208, Val loss=0.003\n"
     ]
    },
    {
     "name": "stderr",
     "output_type": "stream",
     "text": [
      "                                                                   \r"
     ]
    },
    {
     "name": "stdout",
     "output_type": "stream",
     "text": [
      "Epoch 120: Train loss=0.095, Val loss=0.002\n"
     ]
    },
    {
     "name": "stderr",
     "output_type": "stream",
     "text": [
      "                                                                   \r"
     ]
    },
    {
     "name": "stdout",
     "output_type": "stream",
     "text": [
      "Epoch 121: Train loss=0.401, Val loss=0.017\n"
     ]
    },
    {
     "name": "stderr",
     "output_type": "stream",
     "text": [
      "                                                                   \r"
     ]
    },
    {
     "name": "stdout",
     "output_type": "stream",
     "text": [
      "Epoch 122: Train loss=0.187, Val loss=0.003\n"
     ]
    },
    {
     "name": "stderr",
     "output_type": "stream",
     "text": [
      "                                                                   \r"
     ]
    },
    {
     "name": "stdout",
     "output_type": "stream",
     "text": [
      "Epoch 123: Train loss=0.257, Val loss=0.003\n"
     ]
    },
    {
     "name": "stderr",
     "output_type": "stream",
     "text": [
      "                                                                   \r"
     ]
    },
    {
     "name": "stdout",
     "output_type": "stream",
     "text": [
      "Epoch 124: Train loss=0.051, Val loss=0.003\n"
     ]
    },
    {
     "name": "stderr",
     "output_type": "stream",
     "text": [
      "                                                                   \r"
     ]
    },
    {
     "name": "stdout",
     "output_type": "stream",
     "text": [
      "Epoch 125: Train loss=0.448, Val loss=0.183\n"
     ]
    },
    {
     "name": "stderr",
     "output_type": "stream",
     "text": [
      "                                                                   \r"
     ]
    },
    {
     "name": "stdout",
     "output_type": "stream",
     "text": [
      "Epoch 126: Train loss=0.577, Val loss=0.018\n"
     ]
    },
    {
     "name": "stderr",
     "output_type": "stream",
     "text": [
      "                                                                   \r"
     ]
    },
    {
     "name": "stdout",
     "output_type": "stream",
     "text": [
      "Epoch 127: Train loss=0.299, Val loss=0.011\n"
     ]
    },
    {
     "name": "stderr",
     "output_type": "stream",
     "text": [
      "                                                                   \r"
     ]
    },
    {
     "name": "stdout",
     "output_type": "stream",
     "text": [
      "Epoch 128: Train loss=0.075, Val loss=0.010\n"
     ]
    },
    {
     "name": "stderr",
     "output_type": "stream",
     "text": [
      "                                                                   \r"
     ]
    },
    {
     "name": "stdout",
     "output_type": "stream",
     "text": [
      "Epoch 129: Train loss=0.079, Val loss=0.002\n"
     ]
    },
    {
     "name": "stderr",
     "output_type": "stream",
     "text": [
      "                                                                   \r"
     ]
    },
    {
     "name": "stdout",
     "output_type": "stream",
     "text": [
      "Epoch 130: Train loss=0.183, Val loss=0.006\n"
     ]
    },
    {
     "name": "stderr",
     "output_type": "stream",
     "text": [
      "                                                                   \r"
     ]
    },
    {
     "name": "stdout",
     "output_type": "stream",
     "text": [
      "Epoch 131: Train loss=0.176, Val loss=0.036\n"
     ]
    },
    {
     "name": "stderr",
     "output_type": "stream",
     "text": [
      "                                                                   \r"
     ]
    },
    {
     "name": "stdout",
     "output_type": "stream",
     "text": [
      "Epoch 132: Train loss=0.229, Val loss=0.005\n"
     ]
    },
    {
     "name": "stderr",
     "output_type": "stream",
     "text": [
      "                                                                   \r"
     ]
    },
    {
     "name": "stdout",
     "output_type": "stream",
     "text": [
      "Epoch 133: Train loss=0.148, Val loss=0.005\n"
     ]
    },
    {
     "name": "stderr",
     "output_type": "stream",
     "text": [
      "                                                                   \r"
     ]
    },
    {
     "name": "stdout",
     "output_type": "stream",
     "text": [
      "Epoch 134: Train loss=0.065, Val loss=0.011\n"
     ]
    },
    {
     "name": "stderr",
     "output_type": "stream",
     "text": [
      "                                                                   \r"
     ]
    },
    {
     "name": "stdout",
     "output_type": "stream",
     "text": [
      "Epoch 135: Train loss=0.205, Val loss=0.006\n"
     ]
    },
    {
     "name": "stderr",
     "output_type": "stream",
     "text": [
      "                                                                   \r"
     ]
    },
    {
     "name": "stdout",
     "output_type": "stream",
     "text": [
      "Epoch 136: Train loss=0.114, Val loss=0.017\n"
     ]
    },
    {
     "name": "stderr",
     "output_type": "stream",
     "text": [
      "                                                                   \r"
     ]
    },
    {
     "name": "stdout",
     "output_type": "stream",
     "text": [
      "Epoch 137: Train loss=0.047, Val loss=0.004\n"
     ]
    },
    {
     "name": "stderr",
     "output_type": "stream",
     "text": [
      "                                                                   \r"
     ]
    },
    {
     "name": "stdout",
     "output_type": "stream",
     "text": [
      "Epoch 138: Train loss=0.156, Val loss=0.012\n"
     ]
    },
    {
     "name": "stderr",
     "output_type": "stream",
     "text": [
      "                                                                   \r"
     ]
    },
    {
     "name": "stdout",
     "output_type": "stream",
     "text": [
      "Epoch 139: Train loss=0.173, Val loss=0.013\n"
     ]
    },
    {
     "name": "stderr",
     "output_type": "stream",
     "text": [
      "                                                                   \r"
     ]
    },
    {
     "name": "stdout",
     "output_type": "stream",
     "text": [
      "Epoch 140: Train loss=0.081, Val loss=0.005\n"
     ]
    },
    {
     "name": "stderr",
     "output_type": "stream",
     "text": [
      "                                                                   \r"
     ]
    },
    {
     "name": "stdout",
     "output_type": "stream",
     "text": [
      "Epoch 141: Train loss=0.071, Val loss=0.005\n"
     ]
    },
    {
     "name": "stderr",
     "output_type": "stream",
     "text": [
      "                                                                   \r"
     ]
    },
    {
     "name": "stdout",
     "output_type": "stream",
     "text": [
      "Epoch 142: Train loss=0.028, Val loss=0.002\n"
     ]
    },
    {
     "name": "stderr",
     "output_type": "stream",
     "text": [
      "                                                                   \r"
     ]
    },
    {
     "name": "stdout",
     "output_type": "stream",
     "text": [
      "Epoch 143: Train loss=0.105, Val loss=0.014\n"
     ]
    },
    {
     "name": "stderr",
     "output_type": "stream",
     "text": [
      "                                                                   \r"
     ]
    },
    {
     "name": "stdout",
     "output_type": "stream",
     "text": [
      "Epoch 144: Train loss=0.306, Val loss=0.020\n"
     ]
    },
    {
     "name": "stderr",
     "output_type": "stream",
     "text": [
      "                                                                   \r"
     ]
    },
    {
     "name": "stdout",
     "output_type": "stream",
     "text": [
      "Epoch 145: Train loss=0.123, Val loss=0.024\n"
     ]
    },
    {
     "name": "stderr",
     "output_type": "stream",
     "text": [
      "                                                                   \r"
     ]
    },
    {
     "name": "stdout",
     "output_type": "stream",
     "text": [
      "Epoch 146: Train loss=0.286, Val loss=0.006\n"
     ]
    },
    {
     "name": "stderr",
     "output_type": "stream",
     "text": [
      "                                                                   \r"
     ]
    },
    {
     "name": "stdout",
     "output_type": "stream",
     "text": [
      "Epoch 147: Train loss=0.299, Val loss=0.003\n"
     ]
    },
    {
     "name": "stderr",
     "output_type": "stream",
     "text": [
      "                                                                   \r"
     ]
    },
    {
     "name": "stdout",
     "output_type": "stream",
     "text": [
      "Epoch 148: Train loss=0.076, Val loss=0.017\n"
     ]
    },
    {
     "name": "stderr",
     "output_type": "stream",
     "text": [
      "                                                                   \r"
     ]
    },
    {
     "name": "stdout",
     "output_type": "stream",
     "text": [
      "Epoch 149: Train loss=0.122, Val loss=0.013\n",
      "\n",
      "Training completed\n",
      "Training time: 3 minutes and 5.07 seconds\n"
     ]
    }
   ],
   "source": [
    "lr=0.001\n",
    "weight_decay=0.001\n",
    "optimizer = optim.Adam(res.model.parameters(), lr=lr, weight_decay=weight_decay)\n",
    "criterion = nn.MSELoss()\n",
    "\n",
    "res.train(train_loader,\n",
    "          valid_loader,\n",
    "          optimizer,\n",
    "          weight_decay=weight_decay,\n",
    "          lr=lr,\n",
    "          epochs=150,\n",
    "          loss_fn=criterion)"
   ]
  },
  {
   "cell_type": "code",
   "execution_count": 12,
   "metadata": {},
   "outputs": [],
   "source": [
    "his = res.model_training_history"
   ]
  },
  {
   "cell_type": "code",
   "execution_count": 13,
   "metadata": {},
   "outputs": [],
   "source": [
    "import matplotlib.pyplot as plt"
   ]
  },
  {
   "cell_type": "code",
   "execution_count": 23,
   "metadata": {},
   "outputs": [
    {
     "data": {
      "image/png": "[encoded data removed]",
      "text/plain": [
       "<Figure size 640x480 with 1 Axes>"
      ]
     },
     "metadata": {},
     "output_type": "display_data"
    }
   ],
   "source": [
    "plt.plot(his['train_loss'], label='Training loss')\n",
    "plt.legend()\n",
    "plt.grid()\n",
    "plt.show()"
   ]
  },
  {
   "cell_type": "code",
   "execution_count": 24,
   "metadata": {},
   "outputs": [
    {
     "data": {
      "image/png": "[encoded data removed]",
      "text/plain": [
       "<Figure size 640x480 with 1 Axes>"
      ]
     },
     "metadata": {},
     "output_type": "display_data"
    }
   ],
   "source": [
    "plt.plot(his['valid_loss'], label='Validation loss')\n",
    "plt.legend()\n",
    "plt.grid()\n",
    "plt.show()"
   ]
  },
  {
   "cell_type": "code",
   "execution_count": 39,
   "metadata": {},
   "outputs": [
    {
     "data": {
      "text/plain": [
       "200"
      ]
     },
     "execution_count": 39,
     "metadata": {},
     "output_type": "execute_result"
    }
   ],
   "source": [
    "len(res.model_training_history[\"train_loss\"])"
   ]
  },
  {
   "cell_type": "code",
   "execution_count": 40,
   "metadata": {},
   "outputs": [
    {
     "data": {
      "text/plain": [
       "{'train_loss': [12.31122079672524,\n",
       "  12.169518613967652,\n",
       "  12.05380609774361,\n",
       "  13.832932932308307,\n",
       "  11.55532476163139,\n",
       "  11.241971439446885,\n",
       "  12.218682919828275,\n",
       "  10.275817286092252,\n",
       "  9.620721689047524,\n",
       "  8.933603890025958,\n",
       "  9.422074680511182,\n",
       "  7.60616217177516,\n",
       "  6.845905925519169,\n",
       "  6.656125979682508,\n",
       "  7.122376853284744,\n",
       "  6.225286806734225,\n",
       "  6.333688364242213,\n",
       "  5.641639392596845,\n",
       "  5.52550294528754,\n",
       "  5.650128154328075,\n",
       "  7.01966073033147,\n",
       "  6.136127118485423,\n",
       "  5.158278005191693,\n",
       "  6.498728596745208,\n",
       "  4.861187334639577,\n",
       "  4.58958985935004,\n",
       "  4.43892584365016,\n",
       "  4.555482322034744,\n",
       "  4.525016224041534,\n",
       "  4.446776953749001,\n",
       "  3.7867174239966053,\n",
       "  4.171593029278155,\n",
       "  3.71934085151258,\n",
       "  3.5732831376048324,\n",
       "  3.3029297655002,\n",
       "  2.814945111259485,\n",
       "  2.638572814746406,\n",
       "  2.5817527892871404,\n",
       "  2.6066327079797325,\n",
       "  2.3849838305586064,\n",
       "  1.7053170006115215,\n",
       "  1.7966747344873202,\n",
       "  1.9818355084989017,\n",
       "  2.5530294107552916,\n",
       "  1.4864815903928714,\n",
       "  1.262436741838059,\n",
       "  1.7490667276108227,\n",
       "  1.7633234091079273,\n",
       "  0.9895727383062101,\n",
       "  0.8226170158995607,\n",
       "  0.8379140250599042,\n",
       "  0.7070400250224641,\n",
       "  0.962014877758087,\n",
       "  0.6112752311145917,\n",
       "  0.6523524762723393,\n",
       "  0.9940090971632888,\n",
       "  0.4260121305910543,\n",
       "  0.618345705465006,\n",
       "  0.4286051009790585,\n",
       "  0.2977498941147289,\n",
       "  0.39769569372597596,\n",
       "  1.119885039405701,\n",
       "  0.3741141127321286,\n",
       "  0.8330835701939397,\n",
       "  0.5568531755441294,\n",
       "  0.3553785622691194,\n",
       "  0.11022821249672399,\n",
       "  0.7273822333485174,\n",
       "  0.22293985385102585,\n",
       "  0.33097368916764425,\n",
       "  0.134888853127964,\n",
       "  0.17394711186710637,\n",
       "  0.3237121874531999,\n",
       "  0.2542445514910518,\n",
       "  0.2472512485881964,\n",
       "  0.5468814350164737,\n",
       "  0.716833730094349,\n",
       "  0.44708871079709966,\n",
       "  0.3181775614095572,\n",
       "  0.7721059878413289,\n",
       "  0.44228384974665536,\n",
       "  0.2298577159357528,\n",
       "  1.527930896503095,\n",
       "  1.7903085531898961,\n",
       "  1.7623934517272364,\n",
       "  0.6225710737819489,\n",
       "  0.2162299841737595,\n",
       "  0.2646185780485598,\n",
       "  0.23455686234056758,\n",
       "  0.23778321872503994,\n",
       "  0.3384471076745956,\n",
       "  0.06804661857434355,\n",
       "  0.10817997600323857,\n",
       "  0.13741646178614217,\n",
       "  0.253755124613119,\n",
       "  0.10944812518720048,\n",
       "  0.3248437997251273,\n",
       "  0.3751378653529353,\n",
       "  0.20464541889227236,\n",
       "  0.32639493119602386,\n",
       "  0.23095059623352635,\n",
       "  0.3072371559021191,\n",
       "  0.21233233857078673,\n",
       "  0.3482818603515625,\n",
       "  0.11561162784076727,\n",
       "  0.15853709991747578,\n",
       "  0.19308085334948458,\n",
       "  0.12922263830995406,\n",
       "  0.04612393120226388,\n",
       "  0.1323878864129892,\n",
       "  0.0975493836326721,\n",
       "  0.16256357991276457,\n",
       "  0.16544487072636907,\n",
       "  0.0793464648457,\n",
       "  0.16054833506623778,\n",
       "  0.09001447293705071,\n",
       "  0.2916674141685803,\n",
       "  0.17856856276052066,\n",
       "  0.2552173846065046,\n",
       "  0.11134047096910568,\n",
       "  0.13323002044385235,\n",
       "  0.230956909374688,\n",
       "  0.21227047466241514,\n",
       "  0.16411417513228835,\n",
       "  0.23948179494839505,\n",
       "  0.137663332418131,\n",
       "  0.09273802053433257,\n",
       "  0.27123657811564,\n",
       "  0.1776862342517597,\n",
       "  0.6194824608750998,\n",
       "  0.4374650461605182,\n",
       "  0.3983623029324955,\n",
       "  0.13416516971283446,\n",
       "  0.12168642964225988,\n",
       "  0.05226590458196573,\n",
       "  0.13019697049174445,\n",
       "  0.1483134674949768,\n",
       "  0.1866908088659707,\n",
       "  0.08558753504158971,\n",
       "  0.17856204243132862,\n",
       "  0.10297785018579647,\n",
       "  0.11856512977673223,\n",
       "  0.19350772162976737,\n",
       "  0.18056007848380093,\n",
       "  0.25434214924090204,\n",
       "  0.18133384046463158,\n",
       "  0.06784161211202701,\n",
       "  0.1654517688690283,\n",
       "  0.12973394180639103,\n",
       "  0.059975200567763454,\n",
       "  0.1922753550374089,\n",
       "  0.25557540552303815,\n",
       "  0.26888041145885333,\n",
       "  0.17169530703998603,\n",
       "  0.34932659990109577,\n",
       "  0.22015948798328924,\n",
       "  0.1931452766394082,\n",
       "  0.17470864975414338,\n",
       "  0.22077108267397164,\n",
       "  0.19108874043717552,\n",
       "  0.06892999521078774,\n",
       "  0.07512902451780276,\n",
       "  0.2825230120089107,\n",
       "  0.39751241763178913,\n",
       "  0.1470003828834802,\n",
       "  0.720817395292532,\n",
       "  0.2130112084336936,\n",
       "  0.513944095696885,\n",
       "  0.11557847775590306,\n",
       "  0.13979344474621855,\n",
       "  0.1860179352684143,\n",
       "  0.25083077525178465,\n",
       "  0.15914016333631814,\n",
       "  0.1264505843384959,\n",
       "  0.3940833826034595,\n",
       "  0.32052029740696136,\n",
       "  0.6192349077413638,\n",
       "  0.2533263428904378,\n",
       "  0.10309509423594125,\n",
       "  0.11034045965907673,\n",
       "  0.2398994860176842,\n",
       "  0.11954874885729708,\n",
       "  0.20061539232540435,\n",
       "  0.029938798362073808,\n",
       "  0.10104897837288464,\n",
       "  0.10198376201593076,\n",
       "  0.09520639169711274,\n",
       "  0.1339424791427466,\n",
       "  0.05975930454631964,\n",
       "  0.21442705830826927,\n",
       "  0.24493956642029002,\n",
       "  0.28150069751678564,\n",
       "  0.24657537685796477,\n",
       "  0.21523370224827776,\n",
       "  0.09410946513898076,\n",
       "  0.24953733694058255,\n",
       "  0.19345755775134785,\n",
       "  0.265012576557196,\n",
       "  0.21971605684810552,\n",
       "  0.1580218598484612],\n",
       " 'valid_loss': [0.04371209084233151,\n",
       "  0.08391584927522683,\n",
       "  0.032813138599637186,\n",
       "  0.05512262899664384,\n",
       "  0.06885360162469405,\n",
       "  0.09938519514059718,\n",
       "  0.5347837617125692,\n",
       "  0.11693699752228169,\n",
       "  0.22850333588032784,\n",
       "  0.18670533578607101,\n",
       "  0.18847548810741568,\n",
       "  0.12948666343206092,\n",
       "  0.13482446308377422,\n",
       "  0.27253537238398684,\n",
       "  0.09850788720046418,\n",
       "  0.13012820859498617,\n",
       "  0.10277669641036022,\n",
       "  0.09375718273694002,\n",
       "  0.06335971325258666,\n",
       "  0.1221546704256082,\n",
       "  0.11324550532087495,\n",
       "  0.12845140771020816,\n",
       "  0.06696318372895446,\n",
       "  0.14627236957791484,\n",
       "  0.15100165258480025,\n",
       "  0.1690746983395347,\n",
       "  0.19894634922848473,\n",
       "  0.17403944232795812,\n",
       "  0.14093376111380662,\n",
       "  0.1830867212029952,\n",
       "  0.09115828139872491,\n",
       "  0.2735987796059138,\n",
       "  0.21401361875896213,\n",
       "  0.14543687844578224,\n",
       "  0.12684322308890428,\n",
       "  0.2281024546562871,\n",
       "  0.23571878747095035,\n",
       "  0.3131707589837569,\n",
       "  0.1591716476633579,\n",
       "  0.2494081424761422,\n",
       "  0.21844871134697635,\n",
       "  0.16896173018443433,\n",
       "  0.22869023190268986,\n",
       "  0.22148393075677414,\n",
       "  0.2572472970696944,\n",
       "  0.24821853637695312,\n",
       "  0.1523189906832538,\n",
       "  0.19996673245973226,\n",
       "  0.2113648668120179,\n",
       "  0.14188850982279716,\n",
       "  0.16415329220928723,\n",
       "  0.17374659188186067,\n",
       "  0.1488689470894729,\n",
       "  0.2774557765526108,\n",
       "  0.2160236020631428,\n",
       "  0.1693440811543525,\n",
       "  0.08764463738550114,\n",
       "  0.17715978018845183,\n",
       "  0.12899814074552512,\n",
       "  0.05065835276736489,\n",
       "  0.07521123523953595,\n",
       "  0.2670021057128906,\n",
       "  0.062103325807595554,\n",
       "  0.20612202414983435,\n",
       "  0.0903675948517232,\n",
       "  0.09444277799582179,\n",
       "  0.043403513823883445,\n",
       "  0.03171034704280805,\n",
       "  0.052122635177419156,\n",
       "  0.02366796928116038,\n",
       "  0.01975493189654773,\n",
       "  0.02743552002725722,\n",
       "  0.01734077477756935,\n",
       "  0.07215609127962136,\n",
       "  0.03482268430009673,\n",
       "  0.04154090036319781,\n",
       "  0.16221011439456215,\n",
       "  0.028248648100261446,\n",
       "  0.09138533435290373,\n",
       "  0.015482508683506447,\n",
       "  0.08397852016400688,\n",
       "  0.012408736385876619,\n",
       "  0.3809065999864023,\n",
       "  0.03125580654868597,\n",
       "  0.0380818511866316,\n",
       "  0.010296894779688195,\n",
       "  0.01043013832237147,\n",
       "  0.006394909152501746,\n",
       "  0.010473364516149592,\n",
       "  0.011258722860601884,\n",
       "  0.00651056555253041,\n",
       "  0.01310770722884166,\n",
       "  0.009054870545109617,\n",
       "  0.007460589650311047,\n",
       "  0.019575639616085005,\n",
       "  0.01281884953945498,\n",
       "  0.006707362736327739,\n",
       "  0.05733946908878375,\n",
       "  0.00699879851522325,\n",
       "  0.011283966559398024,\n",
       "  0.005763192342806466,\n",
       "  0.07461846025684211,\n",
       "  0.005412148146689693,\n",
       "  0.0050700601143173025,\n",
       "  0.006315750411794155,\n",
       "  0.004667466199850734,\n",
       "  0.005100971535791325,\n",
       "  0.003842726915697508,\n",
       "  0.002786505071422722,\n",
       "  0.003753002685836599,\n",
       "  0.0065133096296576005,\n",
       "  0.003956052321421949,\n",
       "  0.006676689733432818,\n",
       "  0.005151941429210614,\n",
       "  0.00920860676825801,\n",
       "  0.01169845725916609,\n",
       "  0.06174591523182543,\n",
       "  0.02530773229236844,\n",
       "  0.004743212008778053,\n",
       "  0.028573582444009902,\n",
       "  0.010832850691638415,\n",
       "  0.0031972595407992977,\n",
       "  0.005962756992895392,\n",
       "  0.026146469236929204,\n",
       "  0.004011753239209139,\n",
       "  0.004740695032892348,\n",
       "  0.003751496725444552,\n",
       "  0.012735392473920991,\n",
       "  0.007786083825026886,\n",
       "  0.17697123032581957,\n",
       "  0.007447692412364332,\n",
       "  0.004989033258413967,\n",
       "  0.030897309508504747,\n",
       "  0.015783635875846767,\n",
       "  0.002401380976544151,\n",
       "  0.002769637522818167,\n",
       "  0.007464615604545497,\n",
       "  0.0026025919220115565,\n",
       "  0.003983142632472364,\n",
       "  0.005290943987761872,\n",
       "  0.004162760475013829,\n",
       "  0.004599367138705676,\n",
       "  0.006771587872806984,\n",
       "  0.0028359233578549156,\n",
       "  0.0037641280059573018,\n",
       "  0.030894750281225278,\n",
       "  0.0034701503530333313,\n",
       "  0.03125349479385569,\n",
       "  0.0028974647763409193,\n",
       "  0.006795576856106143,\n",
       "  0.008674359019798569,\n",
       "  0.003050683419915694,\n",
       "  0.004357091233700137,\n",
       "  0.0018547748840307887,\n",
       "  0.0820268196395681,\n",
       "  0.010071043726764147,\n",
       "  0.015069404734840875,\n",
       "  0.0039989661566818815,\n",
       "  0.002083106508737878,\n",
       "  0.002885099453262136,\n",
       "  0.0021123946467532387,\n",
       "  0.007891696465166308,\n",
       "  0.04357210895683192,\n",
       "  0.005529828086684022,\n",
       "  0.0028516767145712165,\n",
       "  0.006677190714244601,\n",
       "  0.003579239302043673,\n",
       "  0.004459984317610535,\n",
       "  0.006735170189338394,\n",
       "  0.0025615190403370917,\n",
       "  0.0017630993565426597,\n",
       "  0.00262165220477913,\n",
       "  0.0031030968397478516,\n",
       "  0.001773019946074184,\n",
       "  0.0034205607975585552,\n",
       "  0.059850559958928747,\n",
       "  0.08327218550669996,\n",
       "  0.0022111116330834884,\n",
       "  0.002602454982226408,\n",
       "  0.0022500146038924593,\n",
       "  0.0024895456772816332,\n",
       "  0.0014915903912314885,\n",
       "  0.002656536577623102,\n",
       "  0.002145381856568252,\n",
       "  0.004255795026127296,\n",
       "  0.0026038470147531243,\n",
       "  0.003446535596364661,\n",
       "  0.0034284244609784475,\n",
       "  0.0025110701216927056,\n",
       "  0.006161159729655785,\n",
       "  0.008700629578361029,\n",
       "  0.0013904762984831122,\n",
       "  0.002095738732362095,\n",
       "  0.014405837541894067,\n",
       "  0.005524203369889079,\n",
       "  0.0074459276621854755,\n",
       "  0.005349290521838997,\n",
       "  0.007390962371343299,\n",
       "  0.018115025532396533,\n",
       "  0.003196849853177614]}"
      ]
     },
     "execution_count": 40,
     "metadata": {},
     "output_type": "execute_result"
    }
   ],
   "source": [
    "res.model_training_history"
   ]
  }
 ],
 "metadata": {
  "kernelspec": {
   "display_name": ".venv",
   "language": "python",
   "name": "python3"
  },
  "language_info": {
   "codemirror_mode": {
    "name": "ipython",
    "version": 3
   },
   "file_extension": ".py",
   "mimetype": "text/x-python",
   "name": "python",
   "nbconvert_exporter": "python",
   "pygments_lexer": "ipython3",
   "version": "3.10.8"
  }
 },
 "nbformat": 4,
 "nbformat_minor": 2
}
