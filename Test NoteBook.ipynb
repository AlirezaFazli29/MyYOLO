{
 "cells": [
  {
   "cell_type": "code",
   "execution_count": 6,
   "metadata": {},
   "outputs": [],
   "source": [
    "from ultralytics import YOLO\n",
    "from torchinfo import summary"
   ]
  },
  {
   "cell_type": "code",
   "execution_count": 4,
   "metadata": {},
   "outputs": [
    {
     "name": "stdout",
     "output_type": "stream",
     "text": [
      "Downloading https://github.com/ultralytics/assets/releases/download/v8.2.0/yolov8n.pt to 'yolov8n.pt'...\n",
      " Download failure, retrying 1/3 https://github.com/ultralytics/assets/releases/download/v8.2.0/yolov8n.pt...\n"
     ]
    }
   ],
   "source": [
    "model = YOLO('yolov8n.pt')  # load a pretrained model (recommended for training)"
   ]
  },
  {
   "cell_type": "code",
   "execution_count": 7,
   "metadata": {},
   "outputs": [
    {
     "data": {
      "text/plain": [
       "================================================================================\n",
       "Layer (type:depth-idx)                                  Param #\n",
       "================================================================================\n",
       "YOLO                                                    --\n",
       "├─DetectionModel: 1-1                                   --\n",
       "│    └─Sequential: 2-1                                  --\n",
       "│    │    └─Conv: 3-1                                   (464)\n",
       "│    │    └─Conv: 3-2                                   (4,672)\n",
       "│    │    └─C2f: 3-3                                    (7,360)\n",
       "│    │    └─Conv: 3-4                                   (18,560)\n",
       "│    │    └─C2f: 3-5                                    (49,664)\n",
       "│    │    └─Conv: 3-6                                   (73,984)\n",
       "│    │    └─C2f: 3-7                                    (197,632)\n",
       "│    │    └─Conv: 3-8                                   (295,424)\n",
       "│    │    └─C2f: 3-9                                    (460,288)\n",
       "│    │    └─SPPF: 3-10                                  (164,608)\n",
       "│    │    └─Upsample: 3-11                              --\n",
       "│    │    └─Concat: 3-12                                --\n",
       "│    │    └─C2f: 3-13                                   (148,224)\n",
       "│    │    └─Upsample: 3-14                              --\n",
       "│    │    └─Concat: 3-15                                --\n",
       "│    │    └─C2f: 3-16                                   (37,248)\n",
       "│    │    └─Conv: 3-17                                  (36,992)\n",
       "│    │    └─Concat: 3-18                                --\n",
       "│    │    └─C2f: 3-19                                   (123,648)\n",
       "│    │    └─Conv: 3-20                                  (147,712)\n",
       "│    │    └─Concat: 3-21                                --\n",
       "│    │    └─C2f: 3-22                                   (493,056)\n",
       "│    │    └─Detect: 3-23                                (897,664)\n",
       "================================================================================\n",
       "Total params: 3,157,200\n",
       "Trainable params: 0\n",
       "Non-trainable params: 3,157,200\n",
       "================================================================================"
      ]
     },
     "execution_count": 7,
     "metadata": {},
     "output_type": "execute_result"
    }
   ],
   "source": [
    "summary(model)"
   ]
  }
 ],
 "metadata": {
  "kernelspec": {
   "display_name": "Python 3",
   "language": "python",
   "name": "python3"
  },
  "language_info": {
   "codemirror_mode": {
    "name": "ipython",
    "version": 3
   },
   "file_extension": ".py",
   "mimetype": "text/x-python",
   "name": "python",
   "nbconvert_exporter": "python",
   "pygments_lexer": "ipython3",
   "version": "3.10.8"
  }
 },
 "nbformat": 4,
 "nbformat_minor": 2
}
